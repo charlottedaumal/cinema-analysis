{
 "cells": [
  {
   "cell_type": "markdown",
   "metadata": {},
   "source": [
    "# <center>Milestone 2</center> "
   ]
  },
  {
   "cell_type": "code",
   "execution_count": 116,
   "metadata": {
    "tags": []
   },
   "outputs": [],
   "source": [
    "import numpy as np\n",
    "import pandas as pd\n",
    "import matplotlib.pyplot as plt\n",
    "import seaborn as sns\n",
    "import json"
   ]
  },
  {
   "cell_type": "markdown",
   "metadata": {},
   "source": [
    "## 1. Data Loading"
   ]
  },
  {
   "cell_type": "code",
   "execution_count": 117,
   "metadata": {
    "tags": []
   },
   "outputs": [],
   "source": [
    "# Paths\n",
    "\n",
    "DATA_PATH = \"data/\"\n",
    "\n",
    "\n",
    "# Specific paths for all datasets\n",
    "\n",
    "MOVIES_FOLDER = DATA_PATH + \"MovieSummaries/\"\n",
    "MOVIES_DATASET = MOVIES_FOLDER + \"movie.metadata.tsv\"\n",
    "CHARACTERS_DATASET = MOVIES_FOLDER + \"character.metadata.tsv\"\n",
    "CHARACTERS_NAMES_DATASET = MOVIES_FOLDER + \"name.clusters.txt\"\n",
    "CHARACTERS_TYPES_DATASET = MOVIES_FOLDER + \"tvtropes.clusters.txt\"\n",
    "PLOTS_DATASET = MOVIES_FOLDER + \"plot_summaries.txt\"\n",
    "ETHNICITIES_DATASET = MOVIES_FOLDER + \"ethnicities.wikidata.csv\""
   ]
  },
  {
   "cell_type": "code",
   "execution_count": 118,
   "metadata": {
    "tags": []
   },
   "outputs": [
    {
     "data": {
      "text/html": [
       "<div>\n",
       "<style scoped>\n",
       "    .dataframe tbody tr th:only-of-type {\n",
       "        vertical-align: middle;\n",
       "    }\n",
       "\n",
       "    .dataframe tbody tr th {\n",
       "        vertical-align: top;\n",
       "    }\n",
       "\n",
       "    .dataframe thead th {\n",
       "        text-align: right;\n",
       "    }\n",
       "</style>\n",
       "<table border=\"1\" class=\"dataframe\">\n",
       "  <thead>\n",
       "    <tr style=\"text-align: right;\">\n",
       "      <th></th>\n",
       "      <th>id_wiki</th>\n",
       "      <th>id_freebase</th>\n",
       "      <th>name</th>\n",
       "      <th>date</th>\n",
       "      <th>box_office</th>\n",
       "      <th>runtime</th>\n",
       "      <th>lang</th>\n",
       "      <th>country</th>\n",
       "      <th>genre</th>\n",
       "    </tr>\n",
       "  </thead>\n",
       "  <tbody>\n",
       "    <tr>\n",
       "      <th>0</th>\n",
       "      <td>975900</td>\n",
       "      <td>/m/03vyhn</td>\n",
       "      <td>Ghosts of Mars</td>\n",
       "      <td>2001-08-24</td>\n",
       "      <td>14010832.0</td>\n",
       "      <td>98.0</td>\n",
       "      <td>{\"/m/02h40lc\": \"English Language\"}</td>\n",
       "      <td>{\"/m/09c7w0\": \"United States of America\"}</td>\n",
       "      <td>{\"/m/01jfsb\": \"Thriller\", \"/m/06n90\": \"Science...</td>\n",
       "    </tr>\n",
       "    <tr>\n",
       "      <th>1</th>\n",
       "      <td>3196793</td>\n",
       "      <td>/m/08yl5d</td>\n",
       "      <td>Getting Away with Murder: The JonBenét Ramsey ...</td>\n",
       "      <td>2000-02-16</td>\n",
       "      <td>NaN</td>\n",
       "      <td>95.0</td>\n",
       "      <td>{\"/m/02h40lc\": \"English Language\"}</td>\n",
       "      <td>{\"/m/09c7w0\": \"United States of America\"}</td>\n",
       "      <td>{\"/m/02n4kr\": \"Mystery\", \"/m/03bxz7\": \"Biograp...</td>\n",
       "    </tr>\n",
       "    <tr>\n",
       "      <th>2</th>\n",
       "      <td>28463795</td>\n",
       "      <td>/m/0crgdbh</td>\n",
       "      <td>Brun bitter</td>\n",
       "      <td>1988</td>\n",
       "      <td>NaN</td>\n",
       "      <td>83.0</td>\n",
       "      <td>{\"/m/05f_3\": \"Norwegian Language\"}</td>\n",
       "      <td>{\"/m/05b4w\": \"Norway\"}</td>\n",
       "      <td>{\"/m/0lsxr\": \"Crime Fiction\", \"/m/07s9rl0\": \"D...</td>\n",
       "    </tr>\n",
       "    <tr>\n",
       "      <th>3</th>\n",
       "      <td>9363483</td>\n",
       "      <td>/m/0285_cd</td>\n",
       "      <td>White Of The Eye</td>\n",
       "      <td>1987</td>\n",
       "      <td>NaN</td>\n",
       "      <td>110.0</td>\n",
       "      <td>{\"/m/02h40lc\": \"English Language\"}</td>\n",
       "      <td>{\"/m/07ssc\": \"United Kingdom\"}</td>\n",
       "      <td>{\"/m/01jfsb\": \"Thriller\", \"/m/0glj9q\": \"Erotic...</td>\n",
       "    </tr>\n",
       "    <tr>\n",
       "      <th>4</th>\n",
       "      <td>261236</td>\n",
       "      <td>/m/01mrr1</td>\n",
       "      <td>A Woman in Flames</td>\n",
       "      <td>1983</td>\n",
       "      <td>NaN</td>\n",
       "      <td>106.0</td>\n",
       "      <td>{\"/m/04306rv\": \"German Language\"}</td>\n",
       "      <td>{\"/m/0345h\": \"Germany\"}</td>\n",
       "      <td>{\"/m/07s9rl0\": \"Drama\"}</td>\n",
       "    </tr>\n",
       "  </tbody>\n",
       "</table>\n",
       "</div>"
      ],
      "text/plain": [
       "    id_wiki id_freebase                                               name  \\\n",
       "0    975900   /m/03vyhn                                     Ghosts of Mars   \n",
       "1   3196793   /m/08yl5d  Getting Away with Murder: The JonBenét Ramsey ...   \n",
       "2  28463795  /m/0crgdbh                                        Brun bitter   \n",
       "3   9363483  /m/0285_cd                                   White Of The Eye   \n",
       "4    261236   /m/01mrr1                                  A Woman in Flames   \n",
       "\n",
       "         date  box_office  runtime                                lang  \\\n",
       "0  2001-08-24  14010832.0     98.0  {\"/m/02h40lc\": \"English Language\"}   \n",
       "1  2000-02-16         NaN     95.0  {\"/m/02h40lc\": \"English Language\"}   \n",
       "2        1988         NaN     83.0  {\"/m/05f_3\": \"Norwegian Language\"}   \n",
       "3        1987         NaN    110.0  {\"/m/02h40lc\": \"English Language\"}   \n",
       "4        1983         NaN    106.0   {\"/m/04306rv\": \"German Language\"}   \n",
       "\n",
       "                                     country  \\\n",
       "0  {\"/m/09c7w0\": \"United States of America\"}   \n",
       "1  {\"/m/09c7w0\": \"United States of America\"}   \n",
       "2                     {\"/m/05b4w\": \"Norway\"}   \n",
       "3             {\"/m/07ssc\": \"United Kingdom\"}   \n",
       "4                    {\"/m/0345h\": \"Germany\"}   \n",
       "\n",
       "                                               genre  \n",
       "0  {\"/m/01jfsb\": \"Thriller\", \"/m/06n90\": \"Science...  \n",
       "1  {\"/m/02n4kr\": \"Mystery\", \"/m/03bxz7\": \"Biograp...  \n",
       "2  {\"/m/0lsxr\": \"Crime Fiction\", \"/m/07s9rl0\": \"D...  \n",
       "3  {\"/m/01jfsb\": \"Thriller\", \"/m/0glj9q\": \"Erotic...  \n",
       "4                            {\"/m/07s9rl0\": \"Drama\"}  "
      ]
     },
     "execution_count": 118,
     "metadata": {},
     "output_type": "execute_result"
    }
   ],
   "source": [
    "# Load movies metadata\n",
    "\n",
    "movies = pd.read_csv(MOVIES_DATASET, sep='\\t', names=['id_wiki','id_freebase','name','date',\n",
    "                                                      'box_office','runtime','lang','country','genre'])\n",
    "movies.head()"
   ]
  },
  {
   "cell_type": "code",
   "execution_count": 119,
   "metadata": {
    "tags": []
   },
   "outputs": [
    {
     "data": {
      "text/html": [
       "<div>\n",
       "<style scoped>\n",
       "    .dataframe tbody tr th:only-of-type {\n",
       "        vertical-align: middle;\n",
       "    }\n",
       "\n",
       "    .dataframe tbody tr th {\n",
       "        vertical-align: top;\n",
       "    }\n",
       "\n",
       "    .dataframe thead th {\n",
       "        text-align: right;\n",
       "    }\n",
       "</style>\n",
       "<table border=\"1\" class=\"dataframe\">\n",
       "  <thead>\n",
       "    <tr style=\"text-align: right;\">\n",
       "      <th></th>\n",
       "      <th>id_wiki_movie</th>\n",
       "      <th>id_freebase_movie</th>\n",
       "      <th>movie_release_date</th>\n",
       "      <th>character_name</th>\n",
       "      <th>actor_birth_date</th>\n",
       "      <th>actor_gender</th>\n",
       "      <th>actor_height</th>\n",
       "      <th>actor_ethnicity_freebase_id</th>\n",
       "      <th>actor_name</th>\n",
       "      <th>actor_age_movie_release</th>\n",
       "      <th>character_actor_freebase_map_id</th>\n",
       "      <th>character_id_freebase</th>\n",
       "      <th>actor_id_freebase</th>\n",
       "    </tr>\n",
       "  </thead>\n",
       "  <tbody>\n",
       "    <tr>\n",
       "      <th>0</th>\n",
       "      <td>975900</td>\n",
       "      <td>/m/03vyhn</td>\n",
       "      <td>2001-08-24</td>\n",
       "      <td>Akooshay</td>\n",
       "      <td>1958-08-26</td>\n",
       "      <td>F</td>\n",
       "      <td>1.620</td>\n",
       "      <td>NaN</td>\n",
       "      <td>Wanda De Jesus</td>\n",
       "      <td>42.0</td>\n",
       "      <td>/m/0bgchxw</td>\n",
       "      <td>/m/0bgcj3x</td>\n",
       "      <td>/m/03wcfv7</td>\n",
       "    </tr>\n",
       "    <tr>\n",
       "      <th>1</th>\n",
       "      <td>975900</td>\n",
       "      <td>/m/03vyhn</td>\n",
       "      <td>2001-08-24</td>\n",
       "      <td>Lieutenant Melanie Ballard</td>\n",
       "      <td>1974-08-15</td>\n",
       "      <td>F</td>\n",
       "      <td>1.780</td>\n",
       "      <td>/m/044038p</td>\n",
       "      <td>Natasha Henstridge</td>\n",
       "      <td>27.0</td>\n",
       "      <td>/m/0jys3m</td>\n",
       "      <td>/m/0bgchn4</td>\n",
       "      <td>/m/0346l4</td>\n",
       "    </tr>\n",
       "    <tr>\n",
       "      <th>2</th>\n",
       "      <td>975900</td>\n",
       "      <td>/m/03vyhn</td>\n",
       "      <td>2001-08-24</td>\n",
       "      <td>Desolation Williams</td>\n",
       "      <td>1969-06-15</td>\n",
       "      <td>M</td>\n",
       "      <td>1.727</td>\n",
       "      <td>/m/0x67</td>\n",
       "      <td>Ice Cube</td>\n",
       "      <td>32.0</td>\n",
       "      <td>/m/0jys3g</td>\n",
       "      <td>/m/0bgchn_</td>\n",
       "      <td>/m/01vw26l</td>\n",
       "    </tr>\n",
       "    <tr>\n",
       "      <th>3</th>\n",
       "      <td>975900</td>\n",
       "      <td>/m/03vyhn</td>\n",
       "      <td>2001-08-24</td>\n",
       "      <td>Sgt Jericho Butler</td>\n",
       "      <td>1967-09-12</td>\n",
       "      <td>M</td>\n",
       "      <td>1.750</td>\n",
       "      <td>NaN</td>\n",
       "      <td>Jason Statham</td>\n",
       "      <td>33.0</td>\n",
       "      <td>/m/02vchl6</td>\n",
       "      <td>/m/0bgchnq</td>\n",
       "      <td>/m/034hyc</td>\n",
       "    </tr>\n",
       "    <tr>\n",
       "      <th>4</th>\n",
       "      <td>975900</td>\n",
       "      <td>/m/03vyhn</td>\n",
       "      <td>2001-08-24</td>\n",
       "      <td>Bashira Kincaid</td>\n",
       "      <td>1977-09-25</td>\n",
       "      <td>F</td>\n",
       "      <td>1.650</td>\n",
       "      <td>NaN</td>\n",
       "      <td>Clea DuVall</td>\n",
       "      <td>23.0</td>\n",
       "      <td>/m/02vbb3r</td>\n",
       "      <td>/m/0bgchp9</td>\n",
       "      <td>/m/01y9xg</td>\n",
       "    </tr>\n",
       "  </tbody>\n",
       "</table>\n",
       "</div>"
      ],
      "text/plain": [
       "   id_wiki_movie id_freebase_movie movie_release_date  \\\n",
       "0         975900         /m/03vyhn         2001-08-24   \n",
       "1         975900         /m/03vyhn         2001-08-24   \n",
       "2         975900         /m/03vyhn         2001-08-24   \n",
       "3         975900         /m/03vyhn         2001-08-24   \n",
       "4         975900         /m/03vyhn         2001-08-24   \n",
       "\n",
       "               character_name actor_birth_date actor_gender  actor_height  \\\n",
       "0                    Akooshay       1958-08-26            F         1.620   \n",
       "1  Lieutenant Melanie Ballard       1974-08-15            F         1.780   \n",
       "2         Desolation Williams       1969-06-15            M         1.727   \n",
       "3          Sgt Jericho Butler       1967-09-12            M         1.750   \n",
       "4             Bashira Kincaid       1977-09-25            F         1.650   \n",
       "\n",
       "  actor_ethnicity_freebase_id          actor_name  actor_age_movie_release  \\\n",
       "0                         NaN      Wanda De Jesus                     42.0   \n",
       "1                  /m/044038p  Natasha Henstridge                     27.0   \n",
       "2                     /m/0x67            Ice Cube                     32.0   \n",
       "3                         NaN       Jason Statham                     33.0   \n",
       "4                         NaN         Clea DuVall                     23.0   \n",
       "\n",
       "  character_actor_freebase_map_id character_id_freebase actor_id_freebase  \n",
       "0                      /m/0bgchxw            /m/0bgcj3x        /m/03wcfv7  \n",
       "1                       /m/0jys3m            /m/0bgchn4         /m/0346l4  \n",
       "2                       /m/0jys3g            /m/0bgchn_        /m/01vw26l  \n",
       "3                      /m/02vchl6            /m/0bgchnq         /m/034hyc  \n",
       "4                      /m/02vbb3r            /m/0bgchp9         /m/01y9xg  "
      ]
     },
     "execution_count": 119,
     "metadata": {},
     "output_type": "execute_result"
    }
   ],
   "source": [
    "# Load characters metadata\n",
    "\n",
    "characters = pd.read_csv(CHARACTERS_DATASET, sep='\\t', names=['id_wiki_movie', 'id_freebase_movie', 'movie_release_date', 'character_name',\n",
    "                                                      'actor_birth_date','actor_gender', 'actor_height', 'actor_ethnicity_freebase_id', 'actor_name',\n",
    "                                                      'actor_age_movie_release', 'character_actor_freebase_map_id', 'character_id_freebase',\n",
    "                                                      'actor_id_freebase'])\n",
    "characters.head()"
   ]
  },
  {
   "cell_type": "code",
   "execution_count": 120,
   "metadata": {
    "tags": []
   },
   "outputs": [
    {
     "data": {
      "text/html": [
       "<div>\n",
       "<style scoped>\n",
       "    .dataframe tbody tr th:only-of-type {\n",
       "        vertical-align: middle;\n",
       "    }\n",
       "\n",
       "    .dataframe tbody tr th {\n",
       "        vertical-align: top;\n",
       "    }\n",
       "\n",
       "    .dataframe thead th {\n",
       "        text-align: right;\n",
       "    }\n",
       "</style>\n",
       "<table border=\"1\" class=\"dataframe\">\n",
       "  <thead>\n",
       "    <tr style=\"text-align: right;\">\n",
       "      <th></th>\n",
       "      <th>character_name</th>\n",
       "      <th>character_actor_freebase_map_id</th>\n",
       "    </tr>\n",
       "  </thead>\n",
       "  <tbody>\n",
       "    <tr>\n",
       "      <th>0</th>\n",
       "      <td>Stuart Little</td>\n",
       "      <td>/m/0k3w9c</td>\n",
       "    </tr>\n",
       "    <tr>\n",
       "      <th>1</th>\n",
       "      <td>Stuart Little</td>\n",
       "      <td>/m/0k3wcx</td>\n",
       "    </tr>\n",
       "    <tr>\n",
       "      <th>2</th>\n",
       "      <td>Stuart Little</td>\n",
       "      <td>/m/0k3wbn</td>\n",
       "    </tr>\n",
       "    <tr>\n",
       "      <th>3</th>\n",
       "      <td>John Doe</td>\n",
       "      <td>/m/0jyg35</td>\n",
       "    </tr>\n",
       "    <tr>\n",
       "      <th>4</th>\n",
       "      <td>John Doe</td>\n",
       "      <td>/m/0k2_zn</td>\n",
       "    </tr>\n",
       "  </tbody>\n",
       "</table>\n",
       "</div>"
      ],
      "text/plain": [
       "  character_name character_actor_freebase_map_id\n",
       "0  Stuart Little                       /m/0k3w9c\n",
       "1  Stuart Little                       /m/0k3wcx\n",
       "2  Stuart Little                       /m/0k3wbn\n",
       "3       John Doe                       /m/0jyg35\n",
       "4       John Doe                       /m/0k2_zn"
      ]
     },
     "execution_count": 120,
     "metadata": {},
     "output_type": "execute_result"
    }
   ],
   "source": [
    "# Load characters' names metadata\n",
    "\n",
    "characters_names = pd.read_csv(CHARACTERS_NAMES_DATASET, sep='\\t', names=['character_name', 'character_actor_freebase_map_id'])\n",
    "\n",
    "characters_names.head()"
   ]
  },
  {
   "cell_type": "code",
   "execution_count": 121,
   "metadata": {
    "tags": []
   },
   "outputs": [
    {
     "data": {
      "text/html": [
       "<div>\n",
       "<style scoped>\n",
       "    .dataframe tbody tr th:only-of-type {\n",
       "        vertical-align: middle;\n",
       "    }\n",
       "\n",
       "    .dataframe tbody tr th {\n",
       "        vertical-align: top;\n",
       "    }\n",
       "\n",
       "    .dataframe thead th {\n",
       "        text-align: right;\n",
       "    }\n",
       "</style>\n",
       "<table border=\"1\" class=\"dataframe\">\n",
       "  <thead>\n",
       "    <tr style=\"text-align: right;\">\n",
       "      <th></th>\n",
       "      <th>character_type</th>\n",
       "      <th>character_actor_freebase_map_id</th>\n",
       "    </tr>\n",
       "  </thead>\n",
       "  <tbody>\n",
       "    <tr>\n",
       "      <th>0</th>\n",
       "      <td>absent_minded_professor</td>\n",
       "      <td>{\"char\": \"Professor Philip Brainard\", \"movie\":...</td>\n",
       "    </tr>\n",
       "    <tr>\n",
       "      <th>1</th>\n",
       "      <td>absent_minded_professor</td>\n",
       "      <td>{\"char\": \"Professor Keenbean\", \"movie\": \"Richi...</td>\n",
       "    </tr>\n",
       "    <tr>\n",
       "      <th>2</th>\n",
       "      <td>absent_minded_professor</td>\n",
       "      <td>{\"char\": \"Dr. Reinhardt Lane\", \"movie\": \"The S...</td>\n",
       "    </tr>\n",
       "    <tr>\n",
       "      <th>3</th>\n",
       "      <td>absent_minded_professor</td>\n",
       "      <td>{\"char\": \"Dr. Harold Medford\", \"movie\": \"Them!...</td>\n",
       "    </tr>\n",
       "    <tr>\n",
       "      <th>4</th>\n",
       "      <td>absent_minded_professor</td>\n",
       "      <td>{\"char\": \"Daniel Jackson\", \"movie\": \"Stargate\"...</td>\n",
       "    </tr>\n",
       "  </tbody>\n",
       "</table>\n",
       "</div>"
      ],
      "text/plain": [
       "            character_type                    character_actor_freebase_map_id\n",
       "0  absent_minded_professor  {\"char\": \"Professor Philip Brainard\", \"movie\":...\n",
       "1  absent_minded_professor  {\"char\": \"Professor Keenbean\", \"movie\": \"Richi...\n",
       "2  absent_minded_professor  {\"char\": \"Dr. Reinhardt Lane\", \"movie\": \"The S...\n",
       "3  absent_minded_professor  {\"char\": \"Dr. Harold Medford\", \"movie\": \"Them!...\n",
       "4  absent_minded_professor  {\"char\": \"Daniel Jackson\", \"movie\": \"Stargate\"..."
      ]
     },
     "execution_count": 121,
     "metadata": {},
     "output_type": "execute_result"
    }
   ],
   "source": [
    "# Load characters' types metadata\n",
    "\n",
    "characters_types = pd.read_csv(CHARACTERS_TYPES_DATASET, sep='\\t', names=['character_type', 'character_actor_freebase_map_id'])\n",
    "\n",
    "characters_types.head()"
   ]
  },
  {
   "cell_type": "code",
   "execution_count": 122,
   "metadata": {
    "tags": []
   },
   "outputs": [
    {
     "data": {
      "text/html": [
       "<div>\n",
       "<style scoped>\n",
       "    .dataframe tbody tr th:only-of-type {\n",
       "        vertical-align: middle;\n",
       "    }\n",
       "\n",
       "    .dataframe tbody tr th {\n",
       "        vertical-align: top;\n",
       "    }\n",
       "\n",
       "    .dataframe thead th {\n",
       "        text-align: right;\n",
       "    }\n",
       "</style>\n",
       "<table border=\"1\" class=\"dataframe\">\n",
       "  <thead>\n",
       "    <tr style=\"text-align: right;\">\n",
       "      <th></th>\n",
       "      <th>id_wiki_movie</th>\n",
       "      <th>summary</th>\n",
       "    </tr>\n",
       "  </thead>\n",
       "  <tbody>\n",
       "    <tr>\n",
       "      <th>0</th>\n",
       "      <td>23890098</td>\n",
       "      <td>Shlykov, a hard-working taxi driver and Lyosha...</td>\n",
       "    </tr>\n",
       "    <tr>\n",
       "      <th>1</th>\n",
       "      <td>31186339</td>\n",
       "      <td>The nation of Panem consists of a wealthy Capi...</td>\n",
       "    </tr>\n",
       "    <tr>\n",
       "      <th>2</th>\n",
       "      <td>20663735</td>\n",
       "      <td>Poovalli Induchoodan  is sentenced for six yea...</td>\n",
       "    </tr>\n",
       "    <tr>\n",
       "      <th>3</th>\n",
       "      <td>2231378</td>\n",
       "      <td>The Lemon Drop Kid , a New York City swindler,...</td>\n",
       "    </tr>\n",
       "    <tr>\n",
       "      <th>4</th>\n",
       "      <td>595909</td>\n",
       "      <td>Seventh-day Adventist Church pastor Michael Ch...</td>\n",
       "    </tr>\n",
       "  </tbody>\n",
       "</table>\n",
       "</div>"
      ],
      "text/plain": [
       "   id_wiki_movie                                            summary\n",
       "0       23890098  Shlykov, a hard-working taxi driver and Lyosha...\n",
       "1       31186339  The nation of Panem consists of a wealthy Capi...\n",
       "2       20663735  Poovalli Induchoodan  is sentenced for six yea...\n",
       "3        2231378  The Lemon Drop Kid , a New York City swindler,...\n",
       "4         595909  Seventh-day Adventist Church pastor Michael Ch..."
      ]
     },
     "execution_count": 122,
     "metadata": {},
     "output_type": "execute_result"
    }
   ],
   "source": [
    "# Load plot summaries' metadata\n",
    "\n",
    "plot_summaries = pd.read_csv(PLOTS_DATASET, sep='\\t', names=['id_wiki_movie', 'summary'])\n",
    "\n",
    "plot_summaries.head()"
   ]
  },
  {
   "cell_type": "code",
   "execution_count": 123,
   "metadata": {
    "tags": []
   },
   "outputs": [
    {
     "data": {
      "text/html": [
       "<div>\n",
       "<style scoped>\n",
       "    .dataframe tbody tr th:only-of-type {\n",
       "        vertical-align: middle;\n",
       "    }\n",
       "\n",
       "    .dataframe tbody tr th {\n",
       "        vertical-align: top;\n",
       "    }\n",
       "\n",
       "    .dataframe thead th {\n",
       "        text-align: right;\n",
       "    }\n",
       "</style>\n",
       "<table border=\"1\" class=\"dataframe\">\n",
       "  <thead>\n",
       "    <tr style=\"text-align: right;\">\n",
       "      <th></th>\n",
       "      <th>actor_ethnicity</th>\n",
       "      <th>actor_ethnicity_freebase_id</th>\n",
       "    </tr>\n",
       "  </thead>\n",
       "  <tbody>\n",
       "    <tr>\n",
       "      <th>0</th>\n",
       "      <td>Hindu</td>\n",
       "      <td>/m/03kbr</td>\n",
       "    </tr>\n",
       "    <tr>\n",
       "      <th>1</th>\n",
       "      <td>European Americans</td>\n",
       "      <td>/m/02vsw1</td>\n",
       "    </tr>\n",
       "    <tr>\n",
       "      <th>2</th>\n",
       "      <td>Slavs</td>\n",
       "      <td>/m/0790v</td>\n",
       "    </tr>\n",
       "    <tr>\n",
       "      <th>3</th>\n",
       "      <td>Aymara</td>\n",
       "      <td>/m/01g3rx</td>\n",
       "    </tr>\n",
       "    <tr>\n",
       "      <th>4</th>\n",
       "      <td>Swiss</td>\n",
       "      <td>/m/025_0f0</td>\n",
       "    </tr>\n",
       "  </tbody>\n",
       "</table>\n",
       "</div>"
      ],
      "text/plain": [
       "      actor_ethnicity actor_ethnicity_freebase_id\n",
       "0               Hindu                    /m/03kbr\n",
       "1  European Americans                   /m/02vsw1\n",
       "2               Slavs                    /m/0790v\n",
       "3              Aymara                   /m/01g3rx\n",
       "4               Swiss                  /m/025_0f0"
      ]
     },
     "execution_count": 123,
     "metadata": {},
     "output_type": "execute_result"
    }
   ],
   "source": [
    "# Load ethnicities metadata (ethnicities corresponding to freebase IDs obtained from wikidata) \n",
    "\n",
    "ethnicities_original = pd.read_csv(ETHNICITIES_DATASET, names=['wikidata_url', 'actor_ethnicity', 'actor_ethnicity_freebase_id'])\n",
    "\n",
    "\n",
    "# Drop the wikidata_url as this will not be needed\n",
    "\n",
    "ethnicities = ethnicities_original.drop('wikidata_url', axis = 1)\n",
    "\n",
    "ethnicities.head()"
   ]
  },
  {
   "cell_type": "code",
   "execution_count": 124,
   "metadata": {
    "tags": []
   },
   "outputs": [
    {
     "data": {
      "text/html": [
       "<div>\n",
       "<style scoped>\n",
       "    .dataframe tbody tr th:only-of-type {\n",
       "        vertical-align: middle;\n",
       "    }\n",
       "\n",
       "    .dataframe tbody tr th {\n",
       "        vertical-align: top;\n",
       "    }\n",
       "\n",
       "    .dataframe thead th {\n",
       "        text-align: right;\n",
       "    }\n",
       "</style>\n",
       "<table border=\"1\" class=\"dataframe\">\n",
       "  <thead>\n",
       "    <tr style=\"text-align: right;\">\n",
       "      <th></th>\n",
       "      <th>id_wiki_movie</th>\n",
       "      <th>id_freebase_movie</th>\n",
       "      <th>movie_release_date</th>\n",
       "      <th>character_name</th>\n",
       "      <th>actor_birth_date</th>\n",
       "      <th>actor_gender</th>\n",
       "      <th>actor_height</th>\n",
       "      <th>actor_ethnicity_freebase_id</th>\n",
       "      <th>actor_name</th>\n",
       "      <th>actor_age_movie_release</th>\n",
       "      <th>character_actor_freebase_map_id</th>\n",
       "      <th>character_id_freebase</th>\n",
       "      <th>actor_id_freebase</th>\n",
       "      <th>actor_ethnicity</th>\n",
       "    </tr>\n",
       "  </thead>\n",
       "  <tbody>\n",
       "    <tr>\n",
       "      <th>0</th>\n",
       "      <td>975900</td>\n",
       "      <td>/m/03vyhn</td>\n",
       "      <td>2001-08-24</td>\n",
       "      <td>Akooshay</td>\n",
       "      <td>1958-08-26</td>\n",
       "      <td>F</td>\n",
       "      <td>1.620</td>\n",
       "      <td>NaN</td>\n",
       "      <td>Wanda De Jesus</td>\n",
       "      <td>42.0</td>\n",
       "      <td>/m/0bgchxw</td>\n",
       "      <td>/m/0bgcj3x</td>\n",
       "      <td>/m/03wcfv7</td>\n",
       "      <td>NaN</td>\n",
       "    </tr>\n",
       "    <tr>\n",
       "      <th>1</th>\n",
       "      <td>975900</td>\n",
       "      <td>/m/03vyhn</td>\n",
       "      <td>2001-08-24</td>\n",
       "      <td>Lieutenant Melanie Ballard</td>\n",
       "      <td>1974-08-15</td>\n",
       "      <td>F</td>\n",
       "      <td>1.780</td>\n",
       "      <td>/m/044038p</td>\n",
       "      <td>Natasha Henstridge</td>\n",
       "      <td>27.0</td>\n",
       "      <td>/m/0jys3m</td>\n",
       "      <td>/m/0bgchn4</td>\n",
       "      <td>/m/0346l4</td>\n",
       "      <td>NaN</td>\n",
       "    </tr>\n",
       "    <tr>\n",
       "      <th>2</th>\n",
       "      <td>975900</td>\n",
       "      <td>/m/03vyhn</td>\n",
       "      <td>2001-08-24</td>\n",
       "      <td>Desolation Williams</td>\n",
       "      <td>1969-06-15</td>\n",
       "      <td>M</td>\n",
       "      <td>1.727</td>\n",
       "      <td>/m/0x67</td>\n",
       "      <td>Ice Cube</td>\n",
       "      <td>32.0</td>\n",
       "      <td>/m/0jys3g</td>\n",
       "      <td>/m/0bgchn_</td>\n",
       "      <td>/m/01vw26l</td>\n",
       "      <td>African Americans</td>\n",
       "    </tr>\n",
       "    <tr>\n",
       "      <th>3</th>\n",
       "      <td>975900</td>\n",
       "      <td>/m/03vyhn</td>\n",
       "      <td>2001-08-24</td>\n",
       "      <td>Sgt Jericho Butler</td>\n",
       "      <td>1967-09-12</td>\n",
       "      <td>M</td>\n",
       "      <td>1.750</td>\n",
       "      <td>NaN</td>\n",
       "      <td>Jason Statham</td>\n",
       "      <td>33.0</td>\n",
       "      <td>/m/02vchl6</td>\n",
       "      <td>/m/0bgchnq</td>\n",
       "      <td>/m/034hyc</td>\n",
       "      <td>NaN</td>\n",
       "    </tr>\n",
       "    <tr>\n",
       "      <th>4</th>\n",
       "      <td>975900</td>\n",
       "      <td>/m/03vyhn</td>\n",
       "      <td>2001-08-24</td>\n",
       "      <td>Bashira Kincaid</td>\n",
       "      <td>1977-09-25</td>\n",
       "      <td>F</td>\n",
       "      <td>1.650</td>\n",
       "      <td>NaN</td>\n",
       "      <td>Clea DuVall</td>\n",
       "      <td>23.0</td>\n",
       "      <td>/m/02vbb3r</td>\n",
       "      <td>/m/0bgchp9</td>\n",
       "      <td>/m/01y9xg</td>\n",
       "      <td>NaN</td>\n",
       "    </tr>\n",
       "  </tbody>\n",
       "</table>\n",
       "</div>"
      ],
      "text/plain": [
       "   id_wiki_movie id_freebase_movie movie_release_date  \\\n",
       "0         975900         /m/03vyhn         2001-08-24   \n",
       "1         975900         /m/03vyhn         2001-08-24   \n",
       "2         975900         /m/03vyhn         2001-08-24   \n",
       "3         975900         /m/03vyhn         2001-08-24   \n",
       "4         975900         /m/03vyhn         2001-08-24   \n",
       "\n",
       "               character_name actor_birth_date actor_gender  actor_height  \\\n",
       "0                    Akooshay       1958-08-26            F         1.620   \n",
       "1  Lieutenant Melanie Ballard       1974-08-15            F         1.780   \n",
       "2         Desolation Williams       1969-06-15            M         1.727   \n",
       "3          Sgt Jericho Butler       1967-09-12            M         1.750   \n",
       "4             Bashira Kincaid       1977-09-25            F         1.650   \n",
       "\n",
       "  actor_ethnicity_freebase_id          actor_name  actor_age_movie_release  \\\n",
       "0                         NaN      Wanda De Jesus                     42.0   \n",
       "1                  /m/044038p  Natasha Henstridge                     27.0   \n",
       "2                     /m/0x67            Ice Cube                     32.0   \n",
       "3                         NaN       Jason Statham                     33.0   \n",
       "4                         NaN         Clea DuVall                     23.0   \n",
       "\n",
       "  character_actor_freebase_map_id character_id_freebase actor_id_freebase  \\\n",
       "0                      /m/0bgchxw            /m/0bgcj3x        /m/03wcfv7   \n",
       "1                       /m/0jys3m            /m/0bgchn4         /m/0346l4   \n",
       "2                       /m/0jys3g            /m/0bgchn_        /m/01vw26l   \n",
       "3                      /m/02vchl6            /m/0bgchnq         /m/034hyc   \n",
       "4                      /m/02vbb3r            /m/0bgchp9         /m/01y9xg   \n",
       "\n",
       "     actor_ethnicity  \n",
       "0                NaN  \n",
       "1                NaN  \n",
       "2  African Americans  \n",
       "3                NaN  \n",
       "4                NaN  "
      ]
     },
     "execution_count": 124,
     "metadata": {},
     "output_type": "execute_result"
    }
   ],
   "source": [
    "# Merging of the ethnicities dataset into the characters dataset\n",
    "\n",
    "characters_ethnicities = characters.merge(ethnicities, how = 'left', on = ['actor_ethnicity_freebase_id'])\n",
    "\n",
    "characters_ethnicities.head()"
   ]
  },
  {
   "cell_type": "markdown",
   "metadata": {
    "tags": []
   },
   "source": [
    "## 2. General statistics about the dataset"
   ]
  },
  {
   "cell_type": "markdown",
   "metadata": {},
   "source": [
    "The aim of this first section is to explore the size of the movies dataset and get a feeling for it. "
   ]
  },
  {
   "cell_type": "code",
   "execution_count": 125,
   "metadata": {
    "tags": []
   },
   "outputs": [],
   "source": [
    "movies_df = movies.copy()"
   ]
  },
  {
   "cell_type": "markdown",
   "metadata": {},
   "source": [
    "**2.1) Initial data processing**\n",
    "\n",
    "In order to explore the dataset, some of the data in the movies dataset has to be preprocessed, because it is not in a format we can use. This is the case for the movie release date, the movie genre, the country of production and the movie languages."
   ]
  },
  {
   "cell_type": "code",
   "execution_count": 126,
   "metadata": {
    "tags": []
   },
   "outputs": [],
   "source": [
    "# TO DO : MAYBE REMOVE NaNs HERE (because otherwise there are countries and genres 'N' and 'a'\n",
    "\n",
    "# movie release date transformed to datetime format (we decided to only keep the years as we don't need the month and day information)\n",
    "# one weird value at index 62836, date is 1010-12-02 --> could not be converted to datetime so replaced by NaT\n",
    "# TO DO : DON'T FORGET TO REMOVE NaT VALUES LATER!!!!\n",
    "\n",
    "movies_df['date'] = pd.to_datetime(movies_df['date'], errors = 'coerce', format = 'mixed').dt.year\n",
    "\n",
    "\n",
    "# genres, countries and languages are given as dictionaries in the form of strings --> dictionary has to be extracted from the string\n",
    "# we decided to convert the dictionary to a list, keeping only the names (not the id), to make data handling easier\n",
    "\n",
    "movies_df['genre'] = movies_df['genre'].apply(lambda x: list(json.loads(x).values()) if len(json.loads(x).values()) > 0 else 'NaN')\n",
    "movies_df['country'] = movies_df['country'].copy().apply(lambda x: list(json.loads(x).values()) if len(json.loads(x).values()) > 0 else 'NaN')\n",
    "movies_df['lang'] = movies_df['lang'].apply(lambda x: list(json.loads(x).values()) if len(json.loads(x).values()) > 0 else 'NaN')"
   ]
  },
  {
   "cell_type": "markdown",
   "metadata": {},
   "source": [
    "**2.2) Exploring the total number of movies in the dataset.**"
   ]
  },
  {
   "cell_type": "code",
   "execution_count": 127,
   "metadata": {
    "tags": []
   },
   "outputs": [
    {
     "name": "stdout",
     "output_type": "stream",
     "text": [
      "The total number of movies is : 81741\n"
     ]
    }
   ],
   "source": [
    "print(\"The total number of movies is :\", movies_df.shape[0])"
   ]
  },
  {
   "cell_type": "markdown",
   "metadata": {},
   "source": [
    "**2.3) Exploring the number of years covered by the dataset and the number of movies produced per year.**"
   ]
  },
  {
   "cell_type": "code",
   "execution_count": 128,
   "metadata": {
    "tags": []
   },
   "outputs": [
    {
     "name": "stdout",
     "output_type": "stream",
     "text": [
      "Movie release years range:  1888.0 - 2016.0\n"
     ]
    }
   ],
   "source": [
    "print(\"Movie release years range: \", movies_df['date'].min(), \"-\", movies_df['date'].max())"
   ]
  },
  {
   "cell_type": "code",
   "execution_count": 129,
   "metadata": {
    "tags": []
   },
   "outputs": [
    {
     "data": {
      "image/png": "[encoded data removed]",
      "text/plain": [
       "<Figure size 800x400 with 1 Axes>"
      ]
     },
     "metadata": {},
     "output_type": "display_data"
    }
   ],
   "source": [
    "# calculating the number of movies per year\n",
    "\n",
    "movies_per_year = movies_df['date'].value_counts()\n",
    "\n",
    "\n",
    "# plotting the number of movies per year\n",
    "\n",
    "plt.figure(figsize = (8, 4))\n",
    "plt.bar(movies_per_year.index, movies_per_year.values)\n",
    "plt.xlabel('Year')\n",
    "plt.ylabel('Number of movies released')\n",
    "plt.title('Number of movies released every year')\n",
    "plt.grid(True)\n",
    "plt.show()"
   ]
  },
  {
   "cell_type": "markdown",
   "metadata": {},
   "source": [
    "**2.4) Exploring the different movie genres.** \n",
    "\n",
    "What are the 20 genres that are the most represented? And how many movies of each genre are there?\n",
    "\n",
    "Since in some cases there are multiple genres for one movie, the value in the genre column is a list. In order to be able to analyze the genres separately (and not as a part of a list of genres for one given movie), we concatenated all these lists to make a big list containing all the instances of all genres.\n",
    "Then we converted the list back to a pandas series, in order to drectly obtain the number of movies for each genre (using value_counts())."
   ]
  },
  {
   "cell_type": "code",
   "execution_count": 130,
   "metadata": {
    "tags": []
   },
   "outputs": [
    {
     "name": "stdout",
     "output_type": "stream",
     "text": [
      "Top 20 most common genres, with number of movies\n"
     ]
    },
    {
     "data": {
      "text/plain": [
       "Drama               34007\n",
       "Comedy              16349\n",
       "Romance Film        10234\n",
       "Black-and-white      9094\n",
       "Action               8798\n",
       "Thriller             8744\n",
       "Short Film           8141\n",
       "World cinema         7155\n",
       "Crime Fiction        6948\n",
       "Indie                6897\n",
       "Documentary          5630\n",
       "Horror               5280\n",
       "Silent film          5250\n",
       "Adventure            4963\n",
       "Family Film          4598\n",
       "N                    4588\n",
       "Action/Adventure     4561\n",
       "Comedy film          4362\n",
       "Musical              4160\n",
       "Animation            3534\n",
       "Name: count, dtype: int64"
      ]
     },
     "execution_count": 130,
     "metadata": {},
     "output_type": "execute_result"
    }
   ],
   "source": [
    "# making one big list with all instances of all genres\n",
    "\n",
    "genres_list = []\n",
    "for genres in movies_df['genre'] : genres_list += genres\n",
    "\n",
    "\n",
    "# transforming the list into a series\n",
    "\n",
    "genres_df = pd.Series(genres_list)\n",
    "\n",
    "# number of movies for each genre\n",
    "\n",
    "movies_per_genre = genres_df.value_counts()\n",
    "\n",
    "\n",
    "# top 20 genres with number of instances\n",
    "\n",
    "top_20_genres = movies_per_genre[:20]\n",
    "\n",
    "print('Top 20 most common genres, with number of movies')\n",
    "top_20_genres"
   ]
  },
  {
   "cell_type": "markdown",
   "metadata": {},
   "source": [
    "**2.5) Exploring the production countries of the movies in the dataset.**\n",
    "\n",
    "What are the top 20 countries producing most movies? And how many movies were produced in each country?\n",
    "\n",
    "We proceded the same ways as in 2.4), first making a list, then tranforming it into a dataframe to use value_counts()."
   ]
  },
  {
   "cell_type": "code",
   "execution_count": 131,
   "metadata": {
    "tags": []
   },
   "outputs": [
    {
     "name": "stdout",
     "output_type": "stream",
     "text": [
      "Top 20 most common countries, with number of movies\n"
     ]
    },
    {
     "data": {
      "text/plain": [
       "United States of America    34408\n",
       "N                           16308\n",
       "India                        8411\n",
       "a                            8154\n",
       "United Kingdom               7868\n",
       "France                       4395\n",
       "Italy                        3163\n",
       "Japan                        2647\n",
       "Canada                       2534\n",
       "Germany                      2393\n",
       "Argentina                    1468\n",
       "Hong Kong                    1240\n",
       "Spain                        1136\n",
       "Australia                    1114\n",
       "South Korea                   887\n",
       "Mexico                        870\n",
       "Netherlands                   840\n",
       "Sweden                        657\n",
       "West Germany                  647\n",
       "China                         645\n",
       "Name: count, dtype: int64"
      ]
     },
     "execution_count": 131,
     "metadata": {},
     "output_type": "execute_result"
    }
   ],
   "source": [
    "# making one big list with all instances of all countries\n",
    "\n",
    "countries_list = []\n",
    "for countries in movies_df['country'] : countries_list += countries\n",
    "\n",
    "\n",
    "# transforming the list into a dataframe\n",
    "\n",
    "countries_df = pd.Series(countries_list)\n",
    "\n",
    "# number of movies for each country\n",
    "\n",
    "movies_per_country = countries_df.value_counts()\n",
    "\n",
    "\n",
    "# top 20 countries with number of movies\n",
    "\n",
    "top_20_countries = movies_per_country[:20]\n",
    "\n",
    "print('Top 20 most common countries, with number of movies')\n",
    "top_20_countries"
   ]
  },
  {
   "cell_type": "markdown",
   "metadata": {},
   "source": [
    "**2.6) Exploring the number of different languages of the movies in the dataset.**\n",
    "\n",
    "Since there might in some cases be multiple languages for one movie, we proceded similarly to 2.4) and 2.5) by first making a list containing all instances of all languages. As we only wanted to find the total number of different languages and not the number of movies for a specific language, we then converted the list to a set."
   ]
  },
  {
   "cell_type": "code",
   "execution_count": 132,
   "metadata": {
    "tags": []
   },
   "outputs": [
    {
     "name": "stdout",
     "output_type": "stream",
     "text": [
      "The total number of languages represented in the dataset is : 209\n"
     ]
    }
   ],
   "source": [
    "# making one big list with all instances of all languages\n",
    "\n",
    "languages_list = []\n",
    "for lang in movies_df['lang'] : languages_list += lang\n",
    "\n",
    "\n",
    "# number of different languages (tranforming the list into a set)\n",
    "\n",
    "tot_languages = len(set(languages_list))\n",
    "\n",
    "print('The total number of languages represented in the dataset is :', tot_languages)"
   ]
  },
  {
   "cell_type": "markdown",
   "metadata": {},
   "source": [
    "**2.7) Exploring the different ethicities of the movie characters.** \n",
    "\n",
    "What are the different ethnicities represented in the dataset?"
   ]
  },
  {
   "cell_type": "code",
   "execution_count": 133,
   "metadata": {
    "tags": []
   },
   "outputs": [
    {
     "name": "stdout",
     "output_type": "stream",
     "text": [
      "Top 20 most common ethnicities, with number of characters\n"
     ]
    },
    {
     "data": {
      "text/plain": [
       "Indian person        16351\n",
       "African Americans    10159\n",
       "Jewish people        10121\n",
       "English people        6165\n",
       "Irish Americans       3857\n",
       "Italian Americans     2956\n",
       "white people          2307\n",
       "White Americans       2250\n",
       "Scottish American     2223\n",
       "Irish people          1637\n",
       "British people        1433\n",
       "French                1350\n",
       "Italians              1305\n",
       "Tamil                 1215\n",
       "Punjabis              1155\n",
       "Malayali              1146\n",
       "Scottish people       1028\n",
       "Swedish Americans      977\n",
       "German Americans       949\n",
       "Swedes                 905\n",
       "Name: count, dtype: int64"
      ]
     },
     "execution_count": 133,
     "metadata": {},
     "output_type": "execute_result"
    }
   ],
   "source": [
    "characters_ethnicities_df = characters_ethnicities.copy()\n",
    "\n",
    "# making one big list with all instances of all ethnicities\n",
    "\n",
    "ethnicities_list = characters_ethnicities_df['actor_ethnicity'].to_list()\n",
    "\n",
    "# transforming the list into a dataframe\n",
    "\n",
    "ethnicities_df = pd.Series(ethnicities_list)\n",
    "\n",
    "# number of character for each ethncity\n",
    "\n",
    "characters_per_ethnicity = ethnicities_df.value_counts()\n",
    "\n",
    "\n",
    "# top 20 ethnicities with number of characters\n",
    "\n",
    "top_20_ethnicities = characters_per_ethnicity[:20]\n",
    "\n",
    "print('Top 20 most common ethnicities, with number of characters')\n",
    "top_20_ethnicities"
   ]
  },
  {
   "cell_type": "markdown",
   "metadata": {
    "tags": []
   },
   "source": [
    "## 3. Test for feasability of our idea"
   ]
  },
  {
   "cell_type": "markdown",
   "metadata": {},
   "source": [
    "**3.1) Defining world regions & plotting their movies over time**\n",
    "\n",
    "We may want to define different regions of the world, grouping different countries together. We could define the following regions: \n",
    "- Europe \n",
    "- USA + Canada + Australia\n",
    "- Middle East\n",
    "- Asia\n",
    "- Africa\n",
    "- South & Central America\n",
    "\n",
    "--> Check how many movies are contained for each subdivision over time? Do we have enough movies for each division at each timepoint to be able to draw relevant conclusions?\n",
    "(Here we don't only check if our partitioning is adequate but also the general timespan we can perform our analysis on: WWI may be too early)"
   ]
  },
  {
   "cell_type": "code",
   "execution_count": 134,
   "metadata": {
    "tags": []
   },
   "outputs": [
    {
     "name": "stdout",
     "output_type": "stream",
     "text": [
      "147\n",
      "147\n"
     ]
    }
   ],
   "source": [
    "# Creating subdivisions of movies\n",
    "\n",
    "countries_df_2 = movies.copy()\n",
    "countries_df_2['date'] = pd.to_datetime(countries_df_2['date'], errors = 'coerce', format = 'mixed').dt.year\n",
    "\n",
    "\n",
    "# Obtain a list of countries contained in the dataset\n",
    "\n",
    "only_countries = countries_df_2['country'].apply(lambda x: list(json.loads(x).values()) if len(json.loads(x).values()) > 0 else 'NaN').copy()\n",
    "only_countries = only_countries.to_list()\n",
    "\n",
    "\n",
    "# Removing all Nan's and making a onedimensional list of all countries contained in the dataset\n",
    "\n",
    "only_countries = [x for x in only_countries if x != \"NaN\"]\n",
    "only_countries = [item for sublist in only_countries for item in sublist]\n",
    "\n",
    "\n",
    "# Creating a list with all unique countries contained in the dataset\n",
    "\n",
    "only_countries_unique = []\n",
    "for item in only_countries:\n",
    "    if item not in only_countries_unique:\n",
    "        only_countries_unique.append(item)\n",
    "\n",
    "        \n",
    "# Create the corresponding regions for later analysis containing all countries from the dataset\n",
    "\n",
    "europe_countries =  ['United Kingdom', 'Croatia', 'Ukraine', 'Luxembourg', 'Belgium', 'Sweden', 'Switzerland', 'Greece', 'Ireland',  'Iceland', 'Poland', 'Italy', 'Denmark',  'Scotland', 'Finland', 'Albania', 'Portugal', 'Northern Ireland', 'Austria',  'Netherlands', 'Monaco', 'Spain',  'England',  'German Democratic Republic', 'France', 'Nazi Germany', 'West Germany',  'Germany', 'Weimar Republic', 'Kingdom of Italy', 'Kingdom of Great Britain', 'Isle of Man', 'Lithuania', 'Malta', 'Czech Republic',  'Czechoslovakia', 'Slovakia', 'Romania', 'Norway', 'Serbia', 'Slovenia', 'Bulgaria', 'Slovak Republic', 'Ukrainian SSR',  'Ukranian SSR',  'Estonia',  'Soviet occupation zone', 'Bosnia and Herzegovina', 'Socialist Federal Republic of Yugoslavia', 'Yugoslavia', 'Wales', 'Hungary', 'Federal Republic of Yugoslavia',  'Serbia and Montenegro', 'Republic of Macedonia', 'Montenegro', 'Cyprus', 'Crime']\n",
    "middle_east_countries = ['Lebanon', 'Iran', 'United Arab Emirates', 'Iraq', 'Turkey', 'Iraqi Kurdistan', 'Jordan', 'Mandatory Palestine', 'Palestinian territories', 'Palestinian Territories', 'Armenia', 'Georgia', 'Kuwait', 'Georgian SSR', 'Israel', 'Turkmenistan', 'Qatar', 'Bahrain', 'Azerbaijan']\n",
    "asia_countries = ['Hong Kong', 'Nepal', 'Indonesia', 'China',  'Taiwan', 'Cambodia', 'Vietnam', 'Sri Lanka', 'Singapore', 'Thailand', 'Mongolia', 'Korea', 'India', 'Malaysia', 'South Korea', 'Philippines', 'Republic of China', 'Japan',  'Soviet Union', 'Bangladesh', 'Russia', 'Pakistan', 'Uzbekistan', 'Afghanistan', 'Macau', 'Uzbek SSR', 'Bhutan', 'Burma']\n",
    "africa_countries = ['Guinea', 'Cameroon', 'Democratic Republic of the Congo', 'Tunisia', 'Congo', 'Ethiopia', 'Nigeria', 'Libya', 'Zimbabwe', 'Morocco',  'Mali', 'Egypt', 'Burkina Faso', 'Senegal', 'Kenya', 'South Africa', 'Algeria', 'Zambia', 'Guinea-Bissau']\n",
    "south_central_america_countries =  ['Mexico', 'Colombia', 'Uruguay', 'Puerto Rico',  'Costa Rica', 'Chile', 'Venezuela', 'Peru', 'Bolivia', 'Brazil', 'Cuba', 'Panama', 'Argentina', 'Haiti', 'Bahamas', 'Jamaica', 'Aruba']\n",
    "other_countries = ['United States of America', 'Canada', 'Australia', 'New Zealand']\n",
    "outlier_countries = [ 'German Language', 'Malayalam Language'] \n",
    "\n",
    "\n",
    "# Check that all countries in the dataset are contained in a certain region\n",
    "\n",
    "all_countries = europe_countries + middle_east_countries + asia_countries + africa_countries + south_central_america_countries + other_countries + outlier_countries\n",
    "print(len(only_countries_unique))\n",
    "print(len(all_countries))"
   ]
  },
  {
   "cell_type": "markdown",
   "metadata": {},
   "source": [
    "**Important Observations:**\n",
    "- A movie can be produced by multiple countries at the same time\n",
    "- In the entries of some countries, there are typos or different syntax which is why these countries are not considered identical. To avoid any effects this can have, all manners of which the country was written was included in the grouping. Examples of this are:\n",
    "    - “Ukrainian SSR” vs “Ukranian SSR”\n",
    "    - “Socialist Federal Republic of Yugoslavia” vs “Yugoslavia” vs “Federal Republic of Yugoslavia”\n",
    "    - “Palestinian territories” vs “Palestinian Territories”\n",
    "- There are a few entries which do not correspond to countries. These were grouped into the list \"outlier_countries\" and will not be used for country analysis, as we cannot be completely sure what countries produced them. Examples of this are:\n",
    "    - “German Language”\n",
    "    - “Malayalam Language”"
   ]
  },
  {
   "cell_type": "code",
   "execution_count": 135,
   "metadata": {
    "tags": []
   },
   "outputs": [
    {
     "data": {
      "image/png": "[encoded data removed]",
      "text/plain": [
       "<Figure size 1500x1000 with 6 Axes>"
      ]
     },
     "metadata": {},
     "output_type": "display_data"
    }
   ],
   "source": [
    "# Check how many movies are contained for each subdivision over time, constructing subplots with the same y-axis\n",
    "\n",
    "fig, axs = plt.subplots(2, 3, figsize=(15, 10), sharex=True, sharey=True)\n",
    "\n",
    "\n",
    "# Check for Region Europe\n",
    "\n",
    "filtered_europe_movies = countries_df_2[countries_df_2['country'].apply(lambda x: any(item in x for item in europe_countries))]\n",
    "movies_per_year_europe = filtered_europe_movies['date'].value_counts()\n",
    "axs[0, 0].bar(movies_per_year_europe.index, movies_per_year_europe.values)\n",
    "axs[0, 0].set_title('Europe')\n",
    "\n",
    "\n",
    "# Check for Region Middle East\n",
    "\n",
    "filtered_middle_east_movies = countries_df_2[countries_df_2['country'].apply(lambda x: any(item in x for item in middle_east_countries))]\n",
    "movies_per_year_middle_east = filtered_middle_east_movies['date'].value_counts()\n",
    "axs[0, 1].bar(movies_per_year_middle_east.index, movies_per_year_middle_east.values)\n",
    "axs[0, 1].set_title('Middle East')\n",
    "\n",
    "\n",
    "# Check for Region Asia\n",
    "\n",
    "filtered_asia_movies = countries_df_2[countries_df_2['country'].apply(lambda x: any(item in x for item in asia_countries))]\n",
    "movies_per_year_asia = filtered_asia_movies['date'].value_counts()\n",
    "axs[0, 2].bar(movies_per_year_asia.index, movies_per_year_asia.values)\n",
    "axs[0, 2].set_title('Asia')\n",
    "\n",
    "\n",
    "# Check for Region Africa\n",
    "\n",
    "filtered_africa_movies = countries_df_2[countries_df_2['country'].apply(lambda x: any(item in x for item in africa_countries))]\n",
    "movies_per_year_africa = filtered_africa_movies['date'].value_counts()\n",
    "axs[1, 0].bar(movies_per_year_africa.index, movies_per_year_africa.values)\n",
    "axs[1, 0].set_title('Africa')\n",
    "\n",
    "\n",
    "# Check for region South Central America\n",
    "\n",
    "filtered_south_central_america_movies = countries_df_2[countries_df_2['country'].apply(lambda x: any(item in x for item in south_central_america_countries))]\n",
    "movies_per_year_south_central_america = filtered_south_central_america_movies['date'].value_counts()\n",
    "axs[1, 1].bar(movies_per_year_south_central_america.index, movies_per_year_south_central_america.values)\n",
    "axs[1, 1].set_title('South Central America')\n",
    "\n",
    "\n",
    "# Check for region Other (includes USA, Australia, New Zealand, Canada)\n",
    "\n",
    "filtered_other_movies = countries_df_2[countries_df_2['country'].apply(lambda x: any(item in x for item in other_countries))]\n",
    "movies_per_year_other = filtered_other_movies['date'].value_counts()\n",
    "axs[1, 2].bar(movies_per_year_other.index, movies_per_year_other.values)\n",
    "axs[1, 2].set_title('Other (USA, CANADA, NZ, AUSTRALIA)')\n",
    "\n",
    "for ax in axs.flat:\n",
    "    ax.set(xlabel='Year', ylabel='Number of movies released')\n",
    "    ax.grid(True)\n",
    "\n",
    "    \n",
    "# Hide x labels and tick labels for top plots and y ticks for right plots.\n",
    "\n",
    "for ax in axs.flat:\n",
    "    ax.label_outer()\n",
    "\n",
    "plt.show()"
   ]
  },
  {
   "cell_type": "code",
   "execution_count": 136,
   "metadata": {
    "tags": []
   },
   "outputs": [
    {
     "data": {
      "image/png": "[encoded data removed]",
      "text/plain": [
       "<Figure size 1500x1000 with 6 Axes>"
      ]
     },
     "metadata": {},
     "output_type": "display_data"
    }
   ],
   "source": [
    "# Check how many movies are contained for each subdivision over time, constructing subplots with individual y-axes\n",
    "\n",
    "fig, axs = plt.subplots(2, 3, figsize=(15, 10))\n",
    "\n",
    "\n",
    "# Check for Region Europe\n",
    "\n",
    "axs[0, 0].bar(movies_per_year_europe.index, movies_per_year_europe.values)\n",
    "axs[0, 0].set_title('Europe')\n",
    "axs[0, 0].set_xlabel('Year')\n",
    "axs[0, 0].set_ylabel('Number of movies released')\n",
    "axs[0, 0].set_ylim([0, movies_per_year_europe.values.max() * 1.2])  \n",
    "axs[0, 0].grid(True)\n",
    "\n",
    "\n",
    "# Check for Region Middle East\n",
    "\n",
    "axs[0, 1].bar(movies_per_year_middle_east.index, movies_per_year_middle_east.values)\n",
    "axs[0, 1].set_title('Middle East')\n",
    "axs[0, 1].set_xlabel('Year')\n",
    "axs[0, 1].set_ylabel('Number of movies released')\n",
    "axs[0, 1].set_ylim([0, movies_per_year_middle_east.values.max() * 1.2]) \n",
    "axs[0, 1].grid(True)\n",
    "\n",
    "\n",
    "# Check for Region Asia\n",
    "\n",
    "axs[0, 2].bar(movies_per_year_asia.index, movies_per_year_asia.values)\n",
    "axs[0, 2].set_title('Asia')\n",
    "axs[0, 2].set_xlabel('Year')\n",
    "axs[0, 2].set_ylabel('Number of movies released')\n",
    "axs[0, 2].set_ylim([0, movies_per_year_asia.values.max() * 1.2]) \n",
    "axs[0, 2].grid(True)\n",
    "\n",
    "\n",
    "# Check for Region Africa\n",
    "\n",
    "axs[1, 0].bar(movies_per_year_africa.index, movies_per_year_africa.values)\n",
    "axs[1, 0].set_title('Africa')\n",
    "axs[1, 0].set_xlabel('Year')\n",
    "axs[1, 0].set_ylabel('Number of movies released')\n",
    "axs[1, 0].set_ylim([0, movies_per_year_africa.values.max() * 1.2]) \n",
    "axs[1, 0].grid(True)\n",
    "\n",
    "\n",
    "# Check for region South Central America\n",
    "\n",
    "axs[1, 1].bar(movies_per_year_south_central_america.index, movies_per_year_south_central_america.values)\n",
    "axs[1, 1].set_title('South Central America')\n",
    "axs[1, 1].set_xlabel('Year')\n",
    "axs[1, 1].set_ylabel('Number of movies released')\n",
    "axs[1, 1].set_ylim([0, movies_per_year_south_central_america.values.max() * 1.2])\n",
    "axs[1, 1].grid(True)\n",
    "\n",
    "\n",
    "# Check for region Other (includes USA, Australia, New Zealand, Canada)\n",
    "\n",
    "axs[1, 2].bar(movies_per_year_other.index, movies_per_year_other.values)\n",
    "axs[1, 2].set_title('Other (USA, CANADA, NZ, AUSTRALIA)')\n",
    "axs[1, 2].set_xlabel('Year')\n",
    "axs[1, 2].set_ylabel('Number of movies released')\n",
    "axs[1, 2].set_ylim([0, movies_per_year_other.values.max() * 1.2])  \n",
    "axs[1, 2].grid(True)\n",
    "\n",
    "plt.tight_layout()\n",
    "plt.show()"
   ]
  },
  {
   "cell_type": "markdown",
   "metadata": {},
   "source": [
    "Since we have realized, that the USA is the country having produced the most movies, we want to explore the option of only grouping the US with Canada (forming the region 'North America') and grouping Australia and New Zealand together (forming the region 'Australia'). This option is evaluated considering the number of movies present for both regions in the plot below. "
   ]
  },
  {
   "cell_type": "code",
   "execution_count": 137,
   "metadata": {
    "tags": []
   },
   "outputs": [
    {
     "data": {
      "text/plain": [
       "Text(0.5, 1.0, 'Australia')"
      ]
     },
     "execution_count": 137,
     "metadata": {},
     "output_type": "execute_result"
    },
    {
     "data": {
      "image/png": "[encoded data removed]",
      "text/plain": [
       "<Figure size 1500x500 with 2 Axes>"
      ]
     },
     "metadata": {},
     "output_type": "display_data"
    }
   ],
   "source": [
    "# Defining new region divisions\n",
    "\n",
    "north_america_countries = ['United States of America', 'Canada']\n",
    "australia_countries = ['Australia', 'New Zealand']\n",
    "\n",
    "\n",
    "# Creating subplots\n",
    "\n",
    "fig, axs = plt.subplots(1, 2, figsize=(15, 5), sharex=True, sharey=True)\n",
    "\n",
    "filtered_north_america_movies = countries_df_2[countries_df_2['country'].apply(lambda x: any(item in x for item in north_america_countries))]\n",
    "movies_per_year_north_america = filtered_north_america_movies['date'].value_counts()\n",
    "axs[0].bar(movies_per_year_north_america.index, movies_per_year_north_america.values)\n",
    "axs[0].set_title('North America')\n",
    "\n",
    "filtered_australia_movies = countries_df_2[countries_df_2['country'].apply(lambda x: any(item in x for item in australia_countries))]\n",
    "movies_per_year_australia = filtered_australia_movies['date'].value_counts()\n",
    "axs[1].bar(movies_per_year_australia.index, movies_per_year_australia.values)\n",
    "axs[1].set_title('Australia')"
   ]
  },
  {
   "cell_type": "markdown",
   "metadata": {},
   "source": [
    "**3.2) Number and percentage of NAN values contained in our datasets, specifically for some characteristics that are important for us**"
   ]
  },
  {
   "cell_type": "markdown",
   "metadata": {},
   "source": [
    "As important data for further analysis, we consider:\n",
    "- Actor DOB \n",
    "- Actor Gender\n",
    "- Actor Height \n",
    "- Actor Ethnicity\n",
    "- Actor Age at movie release\n",
    "- Movie Release Date\n",
    "- Movie Box Office Revenue\n",
    "- Movie Languages\n",
    "- Movie Countries\n",
    "- Movie Genres\n",
    "- Do all movies have a plot summary? --> to answer to this we must merge some data and the see if NAN values emerge for some movies\n",
    "\n",
    "Interesting questions to answer:\n",
    "\n",
    "* Analysis of NANs and evaluation if we still have enough movie sets to analyse, should we have to cross those containing important NANs out. \n",
    "\n",
    "Charlotte: we have anough movie sets to analyse I believe, however for certain features since we have a lot of NANs, we should be attentive to our conclusions and their statistically significance. It could be a good idea to merge some columns of dataframes to perform some analysis but crossing those containing a lot of NANs values does not appear to ma as a good idea. We could still use them for a few analysis for the data they contain.\n",
    "\n",
    "* Evaluate if we should eliminate movie from whole analysis, as soon as it does not contain one of the important characteristics or if we should only remove it for the specific analysis this characteristic is used for.\n",
    "\n",
    "Charlotte: for me, we should not eliminate a movie from whole analysis if it does not contain one of the important characteristics because as one can observe below, for some features we have a lot of NANs values. ==> we should maybe indeed remove it for the specific analysis of a particular feature."
   ]
  },
  {
   "cell_type": "code",
   "execution_count": 138,
   "metadata": {
    "tags": []
   },
   "outputs": [
    {
     "name": "stdout",
     "output_type": "stream",
     "text": [
      "There are 106145 NAN values in the actors' birth date column of the characters dataset.\n",
      "This corresponds of 23.55 % of the actors' birth dates total data. \n",
      "\n",
      "There are 45609 NAN values in the actors' gender column of the characters dataset.\n",
      "This corresponds to a percentage of 10.12 % of the actors' genders total data. \n",
      "\n",
      "There are 295845 NAN values in the actors' height column of the characters dataset.\n",
      "This corresponds to a percentage of 65.65 % of the actors' heights total data. \n",
      "\n",
      "There are 344611 NAN values in the actors' ethnicity column of the characters dataset.\n",
      "This corresponds to a percentage of 76.47 % of the actors' ethinicities total data. \n",
      "\n",
      "There are 158113 NAN values in the actors' age at movie release column of the characters dataset.\n",
      "This corresponds to a percentage of 35.08 % of the actors' age at movie release total data. \n",
      "\n",
      "There are 9995 NAN values in the movies' release date column of the characters dataset.\n",
      "This corresponds to a percentage of 2.22 % of the movies' release date total data. \n",
      "\n",
      "There are 73340 NAN values in the movies' box office column of the characters dataset.\n",
      "This corresponds to a percentage of 89.72 % of the movies' box office total data. \n",
      "\n",
      "There are 0 NAN values in the movies' language column of the characters dataset.\n",
      "This corresponds to a percentage of 0.00 % of the movies' languages total data. \n",
      "\n",
      "There are 0 NAN values in the movies' country column of the characters dataset.\n",
      "This corresponds to a percentage of 0.00 % of the movies' countries total data. \n",
      "\n",
      "There are 0 NAN values in the movies' genre column of the characters dataset.\n",
      "This corresponds to a percentage of 0.00 % of the movies' genres total data. \n",
      "\n"
     ]
    }
   ],
   "source": [
    "characters_df = characters.copy()\n",
    "\n",
    "\n",
    "# Computing number of NAN and percentage of NAN in the actors' date of birth column of the characters dataset\n",
    "\n",
    "actors_DOB_NAN_count = (characters_df['actor_birth_date'].isna() == True).sum()\n",
    "missing_actors_DOB_percentage = characters['actor_birth_date'].isna().mean() * 100\n",
    "print(f\"There are {actors_DOB_NAN_count} NAN values in the actors' birth date column of the characters dataset.\")\n",
    "print(f\"This corresponds of {missing_actors_DOB_percentage:.2f} % of the actors' birth dates total data. \\n\")\n",
    "\n",
    "\n",
    "# Computing number of NAN and percentage of NAN in the actors' gender column of the characters dataframe\n",
    "\n",
    "actors_genders_NAN_count = (characters_df['actor_gender'].isna() == True).sum()\n",
    "missing_actors_genders_percentage = characters_df['actor_gender'].isna().mean() * 100\n",
    "print(f\"There are {actors_genders_NAN_count} NAN values in the actors' gender column of the characters dataset.\")\n",
    "print(f\"This corresponds to a percentage of {missing_actors_genders_percentage:.2f} % of the actors' genders total data. \\n\")\n",
    "\n",
    "\n",
    "# Computing number of NAN and percentage of NAN in the actors' gender column of the characters dataframe\n",
    "\n",
    "actors_heights_NAN_count = (characters_df['actor_height'].isna() == True).sum()\n",
    "missing_actors_heights_percentage = characters_df['actor_height'].isna().mean() * 100\n",
    "print(f\"There are {actors_heights_NAN_count} NAN values in the actors' height column of the characters dataset.\")\n",
    "print(f\"This corresponds to a percentage of {missing_actors_heights_percentage:.2f} % of the actors' heights total data. \\n\")\n",
    "\n",
    "\n",
    "# Computing number of NAN and percentage of NAN in the actors' ethnicity column of the characters dataframe\n",
    "\n",
    "actors_ethnicities_NAN_count = (characters_df['actor_ethnicity_freebase_id'].isna() == True).sum()\n",
    "missing_actors_ethnicities_percentage = characters_df['actor_ethnicity_freebase_id'].isna().mean() * 100\n",
    "print(f\"There are {actors_ethnicities_NAN_count} NAN values in the actors' ethnicity column of the characters dataset.\")\n",
    "print(f\"This corresponds to a percentage of {missing_actors_ethnicities_percentage:.2f} % of the actors' ethinicities total data. \\n\")\n",
    "\n",
    "\n",
    "# Computing number of NAN and percentage of NAN in the actors' age at movie release column of the characters dataframe\n",
    "\n",
    "actors_age_movie_release_NAN_count = (characters_df['actor_age_movie_release'].isna() == True).sum()\n",
    "missing_actors_age_movie_release_percentage = characters_df['actor_age_movie_release'].isna().mean() * 100\n",
    "print(f\"There are {actors_age_movie_release_NAN_count} NAN values in the actors' age at movie release column of the characters dataset.\")\n",
    "print(f\"This corresponds to a percentage of {missing_actors_age_movie_release_percentage:.2f} % of the actors' age at movie release total data. \\n\")\n",
    "\n",
    "\n",
    "# Computing number of NAN and percentage of NAN in the movies' release date column of the characters dataframe\n",
    "\n",
    "movie_release_date_NAN_count = (characters_df['movie_release_date'].isna() == True).sum()\n",
    "missing_movie_release_date_percentage = characters_df['movie_release_date'].isna().mean() * 100\n",
    "print(f\"There are {movie_release_date_NAN_count} NAN values in the movies' release date column of the characters dataset.\")\n",
    "print(f\"This corresponds to a percentage of {missing_movie_release_date_percentage:.2f} % of the movies' release date total data. \\n\")\n",
    "\n",
    "\n",
    "# Computing number of NAN and percentage of NAN in the movies' box office column of the characters dataframe\n",
    "\n",
    "movie_box_office_NAN_count = (movies_df['box_office'].isna() == True).sum()\n",
    "missing_movie_box_office_percentage = movies_df['box_office'].isna().mean() * 100\n",
    "print(f\"There are {movie_box_office_NAN_count} NAN values in the movies' box office column of the characters dataset.\")\n",
    "print(f\"This corresponds to a percentage of {missing_movie_box_office_percentage:.2f} % of the movies' box office total data. \\n\")\n",
    "\n",
    "\n",
    "# Computing number of NAN and percentage of NAN in the movies' language column of the characters dataframe\n",
    "\n",
    "movie_lang_NAN_count = (movies_df['lang'].isna() == True).sum()\n",
    "missing_movie_lang_percentage = movies_df['lang'].isna().mean() * 100\n",
    "print(f\"There are {movie_lang_NAN_count} NAN values in the movies' language column of the characters dataset.\")\n",
    "print(f\"This corresponds to a percentage of {missing_movie_lang_percentage:.2f} % of the movies' languages total data. \\n\")\n",
    "\n",
    "\n",
    "# Computing number of NAN and percentage of NAN in the movies' country column of the characters dataframe\n",
    "\n",
    "movie_countries_NAN_count = (movies_df['country'].isna() == True).sum()\n",
    "missing_movie_countries_percentage = movies_df['country'].isna().mean() * 100\n",
    "print(f\"There are {movie_countries_NAN_count} NAN values in the movies' country column of the characters dataset.\")\n",
    "print(f\"This corresponds to a percentage of {missing_movie_countries_percentage:.2f} % of the movies' countries total data. \\n\")\n",
    "\n",
    "\n",
    "# Computing number of NAN and percentage of NAN in the movies' genre column of the characters dataframe\n",
    "\n",
    "movie_genres_NAN_count = (movies_df['genre'].isna() == True).sum()\n",
    "missing_movie_genres_percentage = movies_df['genre'].isna().mean() * 100\n",
    "print(f\"There are {movie_genres_NAN_count} NAN values in the movies' genre column of the characters dataset.\")\n",
    "print(f\"This corresponds to a percentage of {missing_movie_genres_percentage:.2f} % of the movies' genres total data. \\n\")"
   ]
  },
  {
   "cell_type": "markdown",
   "metadata": {},
   "source": [
    "**3.3) Word cloud algorithm**"
   ]
  },
  {
   "cell_type": "markdown",
   "metadata": {},
   "source": [
    "The algorithm below creates a words' list of all words present in movies' summaries with their associated frequencies of appearence in all summaries. Here, for now, we only print the top 50 most used words in summaries."
   ]
  },
  {
   "cell_type": "markdown",
   "metadata": {},
   "source": [
    "**ATTENTION:**\n",
    "Pour run le code pour cette partie, vous devez d'abord run les deux commandes commentées dans la cellule juste en-dessous une fois et ensuite vous pouvez les commenter de nouveau."
   ]
  },
  {
   "cell_type": "code",
   "execution_count": 24,
   "metadata": {},
   "outputs": [],
   "source": [
    "#nltk.download('punkt')\n",
    "#nltk.download('stopwords')"
   ]
  },
  {
   "cell_type": "code",
   "execution_count": 139,
   "metadata": {
    "tags": []
   },
   "outputs": [],
   "source": [
    "from collections import Counter\n",
    "import nltk\n",
    "from nltk import punkt\n",
    "from nltk.corpus import stopwords"
   ]
  },
  {
   "cell_type": "code",
   "execution_count": 140,
   "metadata": {
    "tags": []
   },
   "outputs": [
    {
     "ename": "LookupError",
     "evalue": "\n**********************************************************************\n  Resource \u001b[93mstopwords\u001b[0m not found.\n  Please use the NLTK Downloader to obtain the resource:\n\n  \u001b[31m>>> import nltk\n  >>> nltk.download('stopwords')\n  \u001b[0m\n  For more information see: https://www.nltk.org/data.html\n\n  Attempted to load \u001b[93mcorpora/stopwords\u001b[0m\n\n  Searched in:\n    - '/Users/eliamounier-poulat/nltk_data'\n    - '/Users/eliamounier-poulat/anaconda3/envs/ada/nltk_data'\n    - '/Users/eliamounier-poulat/anaconda3/envs/ada/share/nltk_data'\n    - '/Users/eliamounier-poulat/anaconda3/envs/ada/lib/nltk_data'\n    - '/usr/share/nltk_data'\n    - '/usr/local/share/nltk_data'\n    - '/usr/lib/nltk_data'\n    - '/usr/local/lib/nltk_data'\n**********************************************************************\n",
     "output_type": "error",
     "traceback": [
      "\u001b[0;31m---------------------------------------------------------------------------\u001b[0m",
      "\u001b[0;31mLookupError\u001b[0m                               Traceback (most recent call last)",
      "File \u001b[0;32m~/anaconda3/envs/ada/lib/python3.9/site-packages/nltk/corpus/util.py:84\u001b[0m, in \u001b[0;36mLazyCorpusLoader.__load\u001b[0;34m(self)\u001b[0m\n\u001b[1;32m     83\u001b[0m \u001b[39mtry\u001b[39;00m:\n\u001b[0;32m---> 84\u001b[0m     root \u001b[39m=\u001b[39m nltk\u001b[39m.\u001b[39;49mdata\u001b[39m.\u001b[39;49mfind(\u001b[39mf\u001b[39;49m\u001b[39m\"\u001b[39;49m\u001b[39m{\u001b[39;49;00m\u001b[39mself\u001b[39;49m\u001b[39m.\u001b[39;49msubdir\u001b[39m}\u001b[39;49;00m\u001b[39m/\u001b[39;49m\u001b[39m{\u001b[39;49;00mzip_name\u001b[39m}\u001b[39;49;00m\u001b[39m\"\u001b[39;49m)\n\u001b[1;32m     85\u001b[0m \u001b[39mexcept\u001b[39;00m \u001b[39mLookupError\u001b[39;00m:\n",
      "File \u001b[0;32m~/anaconda3/envs/ada/lib/python3.9/site-packages/nltk/data.py:583\u001b[0m, in \u001b[0;36mfind\u001b[0;34m(resource_name, paths)\u001b[0m\n\u001b[1;32m    582\u001b[0m resource_not_found \u001b[39m=\u001b[39m \u001b[39mf\u001b[39m\u001b[39m\"\u001b[39m\u001b[39m\\n\u001b[39;00m\u001b[39m{\u001b[39;00msep\u001b[39m}\u001b[39;00m\u001b[39m\\n\u001b[39;00m\u001b[39m{\u001b[39;00mmsg\u001b[39m}\u001b[39;00m\u001b[39m\\n\u001b[39;00m\u001b[39m{\u001b[39;00msep\u001b[39m}\u001b[39;00m\u001b[39m\\n\u001b[39;00m\u001b[39m\"\u001b[39m\n\u001b[0;32m--> 583\u001b[0m \u001b[39mraise\u001b[39;00m \u001b[39mLookupError\u001b[39;00m(resource_not_found)\n",
      "\u001b[0;31mLookupError\u001b[0m: \n**********************************************************************\n  Resource \u001b[93mstopwords\u001b[0m not found.\n  Please use the NLTK Downloader to obtain the resource:\n\n  \u001b[31m>>> import nltk\n  >>> nltk.download('stopwords')\n  \u001b[0m\n  For more information see: https://www.nltk.org/data.html\n\n  Attempted to load \u001b[93mcorpora/stopwords.zip/stopwords/\u001b[0m\n\n  Searched in:\n    - '/Users/eliamounier-poulat/nltk_data'\n    - '/Users/eliamounier-poulat/anaconda3/envs/ada/nltk_data'\n    - '/Users/eliamounier-poulat/anaconda3/envs/ada/share/nltk_data'\n    - '/Users/eliamounier-poulat/anaconda3/envs/ada/lib/nltk_data'\n    - '/usr/share/nltk_data'\n    - '/usr/local/share/nltk_data'\n    - '/usr/lib/nltk_data'\n    - '/usr/local/lib/nltk_data'\n**********************************************************************\n",
      "\nDuring handling of the above exception, another exception occurred:\n",
      "\u001b[0;31mLookupError\u001b[0m                               Traceback (most recent call last)",
      "\u001b[1;32m/Users/eliamounier-poulat/Documents/GitHub/ada-2023-project-onsecalme123/milestone2.ipynb Cell 46\u001b[0m line \u001b[0;36m1\n\u001b[1;32m      <a href='vscode-notebook-cell:/Users/eliamounier-poulat/Documents/GitHub/ada-2023-project-onsecalme123/milestone2.ipynb#Y363sZmlsZQ%3D%3D?line=6'>7</a>\u001b[0m words_freq \u001b[39m=\u001b[39m Counter(summaries_words) \u001b[39m# Count word frequencies\u001b[39;00m\n\u001b[1;32m     <a href='vscode-notebook-cell:/Users/eliamounier-poulat/Documents/GitHub/ada-2023-project-onsecalme123/milestone2.ipynb#Y363sZmlsZQ%3D%3D?line=9'>10</a>\u001b[0m \u001b[39m# Remove common stop words and punctuations\u001b[39;00m\n\u001b[0;32m---> <a href='vscode-notebook-cell:/Users/eliamounier-poulat/Documents/GitHub/ada-2023-project-onsecalme123/milestone2.ipynb#Y363sZmlsZQ%3D%3D?line=11'>12</a>\u001b[0m stop_words \u001b[39m=\u001b[39m \u001b[39mset\u001b[39m(stopwords\u001b[39m.\u001b[39;49mwords(\u001b[39m'\u001b[39m\u001b[39menglish\u001b[39m\u001b[39m'\u001b[39m))\n\u001b[1;32m     <a href='vscode-notebook-cell:/Users/eliamounier-poulat/Documents/GitHub/ada-2023-project-onsecalme123/milestone2.ipynb#Y363sZmlsZQ%3D%3D?line=12'>13</a>\u001b[0m word_freq \u001b[39m=\u001b[39m {word: freq \u001b[39mfor\u001b[39;00m word, freq \u001b[39min\u001b[39;00m words_freq\u001b[39m.\u001b[39mitems() \u001b[39mif\u001b[39;00m word \u001b[39mnot\u001b[39;00m \u001b[39min\u001b[39;00m stop_words \u001b[39mand\u001b[39;00m word\u001b[39m.\u001b[39misalpha()}\n\u001b[1;32m     <a href='vscode-notebook-cell:/Users/eliamounier-poulat/Documents/GitHub/ada-2023-project-onsecalme123/milestone2.ipynb#Y363sZmlsZQ%3D%3D?line=15'>16</a>\u001b[0m \u001b[39m# Sort words by frequency in descending order\u001b[39;00m\n",
      "File \u001b[0;32m~/anaconda3/envs/ada/lib/python3.9/site-packages/nltk/corpus/util.py:121\u001b[0m, in \u001b[0;36mLazyCorpusLoader.__getattr__\u001b[0;34m(self, attr)\u001b[0m\n\u001b[1;32m    118\u001b[0m \u001b[39mif\u001b[39;00m attr \u001b[39m==\u001b[39m \u001b[39m\"\u001b[39m\u001b[39m__bases__\u001b[39m\u001b[39m\"\u001b[39m:\n\u001b[1;32m    119\u001b[0m     \u001b[39mraise\u001b[39;00m \u001b[39mAttributeError\u001b[39;00m(\u001b[39m\"\u001b[39m\u001b[39mLazyCorpusLoader object has no attribute \u001b[39m\u001b[39m'\u001b[39m\u001b[39m__bases__\u001b[39m\u001b[39m'\u001b[39m\u001b[39m\"\u001b[39m)\n\u001b[0;32m--> 121\u001b[0m \u001b[39mself\u001b[39;49m\u001b[39m.\u001b[39;49m__load()\n\u001b[1;32m    122\u001b[0m \u001b[39m# This looks circular, but its not, since __load() changes our\u001b[39;00m\n\u001b[1;32m    123\u001b[0m \u001b[39m# __class__ to something new:\u001b[39;00m\n\u001b[1;32m    124\u001b[0m \u001b[39mreturn\u001b[39;00m \u001b[39mgetattr\u001b[39m(\u001b[39mself\u001b[39m, attr)\n",
      "File \u001b[0;32m~/anaconda3/envs/ada/lib/python3.9/site-packages/nltk/corpus/util.py:86\u001b[0m, in \u001b[0;36mLazyCorpusLoader.__load\u001b[0;34m(self)\u001b[0m\n\u001b[1;32m     84\u001b[0m             root \u001b[39m=\u001b[39m nltk\u001b[39m.\u001b[39mdata\u001b[39m.\u001b[39mfind(\u001b[39mf\u001b[39m\u001b[39m\"\u001b[39m\u001b[39m{\u001b[39;00m\u001b[39mself\u001b[39m\u001b[39m.\u001b[39msubdir\u001b[39m}\u001b[39;00m\u001b[39m/\u001b[39m\u001b[39m{\u001b[39;00mzip_name\u001b[39m}\u001b[39;00m\u001b[39m\"\u001b[39m)\n\u001b[1;32m     85\u001b[0m         \u001b[39mexcept\u001b[39;00m \u001b[39mLookupError\u001b[39;00m:\n\u001b[0;32m---> 86\u001b[0m             \u001b[39mraise\u001b[39;00m e\n\u001b[1;32m     88\u001b[0m \u001b[39m# Load the corpus.\u001b[39;00m\n\u001b[1;32m     89\u001b[0m corpus \u001b[39m=\u001b[39m \u001b[39mself\u001b[39m\u001b[39m.\u001b[39m__reader_cls(root, \u001b[39m*\u001b[39m\u001b[39mself\u001b[39m\u001b[39m.\u001b[39m__args, \u001b[39m*\u001b[39m\u001b[39m*\u001b[39m\u001b[39mself\u001b[39m\u001b[39m.\u001b[39m__kwargs)\n",
      "File \u001b[0;32m~/anaconda3/envs/ada/lib/python3.9/site-packages/nltk/corpus/util.py:81\u001b[0m, in \u001b[0;36mLazyCorpusLoader.__load\u001b[0;34m(self)\u001b[0m\n\u001b[1;32m     79\u001b[0m \u001b[39melse\u001b[39;00m:\n\u001b[1;32m     80\u001b[0m     \u001b[39mtry\u001b[39;00m:\n\u001b[0;32m---> 81\u001b[0m         root \u001b[39m=\u001b[39m nltk\u001b[39m.\u001b[39;49mdata\u001b[39m.\u001b[39;49mfind(\u001b[39mf\u001b[39;49m\u001b[39m\"\u001b[39;49m\u001b[39m{\u001b[39;49;00m\u001b[39mself\u001b[39;49m\u001b[39m.\u001b[39;49msubdir\u001b[39m}\u001b[39;49;00m\u001b[39m/\u001b[39;49m\u001b[39m{\u001b[39;49;00m\u001b[39mself\u001b[39;49m\u001b[39m.\u001b[39;49m__name\u001b[39m}\u001b[39;49;00m\u001b[39m\"\u001b[39;49m)\n\u001b[1;32m     82\u001b[0m     \u001b[39mexcept\u001b[39;00m \u001b[39mLookupError\u001b[39;00m \u001b[39mas\u001b[39;00m e:\n\u001b[1;32m     83\u001b[0m         \u001b[39mtry\u001b[39;00m:\n",
      "File \u001b[0;32m~/anaconda3/envs/ada/lib/python3.9/site-packages/nltk/data.py:583\u001b[0m, in \u001b[0;36mfind\u001b[0;34m(resource_name, paths)\u001b[0m\n\u001b[1;32m    581\u001b[0m sep \u001b[39m=\u001b[39m \u001b[39m\"\u001b[39m\u001b[39m*\u001b[39m\u001b[39m\"\u001b[39m \u001b[39m*\u001b[39m \u001b[39m70\u001b[39m\n\u001b[1;32m    582\u001b[0m resource_not_found \u001b[39m=\u001b[39m \u001b[39mf\u001b[39m\u001b[39m\"\u001b[39m\u001b[39m\\n\u001b[39;00m\u001b[39m{\u001b[39;00msep\u001b[39m}\u001b[39;00m\u001b[39m\\n\u001b[39;00m\u001b[39m{\u001b[39;00mmsg\u001b[39m}\u001b[39;00m\u001b[39m\\n\u001b[39;00m\u001b[39m{\u001b[39;00msep\u001b[39m}\u001b[39;00m\u001b[39m\\n\u001b[39;00m\u001b[39m\"\u001b[39m\n\u001b[0;32m--> 583\u001b[0m \u001b[39mraise\u001b[39;00m \u001b[39mLookupError\u001b[39;00m(resource_not_found)\n",
      "\u001b[0;31mLookupError\u001b[0m: \n**********************************************************************\n  Resource \u001b[93mstopwords\u001b[0m not found.\n  Please use the NLTK Downloader to obtain the resource:\n\n  \u001b[31m>>> import nltk\n  >>> nltk.download('stopwords')\n  \u001b[0m\n  For more information see: https://www.nltk.org/data.html\n\n  Attempted to load \u001b[93mcorpora/stopwords\u001b[0m\n\n  Searched in:\n    - '/Users/eliamounier-poulat/nltk_data'\n    - '/Users/eliamounier-poulat/anaconda3/envs/ada/nltk_data'\n    - '/Users/eliamounier-poulat/anaconda3/envs/ada/share/nltk_data'\n    - '/Users/eliamounier-poulat/anaconda3/envs/ada/lib/nltk_data'\n    - '/usr/share/nltk_data'\n    - '/usr/local/share/nltk_data'\n    - '/usr/lib/nltk_data'\n    - '/usr/local/lib/nltk_data'\n**********************************************************************\n"
     ]
    }
   ],
   "source": [
    "plot_summaries_df = plot_summaries.copy()\n",
    "\n",
    "# Pre-processing summaries' text data\n",
    "\n",
    "summaries_text = ' '.join(plot_summaries_df['summary']) # Combine all text data into a single string\n",
    "summaries_words = nltk.word_tokenize(summaries_text.lower()) # Convert to lowercase and tokenize\n",
    "words_freq = Counter(summaries_words) # Count word frequencies\n",
    "\n",
    "\n",
    "# Remove common stop words and punctuations\n",
    "\n",
    "stop_words = set(stopwords.words('english'))\n",
    "word_freq = {word: freq for word, freq in words_freq.items() if word not in stop_words and word.isalpha()}\n",
    "\n",
    "\n",
    "# Sort words by frequency in descending order\n",
    "\n",
    "sorted_word_freq = sorted(word_freq.items(), key=lambda x: x[1], reverse=True)\n",
    "\n",
    "\n",
    "# Extract the 50 most frequently appearing words in plots' summaries\n",
    "\n",
    "top_50_word = sorted_word_freq[:49]\n",
    "top_50_word_list = [word for word, _ in top_50_word]\n",
    "\n",
    "print(top_50_word_list)"
   ]
  },
  {
   "cell_type": "markdown",
   "metadata": {},
   "source": [
    "**3.4) Characters Features Analysis**"
   ]
  },
  {
   "cell_type": "markdown",
   "metadata": {},
   "source": [
    "Interesting questions:\n",
    "* How are we able to extract the \"villain\" and the \"main character\" from a movie plot? \n",
    "* How can we get their typical characteristics? \n",
    "* Can we test the principle of this for a specific movie?"
   ]
  },
  {
   "cell_type": "markdown",
   "metadata": {},
   "source": [
    "The code below allows to detect from a movie summary the movies' characters, the adjectives that characterize them and the verbs associated to them in the text. Here, a random movie summary has been chosen just to show that the code works."
   ]
  },
  {
   "cell_type": "markdown",
   "metadata": {},
   "source": [
    "**ATTENTION:** \n",
    "\n",
    "Pour run le code suivant, vous devez d'abord installer un environnement virtuel qui vous permettra d'intégrer le module SpaCy et de load la langue anglaise, ce qui permet de faire des analyses de textes non-biaisées et rapides.\n",
    "\n",
    "Pour cela, vous devez effectuer les commandes suivantes dans votre terminal sur Jupyter Notebook:\n",
    "```\n",
    "my_venvs_create spacy_env\n",
    "my_venvs_activate spacy_env\n",
    "pip install spacy\n",
    "python -m spacy download en_core_web_sm\n",
    "my_kernels_create py3_spacy \"Py3 Spacy\"\n",
    "my_venvs_deactivate\n",
    "```\n",
    "Et après, pour run votre notebook, choisissez comme kernel celui que vous venez de créer \"Py3 Spacy\"."
   ]
  },
  {
   "cell_type": "code",
   "execution_count": null,
   "metadata": {},
   "outputs": [],
   "source": [
    "import spacy"
   ]
  },
  {
   "cell_type": "code",
   "execution_count": 28,
   "metadata": {},
   "outputs": [],
   "source": [
    "# Load the English language model\n",
    "\n",
    "nlp = spacy.load(\"en_core_web_sm\")\n",
    "\n",
    "\n",
    "# Sample a movie summary\n",
    "\n",
    "movie_summary_example = plot_summaries['summary'][1]\n",
    "\n",
    "\n",
    "# Process the movie summary\n",
    "\n",
    "doc = nlp(movie_summary_example)\n",
    "\n",
    "\n",
    "# Create two dictionaries to store characters, their related adjectives and verbs\n",
    "\n",
    "characters_adjectives = {}\n",
    "characters_verbs = {}\n",
    "\n",
    "\n",
    "# Extract character's names (assuming it's mentioned as a proper noun)\n",
    "\n",
    "characters_names = []\n",
    "for entity in doc.ents:\n",
    "    if entity.label_ == \"PERSON\":\n",
    "        characters_names.append(entity.text)\n",
    "\n",
    "\n",
    "# Dropping characters' duplicates\n",
    "\n",
    "characters_names_unique = []\n",
    "for item in characters_names:\n",
    "    if item not in characters_names_unique:\n",
    "        characters_names_unique.append(item)"
   ]
  },
  {
   "cell_type": "code",
   "execution_count": 29,
   "metadata": {},
   "outputs": [
    {
     "name": "stdout",
     "output_type": "stream",
     "text": [
      "THE CHARACTERS AND THEIR RELATED ADJECTIVES: \n",
      "\n",
      "Katniss: tormenting \n",
      "\n",
      "Peeta Mellark: No related adjectives. \n",
      "\n",
      "baker: No related adjectives. \n",
      "\n",
      "Peeta: No related adjectives. \n",
      "\n",
      "Haymitch Abernathy: No related adjectives. \n",
      "\n",
      "Haymitch: No related adjectives. \n",
      "\n",
      "Rue: No related adjectives. \n",
      "\n",
      "Snow: No related adjectives. \n",
      "\n",
      "Seneca Crane: No related adjectives. \n",
      "\n",
      "Thresh: No related adjectives. \n",
      "\n",
      "Cato: No related adjectives. \n",
      "\n",
      "Crane: No related adjectives. \n",
      "\n"
     ]
    }
   ],
   "source": [
    "# Extract adjectives related to each character in the movie's summary\n",
    "\n",
    "adjectives = []\n",
    "for character in characters_names_unique:\n",
    "    for token in doc: \n",
    "        if token.pos_ == \"ADJ\" and token.head.text == character:\n",
    "            adjectives.append(token.text)\n",
    "   \n",
    "        if len(adjectives) == 0 :\n",
    "            characters_adjectives[character] = ['No related adjectives.']\n",
    "        else:\n",
    "            characters_adjectives[character] = adjectives\n",
    "    \n",
    "    adjectives = []\n",
    "\n",
    "    \n",
    "# Print the results\n",
    "\n",
    "print(\"THE CHARACTERS AND THEIR RELATED ADJECTIVES: \\n\")\n",
    "for character_name, adjectives in characters_adjectives.items():\n",
    "    print(f\"{character_name}: {', '.join(adjectives)} \\n\")"
   ]
  },
  {
   "cell_type": "code",
   "execution_count": 30,
   "metadata": {},
   "outputs": [
    {
     "name": "stdout",
     "output_type": "stream",
     "text": [
      "THE CHARACTERS AND THEIR RELATED VERBS: \n",
      "\n",
      "Katniss: take, gave, starving, taken, accompanied, reveals, televised, begin, killed, survives, ignoring, run, tempting, strewn, called, find, corner, drops, warned, run, cares, recovers, has, draw, destroys, setting, planted, runs, hears, calling, throws, dodges, causing, stab, shoots, presented, crossed, convince, make, avoid, inciting, hearing, finds, promises, go, falls, heads, kills, overhearing, killing, spares, kill, force, flee, encounter, wounds, hurls, shoots, spare, prolonged, allowing, revoked, tells, shoot, warns, made \n",
      "\n",
      "Peeta Mellark: No related verbs. \n",
      "\n",
      "baker: gave, starving \n",
      "\n",
      "Peeta: gave, starving, taken, accompanied, reveals, discovers, meant, said, forms, warned, run, presented, crossed, convince, make, avoid, inciting, hearing, finds, begs, risk, getting, works, keeping, dies, eating, stole, knew, kill, force, flee, encounter, wounds, hurls, allowing, revoked, tells, shoot, locked, considers \n",
      "\n",
      "Haymitch Abernathy: No related verbs. \n",
      "\n",
      "Haymitch: taken, accompanied, televised, begin, killed, survives, ignoring, run, tempting, strewn, called, presented, crossed, convince, make, avoid, inciting, warns, made \n",
      "\n",
      "Rue: Rue, hiding, draws, hanging, cares, recovers, has, draw, destroys, setting, planted, runs, hears, calling, finds, trapped, releases, throws, dodges, causing, stab, comforts, dying, gathers, arranges, televised, sparks, kills, overhearing, killing, spares \n",
      "\n",
      "Snow: express, turning, locked, considers \n",
      "\n",
      "Seneca Crane: No related verbs. \n",
      "\n",
      "Thresh: kills, overhearing, killing, kill, force, flee, encounter \n",
      "\n",
      "Cato: kills, assigned, guard, kill, force, flee, encounter, wounds, hurls, shoots, spare, prolonged \n",
      "\n",
      "Crane: express, turning, presented, crossed, convince, make, avoid, inciting, changes, unleashes, speed, locked, considers \n",
      "\n"
     ]
    }
   ],
   "source": [
    "# Extract verbs related to each character in the movie's summary\n",
    "\n",
    "verbs = []\n",
    "for character in characters_names_unique:\n",
    "    for sentence in doc.sents:\n",
    "        for token in sentence: \n",
    "            if token.pos_ == \"VERB\" and character in [word.text for word in sentence]:\n",
    "                verbs.append(token.text)\n",
    "            if len(verbs) == 0:\n",
    "                characters_verbs[character] = ['No related verbs.']\n",
    "            else:\n",
    "                characters_verbs[character] = verbs\n",
    "    verbs = []\n",
    "\n",
    "\n",
    "# Print the results\n",
    "\n",
    "print(\"THE CHARACTERS AND THEIR RELATED VERBS: \\n\")\n",
    "for character_name, verbs in characters_verbs.items():\n",
    "    print(f\"{character_name}: {', '.join(verbs)} \\n\")"
   ]
  },
  {
   "cell_type": "markdown",
   "metadata": {},
   "source": [
    "**3.5) Presence of outlier characteristics**\n",
    "\n",
    "We need to analyze each of the important characteristics for us to see if there are other values apart from NaN's that we cannot use for our data analysis. Ex: \"German Language\" in column \"Country\".\n",
    "The important characteristics are:\n",
    "- Actor DOB\n",
    "- Actor Gender\n",
    "- Actor Height\n",
    "- Actor Ethnicity\n",
    "- Actor Age at movie release\n",
    "- Movie Release Date\n",
    "- Movie Box Office Revenue\n",
    "- Movie Languages\n",
    "- Movie Countries\n",
    "- Movie Genres"
   ]
  },
  {
   "cell_type": "markdown",
   "metadata": {},
   "source": [
    "**3.5.1) Outlier Characteristics of Actor DOB**"
   ]
  },
  {
   "cell_type": "code",
   "execution_count": 31,
   "metadata": {
    "tags": []
   },
   "outputs": [
    {
     "name": "stdout",
     "output_type": "stream",
     "text": [
      "['1938', '1926-08', '1979-11', '2002-02', '1947-10', '1876', '1972', '1979-04', '1971-11', '1957-08', '1993-01', '1857', '1938-02', '1927', '1943-10', '0183', '1894', '1995-12', '1947-06', '1975-02']\n",
      "['1498', '0183', '1498', '2050']\n"
     ]
    }
   ],
   "source": [
    "# Testing for outliers contained in the \"actor_birth_date\" column\n",
    "\n",
    "from datetime import datetime\n",
    "import re\n",
    "\n",
    "outlier_dates_birth = [date for date in characters['actor_birth_date'] if not re.match(r'\\d{4}-\\d{2}-\\d{2}', str(date))]\n",
    "outlier_dates_birth_unique = list(set(outlier_dates_birth))\n",
    "\n",
    "print(outlier_dates_birth_unique[:20])\n",
    "\n",
    "\n",
    "# Check for dates out of our timerange\n",
    "\n",
    "impossible_dates_birth = []\n",
    "\n",
    "for date in outlier_dates_birth:\n",
    "    if isinstance(date, str): # Don't take into consideration nan's\n",
    "        year_string = date.split('-')[0] # Extract the 'year' from the date\n",
    "        if (int(year_string) > 2016 or int(year_string) < 1800):  \n",
    "            impossible_dates_birth.append(date)\n",
    "\n",
    "        \n",
    "print(impossible_dates_birth)"
   ]
  },
  {
   "cell_type": "markdown",
   "metadata": {},
   "source": [
    "Important observations of the column 'actor_birth_date':\n",
    "- Contains NaN's\n",
    "- Contains dates of different detail:\n",
    "    - YYYY-MM-DD\n",
    "    - YYYY-MM\n",
    "    - YYYY\n",
    "- Contains invalid dates (ex: '2050', which would be an actor born after the year our dataset was collected in or '1498' where the actor would certainly already be dead when the movie is produced)\n",
    "\n",
    "Comment: Only the first 20 elemenents of outlier actor birth dates were printed here due to clarity reasons, however all were evaluated when observing the dataset. "
   ]
  },
  {
   "cell_type": "markdown",
   "metadata": {},
   "source": [
    "**3.5.2) Outlier Characteristics of Actor Gender**"
   ]
  },
  {
   "cell_type": "code",
   "execution_count": 32,
   "metadata": {
    "tags": []
   },
   "outputs": [
    {
     "name": "stdout",
     "output_type": "stream",
     "text": [
      "[nan]\n"
     ]
    }
   ],
   "source": [
    "# Testing for outliers contained in the \"actor_gender\" column\n",
    "\n",
    "outlier_gender = [gender for gender in characters['actor_gender'] if gender not in ('F', 'M')]\n",
    "outlier_gender_unique = list(set(outlier_gender))\n",
    "\n",
    "print(outlier_gender_unique)\n"
   ]
  },
  {
   "cell_type": "markdown",
   "metadata": {},
   "source": [
    "Important observations of the column 'actor_gender':\n",
    "- Contains NaN's\n",
    "- Contains no invalid genders (ex: 'J' or '3')"
   ]
  },
  {
   "cell_type": "markdown",
   "metadata": {},
   "source": [
    "**3.5.3) Outlier Characteristics of Actor Height**"
   ]
  },
  {
   "cell_type": "code",
   "execution_count": 33,
   "metadata": {
    "tags": []
   },
   "outputs": [
    {
     "name": "stdout",
     "output_type": "stream",
     "text": [
      "[]\n",
      "[0.813, 0.88, 180.0, 0.88, 0.83, 510.0, 180.0, 0.813, 0.813, 0.88, 0.88, 1.0, 510.0, 0.813, 0.94, 0.813, 0.813, 0.88, 0.88, 0.813, 1.0, 510.0, 0.813, 180.0, 1.0, 0.813, 1.0, 1.0, 0.83, 510.0, 510.0, 1.0, 1.0, 510.0, 0.813, 0.813, 180.0, 1.0, 510.0, 0.88, 510.0, 1.0, 510.0, 0.813, 510.0, 510.0, 0.813, 0.88, 0.61, 0.61, 0.88]\n"
     ]
    }
   ],
   "source": [
    "# Testing for outliers contained in the \"actor_height\" column\n",
    "\n",
    "outliers_height = [height for height in characters['actor_height'] if type(height) != float]\n",
    "outliers_height_unique = list(set(outliers_height))\n",
    "print(outliers_height_unique)\n",
    "\n",
    "\n",
    "# Testing for actor_heights that are out of range (smaller than 1m or bigger than 3m)\n",
    "\n",
    "impossible_height = [height for height in characters['actor_height'] if (height >= 3 or height <= 1)]\n",
    "print(impossible_height)"
   ]
  },
  {
   "cell_type": "markdown",
   "metadata": {},
   "source": [
    "Important observations of the column 'actor_height':\n",
    "- Contains NaN's (NaN's are recognized as floats here, are present)\n",
    "- Apart from Nan's there are no non-float values\n",
    "- Column does contain some improbable heights of actors that are either too big or too small to be possible (<1m or >3m). Some of those may be due to child-actors, however it is very possible that some are due to an error in units (inches or cm)."
   ]
  },
  {
   "cell_type": "markdown",
   "metadata": {},
   "source": [
    "**3.5.4) Outlier Characteristics of Actor Ethnicity**"
   ]
  },
  {
   "cell_type": "code",
   "execution_count": 45,
   "metadata": {
    "tags": []
   },
   "outputs": [
    {
     "name": "stdout",
     "output_type": "stream",
     "text": [
      "['Apache', 'Croatian Canadians', 'Italian Brazilians', 'Blackfoot Confederacy', 'Puerto Ricans', 'Jatt Sikh', 'Cheyennes', 'Welsh people', 'Ilocano', 'Sioux', 'British Jamaicans', 'Bangladeshi American', 'Dene', 'Hindkowans', 'Vietnamese Americans', 'Sherpa', 'Kapampangan people', 'Arab Americans', 'Thai Chinese people', 'English Canadians']\n"
     ]
    }
   ],
   "source": [
    "# Testing for outliers contained in the 'actor_ethnicity' column of 'characters_ethnicities' dataset\n",
    "\n",
    "listing_ethnicities = [ethnicity for ethnicity in characters_ethnicities['actor_ethnicity']]\n",
    "unique_ethnicities = list(set(listing_ethnicities))\n",
    "print(unique_ethnicities[:20])"
   ]
  },
  {
   "cell_type": "markdown",
   "metadata": {},
   "source": [
    "Important observations of the column 'actor_ethnicity':\n",
    "- Contains NaN's\n",
    "- Contains very detailed ethnicities (example: Croatian Canadians)\n",
    "- Some invalid ethnicities are present, such as: 'Q25467191', 'history of the Jews in India', 'Q31340083' and 'names of the Greeks'\n",
    "\n",
    "Comment: Only the first 20 elemenents of ethnicities were printed here due to clarity reasons, however all were evaluated when observing the dataset. "
   ]
  },
  {
   "cell_type": "markdown",
   "metadata": {},
   "source": [
    "**3.5.5) Outlier Characteristics of Actor Age at Movie Release**"
   ]
  },
  {
   "cell_type": "code",
   "execution_count": 35,
   "metadata": {
    "tags": []
   },
   "outputs": [
    {
     "name": "stdout",
     "output_type": "stream",
     "text": [
      "[]\n",
      "[-29.0, -12.0, -18.0, -48.0, -17.0, -12.0, -26.0, -12.0, -10.0, -12.0, -5.0, -25.0, -14.0, -5.0, -29.0, -7.0, -21.0, -13.0, -1.0, -2.0]\n"
     ]
    }
   ],
   "source": [
    "# Testing for outliers contained in the 'actor_age_movie_release' column\n",
    "\n",
    "outliers_age_release = [age_release for age_release in characters['actor_age_movie_release'] if type(age_release) != float]\n",
    "outliers_age_release_unique = list(set(outliers_age_release))\n",
    "print(outliers_age_release_unique)\n",
    "\n",
    "\n",
    "# Testing for actor_age_movie_release that are out of range (<0)\n",
    "\n",
    "impossible_age_release = [age_release for age_release in characters['actor_age_movie_release'] if (age_release < 0)]\n",
    "print(impossible_age_release[:20])"
   ]
  },
  {
   "cell_type": "markdown",
   "metadata": {},
   "source": [
    "Important observations for the column 'actor_age_movie_release':\n",
    "- Contains NaN's (NaN's are recognized as floats here, are present)\n",
    "- Apart from Nan's there are no non-float values\n",
    "- Column does contain some impossible ages of actors at movie release (such as <0)\n",
    "\n",
    "Comment: Only the first 20 elemenents of impossible ages were printed here due to clarity reasons, however all were evaluated when observing the dataset."
   ]
  },
  {
   "cell_type": "markdown",
   "metadata": {},
   "source": [
    "**3.3.6) Outlier Characteristics of Movie Release Dates**"
   ]
  },
  {
   "cell_type": "code",
   "execution_count": 36,
   "metadata": {
    "tags": []
   },
   "outputs": [
    {
     "name": "stdout",
     "output_type": "stream",
     "text": [
      "['1938', '1983-12', '2011-12', '2004-08', '1979-11', '2004-02', '1980-11', '2002-02', '2013-01', '1982-02', '2011-10', '1977-08', '1950-01', '1978-10', '1942-02', '1933-11', '1991-06', '1916-10', '1972', '1919-03']\n",
      "[]\n"
     ]
    }
   ],
   "source": [
    "# Testing for outliers contained in the \"movie_release_date\" column\n",
    "\n",
    "outlier_release_dates = [date for date in characters['movie_release_date'] if not re.match(r'\\d{4}-\\d{2}-\\d{2}', str(date))]\n",
    "outlier_release_dates_unique = list(set(outlier_release_dates))\n",
    "\n",
    "print(outlier_release_dates_unique[:20])\n",
    "\n",
    "\n",
    "# Check for dates out of our timerange\n",
    "\n",
    "impossible_release_dates = []\n",
    "\n",
    "for date in outlier_release_dates:\n",
    "    if isinstance(date, str): # Don't take into consideration nan's\n",
    "        year_string = date.split('-')[0] # Extract the 'year' from the date\n",
    "        if (int(year_string) < 1800 or int(year_string) > 2023):  \n",
    "            impossible_dates.append(date)\n",
    "\n",
    "        \n",
    "print(impossible_release_dates)"
   ]
  },
  {
   "cell_type": "markdown",
   "metadata": {},
   "source": [
    "Important observations of the column 'movie_release_date':\n",
    "- Contains NaN's\n",
    "- Contains dates of different detail:\n",
    "    - YYYY-MM-DD\n",
    "    - YYYY-MM\n",
    "    - YYYY\n",
    "    \n",
    "Comment: Only the first 20 elemenents of outlier movie release dates were printed here due to clarity reasons, however all were evaluated when observing the dataset."
   ]
  },
  {
   "cell_type": "markdown",
   "metadata": {},
   "source": [
    "**3.3.7) Outlier Characteristics of Movie Box Office Revenue**"
   ]
  },
  {
   "cell_type": "code",
   "execution_count": 37,
   "metadata": {
    "tags": []
   },
   "outputs": [
    {
     "name": "stdout",
     "output_type": "stream",
     "text": [
      "[]\n",
      "[]\n"
     ]
    }
   ],
   "source": [
    "# Testing for outliers contained in the \"box_office\" column\n",
    "\n",
    "movies.head()\n",
    "\n",
    "outliers_box_office = [box for box in movies['box_office'] if type(box) != float]\n",
    "outliers_box_office_unique = list(set(outliers_box_office))\n",
    "print(outliers_box_office_unique)\n",
    "\n",
    "\n",
    "# Testing for box office revenues that are out of range (<0)\n",
    "\n",
    "impossible_box_office = [box for box in movies['box_office'] if (box < 0)]\n",
    "print(impossible_box_office)"
   ]
  },
  {
   "cell_type": "markdown",
   "metadata": {},
   "source": [
    "Important observations of the column 'box_office':\n",
    "\n",
    "- Contains NaN's (NaN's are recognized as floats here, are present)\n",
    "- Apart from Nan's there are no non-float values\n",
    "- Column does not contain impossible (<0) box office revenues"
   ]
  },
  {
   "cell_type": "markdown",
   "metadata": {},
   "source": [
    "**3.3.8) Outlier Characteristics of Movie Languages**"
   ]
  },
  {
   "cell_type": "code",
   "execution_count": 38,
   "metadata": {
    "tags": []
   },
   "outputs": [
    {
     "name": "stdout",
     "output_type": "stream",
     "text": [
      "['Fula language', 'Irish', 'Maya, Yucatán Language', 'Slovenian language', 'Judeo-Georgian Language', 'Japanese Language', 'Greek Language', 'Flemish language', 'Silent film', 'Brazilian Portuguese', 'Chechen Language', 'Telugu language', 'Zulu Language', 'Quechua', 'Dutch Language', 'Latin Language', 'Assamese Language', 'Malayalam Language', 'Hopi Language', 'Hainanese']\n"
     ]
    }
   ],
   "source": [
    "# Testing for outliers contained in the \"lang\" column\n",
    "\n",
    "languages_list_unique = list(set(languages_list))\n",
    "print(languages_list_unique[:20])"
   ]
  },
  {
   "cell_type": "markdown",
   "metadata": {},
   "source": [
    "Important observations of the column 'lang':\n",
    "- Some entries are not languages in the traditional sense but rather countries such as 'France', 'Hungary' and 'Japan'\n",
    "- Important to notice is that some languages may be the same but described differently for different movies (e.g. 'german' vs 'deutsch')\n",
    "- Some languages when described in their own language use a different alphabet, e.g. '𐐖𐐲𐑉𐑋𐑌𐐲'\n",
    "- When a film is a silent film this is marked by the entry 'silent film'\n",
    "- Contains invalid values such as 'a' (this is because here we have not dropped the NAN's and 'n' and 'a' are recognized as individual languages).  \n",
    "\n",
    "Comment: Only the first 20 elemenents of outlier languages were printed here due to clarity reasons, however all were evaluated when observing the dataset. "
   ]
  },
  {
   "cell_type": "markdown",
   "metadata": {},
   "source": [
    "**3.3.9) Outlier Characteristics of Movie Countries**"
   ]
  },
  {
   "cell_type": "markdown",
   "metadata": {},
   "source": [
    "--> See part 3.1)"
   ]
  },
  {
   "cell_type": "markdown",
   "metadata": {},
   "source": [
    "**3.3.10) Outlier Characteristics of Movie Genres**"
   ]
  },
  {
   "cell_type": "code",
   "execution_count": 39,
   "metadata": {
    "tags": []
   },
   "outputs": [
    {
     "name": "stdout",
     "output_type": "stream",
     "text": [
      "['Feminist Film', 'Splatter film', 'Blaxploitation', 'Revisionist Western', 'Spaghetti Western', 'Docudrama', 'Breakdance', 'Animated Musical', 'World History', 'Swashbuckler films', 'Comedy horror', 'News', 'Comedy-drama', 'Law & Crime', 'Humour', 'Bengali Cinema', 'Indian Western', 'Medical fiction', 'Tollywood', 'Chinese Movies']\n"
     ]
    }
   ],
   "source": [
    "# Testing for outliers contained in the \"genre\" column\n",
    "\n",
    "genres_list_unique = list(set(genres_list))\n",
    "print(genres_list_unique[:20])"
   ]
  },
  {
   "cell_type": "markdown",
   "metadata": {},
   "source": [
    "Important observations of the column 'genre':\n",
    "- Presence of NaN's\n",
    "- The genres are very specific, to a point where it can even describe the topic a bit (e.g. 'Cold War', 'Alien Invasion')\n",
    "\n",
    "Comment: Only the first 20 elemenents of genres were printed here due to clarity reasons, however all were evaluated when observing the dataset. "
   ]
  },
  {
   "cell_type": "markdown",
   "metadata": {},
   "source": [
    "## 4. Data Pre-Processing"
   ]
  },
  {
   "cell_type": "markdown",
   "metadata": {},
   "source": [
    "--> Data Cleaning (remove Nans and invalid values), merging data if neccessary."
   ]
  },
  {
   "cell_type": "markdown",
   "metadata": {},
   "source": [
    "## 5. \"Films as a mirror of society\" general overview"
   ]
  },
  {
   "cell_type": "markdown",
   "metadata": {},
   "source": [
    "5.1) plot genre of movies against time and against country groups"
   ]
  },
  {
   "cell_type": "markdown",
   "metadata": {},
   "source": [
    "5.2) plot movie box revenues of regions against time. How do we want to take the effect of inflation into account?"
   ]
  },
  {
   "cell_type": "markdown",
   "metadata": {},
   "source": [
    "5.3) plot average number of languages spoken in movies against time for each region."
   ]
  },
  {
   "cell_type": "markdown",
   "metadata": {},
   "source": [
    "5.4) plot percentage of women in movies over time in different regions. How does this plot change when looking at percentage of female main characters?"
   ]
  },
  {
   "cell_type": "markdown",
   "metadata": {},
   "source": [
    "5.5) Plot average age actors over the years and in different regions at movie release date. How does this change if we separate age data based on gender?"
   ]
  },
  {
   "cell_type": "markdown",
   "metadata": {},
   "source": [
    "5.6) Plot average # of ethnicites of characters represented in movies over years in different regions. Does this change when looking at the main character?"
   ]
  },
  {
   "cell_type": "markdown",
   "metadata": {},
   "source": [
    "... Elaborate on further questions mentioned in the readme."
   ]
  },
  {
   "cell_type": "markdown",
   "metadata": {},
   "source": [
    "## 6. Diving into diverse societal events"
   ]
  },
  {
   "cell_type": "markdown",
   "metadata": {},
   "source": [
    "6.1) Creation of a \"word cloud\" for each historical event. What are the most common words used in a plot summary?"
   ]
  },
  {
   "cell_type": "markdown",
   "metadata": {},
   "source": [
    "6.2) Find the typical main character and the typical villain of each era. What adjectives describe them. Find the \"most representative main character/villain\" for each era. "
   ]
  },
  {
   "cell_type": "markdown",
   "metadata": {},
   "source": [
    "--> It might be a good idea to represent the specific interesting findings that we found in the \"general overview\" in the relative time period it was found in. (e.g. higher representation of LGBTQ+ characters may be mentioned in the corresponding era it was found in). Does not really make a lot of sense to mention in the WWII era that we *did not* find a high LGBTQ+ representation (unless of course we surprisingly find one). "
   ]
  },
  {
   "cell_type": "code",
   "execution_count": null,
   "metadata": {},
   "outputs": [],
   "source": []
  },
  {
   "cell_type": "code",
   "execution_count": null,
   "metadata": {},
   "outputs": [],
   "source": []
  },
  {
   "cell_type": "markdown",
   "metadata": {},
   "source": [
    "### Mapping movies to the historical events they represent"
   ]
  },
  {
   "cell_type": "markdown",
   "metadata": {},
   "source": [
    "> The focus of our project is to study how societal events are reflected in movies. Initially, we attempted to categorize them based on their genres. However, leading our study solely according to the genres to which the movies belong seems quite challenging, as genres may not accurately reflect historical events. \n",
    ">\n",
    "> As a result, we have decided to adopt another approach by mapping movies to the historical events they are linked to through a keyword search in their plot summaries. To achieve this, we created event-related dictionaries using specialized lexicons. We then engineered metrics to determine whether a movie represents a specific event or not."
   ]
  },
  {
   "cell_type": "markdown",
   "metadata": {},
   "source": [
    "#### Events dictionnaries"
   ]
  },
  {
   "cell_type": "markdown",
   "metadata": {},
   "source": [
    "> We decided to focus our study on nine different events that dominated the past century: WW1, WW2, the Cold War, <span style=\"color: red;\">COMPLETE IN CHRONOLOGICAL ORDER :D</span>. The dictionaries are defined below and were inspired by content found on the internet (https://www.oed.com/discover/word-lists)."
   ]
  },
  {
   "cell_type": "code",
   "execution_count": null,
   "metadata": {},
   "outputs": [],
   "source": [
    "# SELF_REMINDER : PLOTS SUMMARIES HAVE TO BE LOWERCASED\n",
    "# AUSSI: trier chrnologiquement les events ci dessous "
   ]
  },
  {
   "cell_type": "code",
   "execution_count": 142,
   "metadata": {},
   "outputs": [],
   "source": [
    "# World War 1 dictionnary\n",
    "\n",
    "ww1_dict = [\n",
    "    \"World War I\", \"1914\", \"1916\", \"1917\", \"1918\", \"The Great War\", \"Verdun\", \"Somme\", \"Mustard Gas\", \"No Man's Land\", \n",
    "    \"Armistice\", \"Front\", \"Allied\", \"Assassination\", \"Treaty\", \"Women in Wartime\", \"Trenches\", \"Chemical\", \n",
    "    \"Shell\", \"Warfare\", \"Mobilize\", \"Treaty of Versailles\", \"War Effort\", \"Air Raids\", \"Unknown Soldier\", \"Rationing\", \n",
    "    \"Colonial Troops\", \"Tank\", \"Battlefield\",   \n",
    "]\n",
    "ww1_dict = [elt.lower() for elt in ww1_dict]\n",
    "\n",
    "\n",
    "# World War 2 dictionnary \n",
    "\n",
    "ww2_dict = [\n",
    "    \"World War II\", \"1939\", \"1940\", \"1941\", \"1942\", \"1943\", \"1944\", \"1945\", \"Axis Powers\", \"Allied Powers\", \n",
    "    \"Hitler\", \"Churchill\", \"Roosevelt\", \"Stalin\", \"Holocaust\", \"Pearl Harbor\", \"Hiroshima\", \"Nagasaki\", \"Nazis\", \"Concentration Camps\",\n",
    "    \"Kamikaze\", \"Fascism\", \"Dunkirk\", \"Atomic Bomb\", \"Nuclear\", \"Guided Missile\", \"United Nations\", \"Enigma Code\", \"D-Day\", \"Reich\", \"Resistance\",\n",
    "    \"Marshall Plan\", \"Gestapo\", \"Deportation\", 'Auschwitz','Bombardment'\n",
    "]\n",
    "ww2_dict = [elt.lower() for elt in ww2_dict]\n",
    "\n",
    "\n",
    "# LGBT emancipation dictionnary\n",
    "\n",
    "lgbt_dict = [\n",
    "    \"Gay\", \"Lesbian\", \"LGBT Pride\", \"Bisexual\", \"Drag Queen\", \"Transexual\", \"Marriage Equality\", \"Homosexual\", \"Comming Out\", \n",
    "    \"Homosexual Rights\", \"AIDS stigma\", \"Non Binary\", \"Queer\", \"Freddie Mercury\", \"LGBTQ+\", \"Two-Spirit\", \"Transphobia\", \"Gender Identity\"\n",
    "]\n",
    "lgbt_dict = [elt.lower() for elt in lgbt_dict]\n",
    "\n",
    "\n",
    "# Technologies dictionnary\n",
    "\n",
    "technologies_dict = [\n",
    "    \"Internet\", \"Drones\", \"Rockets\", \"Computer\", \"Mobile Phone\", \"Web\", \"Robots\", \"Artificial Intelligence\", \"Social Media\", \"Technologies\",\n",
    "    \"Gene Editing\", \"Hackers\", \"LapTop\", \"Screen\", \"Facebook\", \"Software\", \"Camera\",    \n",
    "]\n",
    "technologies_dict = [elt.lower() for elt in technologies_dict]\n",
    "\n"
   ]
  },
  {
   "cell_type": "markdown",
   "metadata": {},
   "source": [
    "#### Movie categorization by events"
   ]
  },
  {
   "cell_type": "code",
   "execution_count": null,
   "metadata": {},
   "outputs": [],
   "source": [
    "# RUN LE SET UP DE CHARLOTTE + HAUT , DELETE CETTE CELL PLUS TARD C4EST JUSTE POUR CONVENIENCE\n",
    "import spacy\n",
    "from collections import Counter\n",
    "import nltk\n",
    "from nltk import punkt\n",
    "from nltk.corpus import stopwords\n",
    "# BIEN FAIRE LES DOWNLOADS QUELLE ECRIT DANS SA PARTIE"
   ]
  },
  {
   "cell_type": "code",
   "execution_count": 143,
   "metadata": {},
   "outputs": [],
   "source": [
    "from nltk.tokenize import word_tokenize # additional import for this part à mettre tout en haut"
   ]
  },
  {
   "cell_type": "code",
   "execution_count": 144,
   "metadata": {},
   "outputs": [
    {
     "name": "stdout",
     "output_type": "stream",
     "text": [
      "(42303, 2)\n",
      "(81741, 9)\n"
     ]
    }
   ],
   "source": [
    "movie_plots = plot_summaries.copy()\n",
    "movie_info = movies.copy()\n",
    "\n",
    "print(movie_plots.shape)\n",
    "print(movie_info.shape)"
   ]
  },
  {
   "cell_type": "code",
   "execution_count": 145,
   "metadata": {},
   "outputs": [
    {
     "name": "stdout",
     "output_type": "stream",
     "text": [
      "(42204, 11)\n"
     ]
    }
   ],
   "source": [
    "# Merging movie and plot_summaries datasets\n",
    "\n",
    "merged_df = pd.merge(movie_info, movie_plots, how='inner', left_on='id_wiki', right_on='id_wiki_movie').copy()\n",
    "\n",
    "print(merged_df.shape)"
   ]
  },
  {
   "cell_type": "markdown",
   "metadata": {},
   "source": [
    "> We don't lose too many movies during the merge :)"
   ]
  },
  {
   "cell_type": "markdown",
   "metadata": {},
   "source": [
    "> Our approach involves setting a threshold for each dictionary, indicating the minimum number of matching words required to classify a movie as belonging to an event. \n",
    ">\n",
    "> We decide to initialize it at 1 for all dictionaries, and we'll adjust the thresholds later."
   ]
  },
  {
   "cell_type": "code",
   "execution_count": 147,
   "metadata": {},
   "outputs": [
    {
     "data": {
      "text/html": [
       "<div>\n",
       "<style scoped>\n",
       "    .dataframe tbody tr th:only-of-type {\n",
       "        vertical-align: middle;\n",
       "    }\n",
       "\n",
       "    .dataframe tbody tr th {\n",
       "        vertical-align: top;\n",
       "    }\n",
       "\n",
       "    .dataframe thead th {\n",
       "        text-align: right;\n",
       "    }\n",
       "</style>\n",
       "<table border=\"1\" class=\"dataframe\">\n",
       "  <thead>\n",
       "    <tr style=\"text-align: right;\">\n",
       "      <th></th>\n",
       "      <th>event_words</th>\n",
       "      <th>thresholds</th>\n",
       "    </tr>\n",
       "  </thead>\n",
       "  <tbody>\n",
       "    <tr>\n",
       "      <th>WW1</th>\n",
       "      <td>[world war i, 1914, 1916, 1917, 1918, the grea...</td>\n",
       "      <td>1</td>\n",
       "    </tr>\n",
       "    <tr>\n",
       "      <th>WW2</th>\n",
       "      <td>[world war ii, 1939, 1940, 1941, 1942, 1943, 1...</td>\n",
       "      <td>1</td>\n",
       "    </tr>\n",
       "    <tr>\n",
       "      <th>LGBT</th>\n",
       "      <td>[gay, lesbian, lgbt pride, bisexual, drag quee...</td>\n",
       "      <td>1</td>\n",
       "    </tr>\n",
       "    <tr>\n",
       "      <th>TECHNOLOGIES</th>\n",
       "      <td>[internet, drones, rockets, computer, mobile p...</td>\n",
       "      <td>1</td>\n",
       "    </tr>\n",
       "  </tbody>\n",
       "</table>\n",
       "</div>"
      ],
      "text/plain": [
       "                                                    event_words  thresholds\n",
       "WW1           [world war i, 1914, 1916, 1917, 1918, the grea...           1\n",
       "WW2           [world war ii, 1939, 1940, 1941, 1942, 1943, 1...           1\n",
       "LGBT          [gay, lesbian, lgbt pride, bisexual, drag quee...           1\n",
       "TECHNOLOGIES  [internet, drones, rockets, computer, mobile p...           1"
      ]
     },
     "metadata": {},
     "output_type": "display_data"
    }
   ],
   "source": [
    "# Create a DataFrame for events dictionaries\n",
    "\n",
    "words = {'event_words': [ww1_dict, ww2_dict, lgbt_dict, technologies_dict]}\n",
    "dictionaries_df = pd.DataFrame(data=words, index=['WW1', 'WW2', 'LGBT', 'TECHNOLOGIES'])\n",
    "\n",
    "\n",
    "# Add a 'thresholds' column initialized with ones\n",
    "\n",
    "dictionaries_df['thresholds'] = 1 \n",
    "\n",
    "\n",
    "display(dictionaries_df)"
   ]
  },
  {
   "cell_type": "code",
   "execution_count": 148,
   "metadata": {},
   "outputs": [],
   "source": [
    "# Function to categorize movies based on the threshold for a specific event\n",
    "\n",
    "def categorize_event(summary, event_dict, threshold):\n",
    "    summary_words = set(word_tokenize(summary.lower()))\n",
    "    common_words_count = len(set(event_dict) & summary_words)\n",
    "    return common_words_count >= threshold\n",
    "\n",
    "\n",
    "# Function to add columns to DataFrame based on event categories\n",
    "\n",
    "def add_event_columns(df, dictionaries_df):\n",
    "    # Iterate over each event in dictionaries_df and add a column to df\n",
    "    for event, row in dictionaries_df.iterrows():\n",
    "        event_words = row['event_words']\n",
    "        threshold = row['thresholds']\n",
    "        df[event] = df['summary'].apply(lambda x: categorize_event(x, event_words, threshold))\n",
    "    return df"
   ]
  },
  {
   "cell_type": "code",
   "execution_count": 150,
   "metadata": {},
   "outputs": [],
   "source": [
    "# The next cell takes a little bit of time to run"
   ]
  },
  {
   "cell_type": "code",
   "execution_count": 149,
   "metadata": {},
   "outputs": [
    {
     "data": {
      "text/html": [
       "<div>\n",
       "<style scoped>\n",
       "    .dataframe tbody tr th:only-of-type {\n",
       "        vertical-align: middle;\n",
       "    }\n",
       "\n",
       "    .dataframe tbody tr th {\n",
       "        vertical-align: top;\n",
       "    }\n",
       "\n",
       "    .dataframe thead th {\n",
       "        text-align: right;\n",
       "    }\n",
       "</style>\n",
       "<table border=\"1\" class=\"dataframe\">\n",
       "  <thead>\n",
       "    <tr style=\"text-align: right;\">\n",
       "      <th></th>\n",
       "      <th>id_wiki</th>\n",
       "      <th>id_freebase</th>\n",
       "      <th>name</th>\n",
       "      <th>date</th>\n",
       "      <th>box_office</th>\n",
       "      <th>runtime</th>\n",
       "      <th>lang</th>\n",
       "      <th>country</th>\n",
       "      <th>genre</th>\n",
       "      <th>id_wiki_movie</th>\n",
       "      <th>summary</th>\n",
       "      <th>WW1</th>\n",
       "      <th>WW2</th>\n",
       "      <th>LGBT</th>\n",
       "      <th>TECHNOLOGIES</th>\n",
       "    </tr>\n",
       "  </thead>\n",
       "  <tbody>\n",
       "    <tr>\n",
       "      <th>0</th>\n",
       "      <td>975900</td>\n",
       "      <td>/m/03vyhn</td>\n",
       "      <td>Ghosts of Mars</td>\n",
       "      <td>2001-08-24</td>\n",
       "      <td>14010832.0</td>\n",
       "      <td>98.0</td>\n",
       "      <td>{\"/m/02h40lc\": \"English Language\"}</td>\n",
       "      <td>{\"/m/09c7w0\": \"United States of America\"}</td>\n",
       "      <td>{\"/m/01jfsb\": \"Thriller\", \"/m/06n90\": \"Science...</td>\n",
       "      <td>975900</td>\n",
       "      <td>Set in the second half of the 22nd century, th...</td>\n",
       "      <td>False</td>\n",
       "      <td>True</td>\n",
       "      <td>False</td>\n",
       "      <td>False</td>\n",
       "    </tr>\n",
       "    <tr>\n",
       "      <th>1</th>\n",
       "      <td>9363483</td>\n",
       "      <td>/m/0285_cd</td>\n",
       "      <td>White Of The Eye</td>\n",
       "      <td>1987</td>\n",
       "      <td>NaN</td>\n",
       "      <td>110.0</td>\n",
       "      <td>{\"/m/02h40lc\": \"English Language\"}</td>\n",
       "      <td>{\"/m/07ssc\": \"United Kingdom\"}</td>\n",
       "      <td>{\"/m/01jfsb\": \"Thriller\", \"/m/0glj9q\": \"Erotic...</td>\n",
       "      <td>9363483</td>\n",
       "      <td>A series of murders of rich young women throug...</td>\n",
       "      <td>False</td>\n",
       "      <td>False</td>\n",
       "      <td>False</td>\n",
       "      <td>False</td>\n",
       "    </tr>\n",
       "    <tr>\n",
       "      <th>2</th>\n",
       "      <td>261236</td>\n",
       "      <td>/m/01mrr1</td>\n",
       "      <td>A Woman in Flames</td>\n",
       "      <td>1983</td>\n",
       "      <td>NaN</td>\n",
       "      <td>106.0</td>\n",
       "      <td>{\"/m/04306rv\": \"German Language\"}</td>\n",
       "      <td>{\"/m/0345h\": \"Germany\"}</td>\n",
       "      <td>{\"/m/07s9rl0\": \"Drama\"}</td>\n",
       "      <td>261236</td>\n",
       "      <td>Eva, an upper class housewife, becomes frustra...</td>\n",
       "      <td>False</td>\n",
       "      <td>False</td>\n",
       "      <td>False</td>\n",
       "      <td>False</td>\n",
       "    </tr>\n",
       "    <tr>\n",
       "      <th>3</th>\n",
       "      <td>18998739</td>\n",
       "      <td>/m/04jcqvw</td>\n",
       "      <td>The Sorcerer's Apprentice</td>\n",
       "      <td>2002</td>\n",
       "      <td>NaN</td>\n",
       "      <td>86.0</td>\n",
       "      <td>{\"/m/02h40lc\": \"English Language\"}</td>\n",
       "      <td>{\"/m/0hzlz\": \"South Africa\"}</td>\n",
       "      <td>{\"/m/0hqxf\": \"Family Film\", \"/m/01hmnh\": \"Fant...</td>\n",
       "      <td>18998739</td>\n",
       "      <td>Every hundred years, the evil Morgana  returns...</td>\n",
       "      <td>False</td>\n",
       "      <td>False</td>\n",
       "      <td>False</td>\n",
       "      <td>False</td>\n",
       "    </tr>\n",
       "    <tr>\n",
       "      <th>4</th>\n",
       "      <td>6631279</td>\n",
       "      <td>/m/0gffwj</td>\n",
       "      <td>Little city</td>\n",
       "      <td>1997-04-04</td>\n",
       "      <td>NaN</td>\n",
       "      <td>93.0</td>\n",
       "      <td>{\"/m/02h40lc\": \"English Language\"}</td>\n",
       "      <td>{\"/m/09c7w0\": \"United States of America\"}</td>\n",
       "      <td>{\"/m/06cvj\": \"Romantic comedy\", \"/m/0hj3n0w\": ...</td>\n",
       "      <td>6631279</td>\n",
       "      <td>Adam, a San Francisco-based artist who works a...</td>\n",
       "      <td>False</td>\n",
       "      <td>False</td>\n",
       "      <td>False</td>\n",
       "      <td>False</td>\n",
       "    </tr>\n",
       "    <tr>\n",
       "      <th>...</th>\n",
       "      <td>...</td>\n",
       "      <td>...</td>\n",
       "      <td>...</td>\n",
       "      <td>...</td>\n",
       "      <td>...</td>\n",
       "      <td>...</td>\n",
       "      <td>...</td>\n",
       "      <td>...</td>\n",
       "      <td>...</td>\n",
       "      <td>...</td>\n",
       "      <td>...</td>\n",
       "      <td>...</td>\n",
       "      <td>...</td>\n",
       "      <td>...</td>\n",
       "      <td>...</td>\n",
       "    </tr>\n",
       "    <tr>\n",
       "      <th>42199</th>\n",
       "      <td>23851782</td>\n",
       "      <td>/m/06_vb43</td>\n",
       "      <td>The Ghost Train</td>\n",
       "      <td>1941-05-03</td>\n",
       "      <td>NaN</td>\n",
       "      <td>82.0</td>\n",
       "      <td>{\"/m/02h40lc\": \"English Language\"}</td>\n",
       "      <td>{\"/m/07ssc\": \"United Kingdom\"}</td>\n",
       "      <td>{\"/m/0lsxr\": \"Crime Fiction\", \"/m/01jfsb\": \"Th...</td>\n",
       "      <td>23851782</td>\n",
       "      <td>{{plot}} The film opens with a Great Western e...</td>\n",
       "      <td>True</td>\n",
       "      <td>False</td>\n",
       "      <td>False</td>\n",
       "      <td>False</td>\n",
       "    </tr>\n",
       "    <tr>\n",
       "      <th>42200</th>\n",
       "      <td>35228177</td>\n",
       "      <td>/m/0j7hxnt</td>\n",
       "      <td>Mermaids: The Body Found</td>\n",
       "      <td>2011-03-19</td>\n",
       "      <td>NaN</td>\n",
       "      <td>120.0</td>\n",
       "      <td>{\"/m/02h40lc\": \"English Language\"}</td>\n",
       "      <td>{\"/m/09c7w0\": \"United States of America\"}</td>\n",
       "      <td>{\"/m/07s9rl0\": \"Drama\"}</td>\n",
       "      <td>35228177</td>\n",
       "      <td>Two former National Oceanic Atmospheric Admini...</td>\n",
       "      <td>False</td>\n",
       "      <td>False</td>\n",
       "      <td>False</td>\n",
       "      <td>False</td>\n",
       "    </tr>\n",
       "    <tr>\n",
       "      <th>42201</th>\n",
       "      <td>34980460</td>\n",
       "      <td>/m/0g4pl34</td>\n",
       "      <td>Knuckle</td>\n",
       "      <td>2011-01-21</td>\n",
       "      <td>NaN</td>\n",
       "      <td>96.0</td>\n",
       "      <td>{\"/m/02h40lc\": \"English Language\"}</td>\n",
       "      <td>{\"/m/03rt9\": \"Ireland\", \"/m/07ssc\": \"United Ki...</td>\n",
       "      <td>{\"/m/03bxz7\": \"Biographical film\", \"/m/07s9rl0...</td>\n",
       "      <td>34980460</td>\n",
       "      <td>{{No plot}} This film follows 12 years in the ...</td>\n",
       "      <td>False</td>\n",
       "      <td>False</td>\n",
       "      <td>False</td>\n",
       "      <td>False</td>\n",
       "    </tr>\n",
       "    <tr>\n",
       "      <th>42202</th>\n",
       "      <td>913762</td>\n",
       "      <td>/m/03pcrp</td>\n",
       "      <td>The Super Dimension Fortress Macross II: Lover...</td>\n",
       "      <td>1992-05-21</td>\n",
       "      <td>NaN</td>\n",
       "      <td>150.0</td>\n",
       "      <td>{\"/m/03_9r\": \"Japanese Language\"}</td>\n",
       "      <td>{\"/m/03_3d\": \"Japan\"}</td>\n",
       "      <td>{\"/m/06n90\": \"Science Fiction\", \"/m/0gw5n2f\": ...</td>\n",
       "      <td>913762</td>\n",
       "      <td>The story takes place in the year 2092,The Sup...</td>\n",
       "      <td>False</td>\n",
       "      <td>False</td>\n",
       "      <td>False</td>\n",
       "      <td>False</td>\n",
       "    </tr>\n",
       "    <tr>\n",
       "      <th>42203</th>\n",
       "      <td>12476867</td>\n",
       "      <td>/m/02w7zz8</td>\n",
       "      <td>Spliced</td>\n",
       "      <td>2002</td>\n",
       "      <td>NaN</td>\n",
       "      <td>86.0</td>\n",
       "      <td>{\"/m/02h40lc\": \"English Language\"}</td>\n",
       "      <td>{\"/m/0d060g\": \"Canada\"}</td>\n",
       "      <td>{\"/m/01jfsb\": \"Thriller\", \"/m/03npn\": \"Horror\"...</td>\n",
       "      <td>12476867</td>\n",
       "      <td>The movie is about a teenage girl who loves ho...</td>\n",
       "      <td>False</td>\n",
       "      <td>False</td>\n",
       "      <td>False</td>\n",
       "      <td>False</td>\n",
       "    </tr>\n",
       "  </tbody>\n",
       "</table>\n",
       "<p>42204 rows × 15 columns</p>\n",
       "</div>"
      ],
      "text/plain": [
       "        id_wiki id_freebase  \\\n",
       "0        975900   /m/03vyhn   \n",
       "1       9363483  /m/0285_cd   \n",
       "2        261236   /m/01mrr1   \n",
       "3      18998739  /m/04jcqvw   \n",
       "4       6631279   /m/0gffwj   \n",
       "...         ...         ...   \n",
       "42199  23851782  /m/06_vb43   \n",
       "42200  35228177  /m/0j7hxnt   \n",
       "42201  34980460  /m/0g4pl34   \n",
       "42202    913762   /m/03pcrp   \n",
       "42203  12476867  /m/02w7zz8   \n",
       "\n",
       "                                                    name        date  \\\n",
       "0                                         Ghosts of Mars  2001-08-24   \n",
       "1                                       White Of The Eye        1987   \n",
       "2                                      A Woman in Flames        1983   \n",
       "3                              The Sorcerer's Apprentice        2002   \n",
       "4                                            Little city  1997-04-04   \n",
       "...                                                  ...         ...   \n",
       "42199                                    The Ghost Train  1941-05-03   \n",
       "42200                           Mermaids: The Body Found  2011-03-19   \n",
       "42201                                            Knuckle  2011-01-21   \n",
       "42202  The Super Dimension Fortress Macross II: Lover...  1992-05-21   \n",
       "42203                                            Spliced        2002   \n",
       "\n",
       "       box_office  runtime                                lang  \\\n",
       "0      14010832.0     98.0  {\"/m/02h40lc\": \"English Language\"}   \n",
       "1             NaN    110.0  {\"/m/02h40lc\": \"English Language\"}   \n",
       "2             NaN    106.0   {\"/m/04306rv\": \"German Language\"}   \n",
       "3             NaN     86.0  {\"/m/02h40lc\": \"English Language\"}   \n",
       "4             NaN     93.0  {\"/m/02h40lc\": \"English Language\"}   \n",
       "...           ...      ...                                 ...   \n",
       "42199         NaN     82.0  {\"/m/02h40lc\": \"English Language\"}   \n",
       "42200         NaN    120.0  {\"/m/02h40lc\": \"English Language\"}   \n",
       "42201         NaN     96.0  {\"/m/02h40lc\": \"English Language\"}   \n",
       "42202         NaN    150.0   {\"/m/03_9r\": \"Japanese Language\"}   \n",
       "42203         NaN     86.0  {\"/m/02h40lc\": \"English Language\"}   \n",
       "\n",
       "                                                 country  \\\n",
       "0              {\"/m/09c7w0\": \"United States of America\"}   \n",
       "1                         {\"/m/07ssc\": \"United Kingdom\"}   \n",
       "2                                {\"/m/0345h\": \"Germany\"}   \n",
       "3                           {\"/m/0hzlz\": \"South Africa\"}   \n",
       "4              {\"/m/09c7w0\": \"United States of America\"}   \n",
       "...                                                  ...   \n",
       "42199                     {\"/m/07ssc\": \"United Kingdom\"}   \n",
       "42200          {\"/m/09c7w0\": \"United States of America\"}   \n",
       "42201  {\"/m/03rt9\": \"Ireland\", \"/m/07ssc\": \"United Ki...   \n",
       "42202                              {\"/m/03_3d\": \"Japan\"}   \n",
       "42203                            {\"/m/0d060g\": \"Canada\"}   \n",
       "\n",
       "                                                   genre  id_wiki_movie  \\\n",
       "0      {\"/m/01jfsb\": \"Thriller\", \"/m/06n90\": \"Science...         975900   \n",
       "1      {\"/m/01jfsb\": \"Thriller\", \"/m/0glj9q\": \"Erotic...        9363483   \n",
       "2                                {\"/m/07s9rl0\": \"Drama\"}         261236   \n",
       "3      {\"/m/0hqxf\": \"Family Film\", \"/m/01hmnh\": \"Fant...       18998739   \n",
       "4      {\"/m/06cvj\": \"Romantic comedy\", \"/m/0hj3n0w\": ...        6631279   \n",
       "...                                                  ...            ...   \n",
       "42199  {\"/m/0lsxr\": \"Crime Fiction\", \"/m/01jfsb\": \"Th...       23851782   \n",
       "42200                            {\"/m/07s9rl0\": \"Drama\"}       35228177   \n",
       "42201  {\"/m/03bxz7\": \"Biographical film\", \"/m/07s9rl0...       34980460   \n",
       "42202  {\"/m/06n90\": \"Science Fiction\", \"/m/0gw5n2f\": ...         913762   \n",
       "42203  {\"/m/01jfsb\": \"Thriller\", \"/m/03npn\": \"Horror\"...       12476867   \n",
       "\n",
       "                                                 summary    WW1    WW2   LGBT  \\\n",
       "0      Set in the second half of the 22nd century, th...  False   True  False   \n",
       "1      A series of murders of rich young women throug...  False  False  False   \n",
       "2      Eva, an upper class housewife, becomes frustra...  False  False  False   \n",
       "3      Every hundred years, the evil Morgana  returns...  False  False  False   \n",
       "4      Adam, a San Francisco-based artist who works a...  False  False  False   \n",
       "...                                                  ...    ...    ...    ...   \n",
       "42199  {{plot}} The film opens with a Great Western e...   True  False  False   \n",
       "42200  Two former National Oceanic Atmospheric Admini...  False  False  False   \n",
       "42201  {{No plot}} This film follows 12 years in the ...  False  False  False   \n",
       "42202  The story takes place in the year 2092,The Sup...  False  False  False   \n",
       "42203  The movie is about a teenage girl who loves ho...  False  False  False   \n",
       "\n",
       "       TECHNOLOGIES  \n",
       "0             False  \n",
       "1             False  \n",
       "2             False  \n",
       "3             False  \n",
       "4             False  \n",
       "...             ...  \n",
       "42199         False  \n",
       "42200         False  \n",
       "42201         False  \n",
       "42202         False  \n",
       "42203         False  \n",
       "\n",
       "[42204 rows x 15 columns]"
      ]
     },
     "metadata": {},
     "output_type": "display_data"
    }
   ],
   "source": [
    "merged_df = add_event_columns(merged_df, dictionaries_df)\n",
    "\n",
    "display(merged_df)\n"
   ]
  },
  {
   "cell_type": "code",
   "execution_count": 151,
   "metadata": {},
   "outputs": [
    {
     "data": {
      "text/html": [
       "<div>\n",
       "<style scoped>\n",
       "    .dataframe tbody tr th:only-of-type {\n",
       "        vertical-align: middle;\n",
       "    }\n",
       "\n",
       "    .dataframe tbody tr th {\n",
       "        vertical-align: top;\n",
       "    }\n",
       "\n",
       "    .dataframe thead th {\n",
       "        text-align: right;\n",
       "    }\n",
       "</style>\n",
       "<table border=\"1\" class=\"dataframe\">\n",
       "  <thead>\n",
       "    <tr style=\"text-align: right;\">\n",
       "      <th></th>\n",
       "      <th>id_wiki</th>\n",
       "      <th>id_freebase</th>\n",
       "      <th>name</th>\n",
       "      <th>date</th>\n",
       "      <th>box_office</th>\n",
       "      <th>runtime</th>\n",
       "      <th>lang</th>\n",
       "      <th>country</th>\n",
       "      <th>genre</th>\n",
       "      <th>id_wiki_movie</th>\n",
       "      <th>summary</th>\n",
       "      <th>WW1</th>\n",
       "      <th>WW2</th>\n",
       "      <th>LGBT</th>\n",
       "      <th>TECHNOLOGIES</th>\n",
       "    </tr>\n",
       "  </thead>\n",
       "  <tbody>\n",
       "    <tr>\n",
       "      <th>0</th>\n",
       "      <td>975900</td>\n",
       "      <td>/m/03vyhn</td>\n",
       "      <td>Ghosts of Mars</td>\n",
       "      <td>2001-08-24</td>\n",
       "      <td>14010832.0</td>\n",
       "      <td>98.0</td>\n",
       "      <td>{\"/m/02h40lc\": \"English Language\"}</td>\n",
       "      <td>{\"/m/09c7w0\": \"United States of America\"}</td>\n",
       "      <td>{\"/m/01jfsb\": \"Thriller\", \"/m/06n90\": \"Science...</td>\n",
       "      <td>975900</td>\n",
       "      <td>Set in the second half of the 22nd century, th...</td>\n",
       "      <td>False</td>\n",
       "      <td>True</td>\n",
       "      <td>False</td>\n",
       "      <td>False</td>\n",
       "    </tr>\n",
       "    <tr>\n",
       "      <th>5</th>\n",
       "      <td>171005</td>\n",
       "      <td>/m/016ywb</td>\n",
       "      <td>Henry V</td>\n",
       "      <td>1989-11-08</td>\n",
       "      <td>10161099.0</td>\n",
       "      <td>137.0</td>\n",
       "      <td>{\"/m/02h40lc\": \"English Language\"}</td>\n",
       "      <td>{\"/m/07ssc\": \"United Kingdom\"}</td>\n",
       "      <td>{\"/m/04xvh5\": \"Costume drama\", \"/m/082gq\": \"Wa...</td>\n",
       "      <td>171005</td>\n",
       "      <td>{{Plot|dateAct 1Act 2Act 3Act 4Act 5 Finally n...</td>\n",
       "      <td>True</td>\n",
       "      <td>False</td>\n",
       "      <td>False</td>\n",
       "      <td>False</td>\n",
       "    </tr>\n",
       "    <tr>\n",
       "      <th>7</th>\n",
       "      <td>11250635</td>\n",
       "      <td>/m/02r52hc</td>\n",
       "      <td>The Mechanical Monsters</td>\n",
       "      <td>NaN</td>\n",
       "      <td>NaN</td>\n",
       "      <td>NaN</td>\n",
       "      <td>{\"/m/02h40lc\": \"English Language\"}</td>\n",
       "      <td>{\"/m/09c7w0\": \"United States of America\"}</td>\n",
       "      <td>{\"/m/06n90\": \"Science Fiction\", \"/m/03k9fj\": \"...</td>\n",
       "      <td>11250635</td>\n",
       "      <td>The story starts as one of the robots flies i...</td>\n",
       "      <td>True</td>\n",
       "      <td>False</td>\n",
       "      <td>False</td>\n",
       "      <td>True</td>\n",
       "    </tr>\n",
       "    <tr>\n",
       "      <th>9</th>\n",
       "      <td>32456683</td>\n",
       "      <td>/m/0gyryjt</td>\n",
       "      <td>Die Fahne von Kriwoj Rog</td>\n",
       "      <td>1967</td>\n",
       "      <td>NaN</td>\n",
       "      <td>108.0</td>\n",
       "      <td>{\"/m/04306rv\": \"German Language\"}</td>\n",
       "      <td>{\"/m/03f2w\": \"German Democratic Republic\"}</td>\n",
       "      <td>{}</td>\n",
       "      <td>32456683</td>\n",
       "      <td>Otto Brosowski, a communist miner, writes to t...</td>\n",
       "      <td>False</td>\n",
       "      <td>True</td>\n",
       "      <td>False</td>\n",
       "      <td>False</td>\n",
       "    </tr>\n",
       "    <tr>\n",
       "      <th>12</th>\n",
       "      <td>156558</td>\n",
       "      <td>/m/014k4y</td>\n",
       "      <td>Baby Boy</td>\n",
       "      <td>2001-06-27</td>\n",
       "      <td>29381649.0</td>\n",
       "      <td>123.0</td>\n",
       "      <td>{\"/m/02h40lc\": \"English Language\"}</td>\n",
       "      <td>{\"/m/09c7w0\": \"United States of America\"}</td>\n",
       "      <td>{\"/m/0lsxr\": \"Crime Fiction\", \"/m/07s9rl0\": \"D...</td>\n",
       "      <td>156558</td>\n",
       "      <td>A young 20-year-old named Jody  lives with his...</td>\n",
       "      <td>True</td>\n",
       "      <td>False</td>\n",
       "      <td>False</td>\n",
       "      <td>False</td>\n",
       "    </tr>\n",
       "    <tr>\n",
       "      <th>...</th>\n",
       "      <td>...</td>\n",
       "      <td>...</td>\n",
       "      <td>...</td>\n",
       "      <td>...</td>\n",
       "      <td>...</td>\n",
       "      <td>...</td>\n",
       "      <td>...</td>\n",
       "      <td>...</td>\n",
       "      <td>...</td>\n",
       "      <td>...</td>\n",
       "      <td>...</td>\n",
       "      <td>...</td>\n",
       "      <td>...</td>\n",
       "      <td>...</td>\n",
       "      <td>...</td>\n",
       "    </tr>\n",
       "    <tr>\n",
       "      <th>42186</th>\n",
       "      <td>30863646</td>\n",
       "      <td>/m/05hlhc</td>\n",
       "      <td>Mondo Cane</td>\n",
       "      <td>1962</td>\n",
       "      <td>NaN</td>\n",
       "      <td>108.0</td>\n",
       "      <td>{\"/m/02bjrlw\": \"Italian Language\"}</td>\n",
       "      <td>{\"/m/03rjj\": \"Italy\"}</td>\n",
       "      <td>{\"/m/0hj3n07\": \"Culture &amp; Society\", \"/m/03npn\"...</td>\n",
       "      <td>30863646</td>\n",
       "      <td>At the beginning, there is a scene with a dog ...</td>\n",
       "      <td>False</td>\n",
       "      <td>True</td>\n",
       "      <td>False</td>\n",
       "      <td>True</td>\n",
       "    </tr>\n",
       "    <tr>\n",
       "      <th>42188</th>\n",
       "      <td>25011340</td>\n",
       "      <td>/m/09gg54d</td>\n",
       "      <td>Dot.Kill</td>\n",
       "      <td>2005</td>\n",
       "      <td>NaN</td>\n",
       "      <td>90.0</td>\n",
       "      <td>{}</td>\n",
       "      <td>{\"/m/09c7w0\": \"United States of America\"}</td>\n",
       "      <td>{\"/m/01jfsb\": \"Thriller\", \"/m/02wtdps\": \"Crime...</td>\n",
       "      <td>25011340</td>\n",
       "      <td>Charlie Daines , is a morphine-addicted detect...</td>\n",
       "      <td>False</td>\n",
       "      <td>False</td>\n",
       "      <td>False</td>\n",
       "      <td>True</td>\n",
       "    </tr>\n",
       "    <tr>\n",
       "      <th>42191</th>\n",
       "      <td>7761830</td>\n",
       "      <td>/m/0kvgqb</td>\n",
       "      <td>Spaced Invaders</td>\n",
       "      <td>1990</td>\n",
       "      <td>15369573.0</td>\n",
       "      <td>100.0</td>\n",
       "      <td>{\"/m/02h40lc\": \"English Language\"}</td>\n",
       "      <td>{\"/m/09c7w0\": \"United States of America\"}</td>\n",
       "      <td>{\"/m/0hj3mt0\": \"Alien Film\", \"/m/06n90\": \"Scie...</td>\n",
       "      <td>7761830</td>\n",
       "      <td>The space armada from Mars, known as the Imper...</td>\n",
       "      <td>True</td>\n",
       "      <td>False</td>\n",
       "      <td>False</td>\n",
       "      <td>False</td>\n",
       "    </tr>\n",
       "    <tr>\n",
       "      <th>42193</th>\n",
       "      <td>19286279</td>\n",
       "      <td>/m/04ldgm4</td>\n",
       "      <td>Kalai Arasi</td>\n",
       "      <td>1963-04-19</td>\n",
       "      <td>NaN</td>\n",
       "      <td>NaN</td>\n",
       "      <td>{\"/m/07c9s\": \"Tamil Language\"}</td>\n",
       "      <td>{\"/m/03rk0\": \"India\"}</td>\n",
       "      <td>{\"/m/02l7c8\": \"Romance Film\", \"/m/02kdv5l\": \"A...</td>\n",
       "      <td>19286279</td>\n",
       "      <td>Kalai Arasi' is a well-blended story of romanc...</td>\n",
       "      <td>False</td>\n",
       "      <td>False</td>\n",
       "      <td>False</td>\n",
       "      <td>True</td>\n",
       "    </tr>\n",
       "    <tr>\n",
       "      <th>42199</th>\n",
       "      <td>23851782</td>\n",
       "      <td>/m/06_vb43</td>\n",
       "      <td>The Ghost Train</td>\n",
       "      <td>1941-05-03</td>\n",
       "      <td>NaN</td>\n",
       "      <td>82.0</td>\n",
       "      <td>{\"/m/02h40lc\": \"English Language\"}</td>\n",
       "      <td>{\"/m/07ssc\": \"United Kingdom\"}</td>\n",
       "      <td>{\"/m/0lsxr\": \"Crime Fiction\", \"/m/01jfsb\": \"Th...</td>\n",
       "      <td>23851782</td>\n",
       "      <td>{{plot}} The film opens with a Great Western e...</td>\n",
       "      <td>True</td>\n",
       "      <td>False</td>\n",
       "      <td>False</td>\n",
       "      <td>False</td>\n",
       "    </tr>\n",
       "  </tbody>\n",
       "</table>\n",
       "<p>9295 rows × 15 columns</p>\n",
       "</div>"
      ],
      "text/plain": [
       "        id_wiki id_freebase                      name        date  box_office  \\\n",
       "0        975900   /m/03vyhn            Ghosts of Mars  2001-08-24  14010832.0   \n",
       "5        171005   /m/016ywb                   Henry V  1989-11-08  10161099.0   \n",
       "7      11250635  /m/02r52hc   The Mechanical Monsters         NaN         NaN   \n",
       "9      32456683  /m/0gyryjt  Die Fahne von Kriwoj Rog        1967         NaN   \n",
       "12       156558   /m/014k4y                  Baby Boy  2001-06-27  29381649.0   \n",
       "...         ...         ...                       ...         ...         ...   \n",
       "42186  30863646   /m/05hlhc                Mondo Cane        1962         NaN   \n",
       "42188  25011340  /m/09gg54d                  Dot.Kill        2005         NaN   \n",
       "42191   7761830   /m/0kvgqb           Spaced Invaders        1990  15369573.0   \n",
       "42193  19286279  /m/04ldgm4               Kalai Arasi  1963-04-19         NaN   \n",
       "42199  23851782  /m/06_vb43           The Ghost Train  1941-05-03         NaN   \n",
       "\n",
       "       runtime                                lang  \\\n",
       "0         98.0  {\"/m/02h40lc\": \"English Language\"}   \n",
       "5        137.0  {\"/m/02h40lc\": \"English Language\"}   \n",
       "7          NaN  {\"/m/02h40lc\": \"English Language\"}   \n",
       "9        108.0   {\"/m/04306rv\": \"German Language\"}   \n",
       "12       123.0  {\"/m/02h40lc\": \"English Language\"}   \n",
       "...        ...                                 ...   \n",
       "42186    108.0  {\"/m/02bjrlw\": \"Italian Language\"}   \n",
       "42188     90.0                                  {}   \n",
       "42191    100.0  {\"/m/02h40lc\": \"English Language\"}   \n",
       "42193      NaN      {\"/m/07c9s\": \"Tamil Language\"}   \n",
       "42199     82.0  {\"/m/02h40lc\": \"English Language\"}   \n",
       "\n",
       "                                          country  \\\n",
       "0       {\"/m/09c7w0\": \"United States of America\"}   \n",
       "5                  {\"/m/07ssc\": \"United Kingdom\"}   \n",
       "7       {\"/m/09c7w0\": \"United States of America\"}   \n",
       "9      {\"/m/03f2w\": \"German Democratic Republic\"}   \n",
       "12      {\"/m/09c7w0\": \"United States of America\"}   \n",
       "...                                           ...   \n",
       "42186                       {\"/m/03rjj\": \"Italy\"}   \n",
       "42188   {\"/m/09c7w0\": \"United States of America\"}   \n",
       "42191   {\"/m/09c7w0\": \"United States of America\"}   \n",
       "42193                       {\"/m/03rk0\": \"India\"}   \n",
       "42199              {\"/m/07ssc\": \"United Kingdom\"}   \n",
       "\n",
       "                                                   genre  id_wiki_movie  \\\n",
       "0      {\"/m/01jfsb\": \"Thriller\", \"/m/06n90\": \"Science...         975900   \n",
       "5      {\"/m/04xvh5\": \"Costume drama\", \"/m/082gq\": \"Wa...         171005   \n",
       "7      {\"/m/06n90\": \"Science Fiction\", \"/m/03k9fj\": \"...       11250635   \n",
       "9                                                     {}       32456683   \n",
       "12     {\"/m/0lsxr\": \"Crime Fiction\", \"/m/07s9rl0\": \"D...         156558   \n",
       "...                                                  ...            ...   \n",
       "42186  {\"/m/0hj3n07\": \"Culture & Society\", \"/m/03npn\"...       30863646   \n",
       "42188  {\"/m/01jfsb\": \"Thriller\", \"/m/02wtdps\": \"Crime...       25011340   \n",
       "42191  {\"/m/0hj3mt0\": \"Alien Film\", \"/m/06n90\": \"Scie...        7761830   \n",
       "42193  {\"/m/02l7c8\": \"Romance Film\", \"/m/02kdv5l\": \"A...       19286279   \n",
       "42199  {\"/m/0lsxr\": \"Crime Fiction\", \"/m/01jfsb\": \"Th...       23851782   \n",
       "\n",
       "                                                 summary    WW1    WW2   LGBT  \\\n",
       "0      Set in the second half of the 22nd century, th...  False   True  False   \n",
       "5      {{Plot|dateAct 1Act 2Act 3Act 4Act 5 Finally n...   True  False  False   \n",
       "7       The story starts as one of the robots flies i...   True  False  False   \n",
       "9      Otto Brosowski, a communist miner, writes to t...  False   True  False   \n",
       "12     A young 20-year-old named Jody  lives with his...   True  False  False   \n",
       "...                                                  ...    ...    ...    ...   \n",
       "42186  At the beginning, there is a scene with a dog ...  False   True  False   \n",
       "42188  Charlie Daines , is a morphine-addicted detect...  False  False  False   \n",
       "42191  The space armada from Mars, known as the Imper...   True  False  False   \n",
       "42193  Kalai Arasi' is a well-blended story of romanc...  False  False  False   \n",
       "42199  {{plot}} The film opens with a Great Western e...   True  False  False   \n",
       "\n",
       "       TECHNOLOGIES  \n",
       "0             False  \n",
       "5             False  \n",
       "7              True  \n",
       "9             False  \n",
       "12            False  \n",
       "...             ...  \n",
       "42186          True  \n",
       "42188          True  \n",
       "42191         False  \n",
       "42193          True  \n",
       "42199         False  \n",
       "\n",
       "[9295 rows x 15 columns]"
      ]
     },
     "metadata": {},
     "output_type": "display_data"
    },
    {
     "name": "stdout",
     "output_type": "stream",
     "text": [
      "(9295, 15)\n"
     ]
    }
   ],
   "source": [
    "filtered_df = merged_df[(merged_df['WW1'] == True) | (merged_df['WW2'] == True) | (merged_df['LGBT'] == True) | (merged_df['TECHNOLOGIES'] == True)]\n",
    "\n",
    "\n",
    "# Check\n",
    "\n",
    "display(filtered_df)\n",
    "print(filtered_df.shape)"
   ]
  },
  {
   "cell_type": "code",
   "execution_count": null,
   "metadata": {},
   "outputs": [],
   "source": []
  }
 ],
 "metadata": {
  "kernelspec": {
   "display_name": "Py3 Spacy",
   "language": "python",
   "name": "py3_spacy"
  },
  "language_info": {
   "codemirror_mode": {
    "name": "ipython",
    "version": 3
   },
   "file_extension": ".py",
   "mimetype": "text/x-python",
   "name": "python",
   "nbconvert_exporter": "python",
   "pygments_lexer": "ipython3",
   "version": "3.11.5"
  }
 },
 "nbformat": 4,
 "nbformat_minor": 4
}
