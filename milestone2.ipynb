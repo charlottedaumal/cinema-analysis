{
 "cells": [
  {
   "cell_type": "markdown",
   "metadata": {},
   "source": [
    "# <center>Milestone 2</center> "
   ]
  },
  {
   "cell_type": "code",
   "execution_count": 1,
   "metadata": {
    "tags": []
   },
   "outputs": [],
   "source": [
    "import numpy as np\n",
    "import pandas as pd\n",
    "import matplotlib.pyplot as plt\n",
    "import seaborn as sns\n",
    "import json"
   ]
  },
  {
   "cell_type": "markdown",
   "metadata": {},
   "source": [
    "## 1. Data Loading"
   ]
  },
  {
   "cell_type": "code",
   "execution_count": 2,
   "metadata": {
    "tags": []
   },
   "outputs": [],
   "source": [
    "# Paths\n",
    "\n",
    "DATA_PATH = \"data/\"\n",
    "\n",
    "\n",
    "# Specific paths for all datasets\n",
    "\n",
    "MOVIES_FOLDER = DATA_PATH + \"MovieSummaries/\"\n",
    "MOVIES_DATASET = MOVIES_FOLDER + \"movie.metadata.tsv\"\n",
    "CHARACTERS_DATASET = MOVIES_FOLDER + \"character.metadata.tsv\"\n",
    "CHARACTERS_NAMES_DATASET = MOVIES_FOLDER + \"name.clusters.txt\"\n",
    "CHARACTERS_TYPES_DATASET = MOVIES_FOLDER + \"tvtropes.clusters.txt\"\n",
    "PLOTS_DATASET = MOVIES_FOLDER + \"plot_summaries.txt\"\n",
    "ETHNICITIES_DATASET = MOVIES_FOLDER + \"ethnicities.wikidata.csv\""
   ]
  },
  {
   "cell_type": "code",
   "execution_count": 3,
   "metadata": {
    "tags": []
   },
   "outputs": [
    {
     "data": {
      "text/html": [
       "<div>\n",
       "<style scoped>\n",
       "    .dataframe tbody tr th:only-of-type {\n",
       "        vertical-align: middle;\n",
       "    }\n",
       "\n",
       "    .dataframe tbody tr th {\n",
       "        vertical-align: top;\n",
       "    }\n",
       "\n",
       "    .dataframe thead th {\n",
       "        text-align: right;\n",
       "    }\n",
       "</style>\n",
       "<table border=\"1\" class=\"dataframe\">\n",
       "  <thead>\n",
       "    <tr style=\"text-align: right;\">\n",
       "      <th></th>\n",
       "      <th>id_wiki</th>\n",
       "      <th>id_freebase</th>\n",
       "      <th>name</th>\n",
       "      <th>date</th>\n",
       "      <th>box_office</th>\n",
       "      <th>runtime</th>\n",
       "      <th>lang</th>\n",
       "      <th>country</th>\n",
       "      <th>genre</th>\n",
       "    </tr>\n",
       "  </thead>\n",
       "  <tbody>\n",
       "    <tr>\n",
       "      <th>0</th>\n",
       "      <td>975900</td>\n",
       "      <td>/m/03vyhn</td>\n",
       "      <td>Ghosts of Mars</td>\n",
       "      <td>2001-08-24</td>\n",
       "      <td>14010832.0</td>\n",
       "      <td>98.0</td>\n",
       "      <td>{\"/m/02h40lc\": \"English Language\"}</td>\n",
       "      <td>{\"/m/09c7w0\": \"United States of America\"}</td>\n",
       "      <td>{\"/m/01jfsb\": \"Thriller\", \"/m/06n90\": \"Science...</td>\n",
       "    </tr>\n",
       "    <tr>\n",
       "      <th>1</th>\n",
       "      <td>3196793</td>\n",
       "      <td>/m/08yl5d</td>\n",
       "      <td>Getting Away with Murder: The JonBenét Ramsey ...</td>\n",
       "      <td>2000-02-16</td>\n",
       "      <td>NaN</td>\n",
       "      <td>95.0</td>\n",
       "      <td>{\"/m/02h40lc\": \"English Language\"}</td>\n",
       "      <td>{\"/m/09c7w0\": \"United States of America\"}</td>\n",
       "      <td>{\"/m/02n4kr\": \"Mystery\", \"/m/03bxz7\": \"Biograp...</td>\n",
       "    </tr>\n",
       "    <tr>\n",
       "      <th>2</th>\n",
       "      <td>28463795</td>\n",
       "      <td>/m/0crgdbh</td>\n",
       "      <td>Brun bitter</td>\n",
       "      <td>1988</td>\n",
       "      <td>NaN</td>\n",
       "      <td>83.0</td>\n",
       "      <td>{\"/m/05f_3\": \"Norwegian Language\"}</td>\n",
       "      <td>{\"/m/05b4w\": \"Norway\"}</td>\n",
       "      <td>{\"/m/0lsxr\": \"Crime Fiction\", \"/m/07s9rl0\": \"D...</td>\n",
       "    </tr>\n",
       "    <tr>\n",
       "      <th>3</th>\n",
       "      <td>9363483</td>\n",
       "      <td>/m/0285_cd</td>\n",
       "      <td>White Of The Eye</td>\n",
       "      <td>1987</td>\n",
       "      <td>NaN</td>\n",
       "      <td>110.0</td>\n",
       "      <td>{\"/m/02h40lc\": \"English Language\"}</td>\n",
       "      <td>{\"/m/07ssc\": \"United Kingdom\"}</td>\n",
       "      <td>{\"/m/01jfsb\": \"Thriller\", \"/m/0glj9q\": \"Erotic...</td>\n",
       "    </tr>\n",
       "    <tr>\n",
       "      <th>4</th>\n",
       "      <td>261236</td>\n",
       "      <td>/m/01mrr1</td>\n",
       "      <td>A Woman in Flames</td>\n",
       "      <td>1983</td>\n",
       "      <td>NaN</td>\n",
       "      <td>106.0</td>\n",
       "      <td>{\"/m/04306rv\": \"German Language\"}</td>\n",
       "      <td>{\"/m/0345h\": \"Germany\"}</td>\n",
       "      <td>{\"/m/07s9rl0\": \"Drama\"}</td>\n",
       "    </tr>\n",
       "  </tbody>\n",
       "</table>\n",
       "</div>"
      ],
      "text/plain": [
       "    id_wiki id_freebase                                               name  \\\n",
       "0    975900   /m/03vyhn                                     Ghosts of Mars   \n",
       "1   3196793   /m/08yl5d  Getting Away with Murder: The JonBenét Ramsey ...   \n",
       "2  28463795  /m/0crgdbh                                        Brun bitter   \n",
       "3   9363483  /m/0285_cd                                   White Of The Eye   \n",
       "4    261236   /m/01mrr1                                  A Woman in Flames   \n",
       "\n",
       "         date  box_office  runtime                                lang  \\\n",
       "0  2001-08-24  14010832.0     98.0  {\"/m/02h40lc\": \"English Language\"}   \n",
       "1  2000-02-16         NaN     95.0  {\"/m/02h40lc\": \"English Language\"}   \n",
       "2        1988         NaN     83.0  {\"/m/05f_3\": \"Norwegian Language\"}   \n",
       "3        1987         NaN    110.0  {\"/m/02h40lc\": \"English Language\"}   \n",
       "4        1983         NaN    106.0   {\"/m/04306rv\": \"German Language\"}   \n",
       "\n",
       "                                     country  \\\n",
       "0  {\"/m/09c7w0\": \"United States of America\"}   \n",
       "1  {\"/m/09c7w0\": \"United States of America\"}   \n",
       "2                     {\"/m/05b4w\": \"Norway\"}   \n",
       "3             {\"/m/07ssc\": \"United Kingdom\"}   \n",
       "4                    {\"/m/0345h\": \"Germany\"}   \n",
       "\n",
       "                                               genre  \n",
       "0  {\"/m/01jfsb\": \"Thriller\", \"/m/06n90\": \"Science...  \n",
       "1  {\"/m/02n4kr\": \"Mystery\", \"/m/03bxz7\": \"Biograp...  \n",
       "2  {\"/m/0lsxr\": \"Crime Fiction\", \"/m/07s9rl0\": \"D...  \n",
       "3  {\"/m/01jfsb\": \"Thriller\", \"/m/0glj9q\": \"Erotic...  \n",
       "4                            {\"/m/07s9rl0\": \"Drama\"}  "
      ]
     },
     "execution_count": 3,
     "metadata": {},
     "output_type": "execute_result"
    }
   ],
   "source": [
    "# Load movies metadata\n",
    "\n",
    "movies = pd.read_csv(MOVIES_DATASET, sep='\\t', names=['id_wiki','id_freebase','name','date',\n",
    "                                                      'box_office','runtime','lang','country','genre'])\n",
    "movies.head()"
   ]
  },
  {
   "cell_type": "code",
   "execution_count": 4,
   "metadata": {
    "tags": []
   },
   "outputs": [
    {
     "data": {
      "text/html": [
       "<div>\n",
       "<style scoped>\n",
       "    .dataframe tbody tr th:only-of-type {\n",
       "        vertical-align: middle;\n",
       "    }\n",
       "\n",
       "    .dataframe tbody tr th {\n",
       "        vertical-align: top;\n",
       "    }\n",
       "\n",
       "    .dataframe thead th {\n",
       "        text-align: right;\n",
       "    }\n",
       "</style>\n",
       "<table border=\"1\" class=\"dataframe\">\n",
       "  <thead>\n",
       "    <tr style=\"text-align: right;\">\n",
       "      <th></th>\n",
       "      <th>id_wiki_movie</th>\n",
       "      <th>id_freebase_movie</th>\n",
       "      <th>movie_release_date</th>\n",
       "      <th>character_name</th>\n",
       "      <th>actor_birth_date</th>\n",
       "      <th>actor_gender</th>\n",
       "      <th>actor_height</th>\n",
       "      <th>actor_ethnicity_freebase_id</th>\n",
       "      <th>actor_name</th>\n",
       "      <th>actor_age_movie_release</th>\n",
       "      <th>character_actor_freebase_map_id</th>\n",
       "      <th>character_id_freebase</th>\n",
       "      <th>actor_id_freebase</th>\n",
       "    </tr>\n",
       "  </thead>\n",
       "  <tbody>\n",
       "    <tr>\n",
       "      <th>0</th>\n",
       "      <td>975900</td>\n",
       "      <td>/m/03vyhn</td>\n",
       "      <td>2001-08-24</td>\n",
       "      <td>Akooshay</td>\n",
       "      <td>1958-08-26</td>\n",
       "      <td>F</td>\n",
       "      <td>1.620</td>\n",
       "      <td>NaN</td>\n",
       "      <td>Wanda De Jesus</td>\n",
       "      <td>42.0</td>\n",
       "      <td>/m/0bgchxw</td>\n",
       "      <td>/m/0bgcj3x</td>\n",
       "      <td>/m/03wcfv7</td>\n",
       "    </tr>\n",
       "    <tr>\n",
       "      <th>1</th>\n",
       "      <td>975900</td>\n",
       "      <td>/m/03vyhn</td>\n",
       "      <td>2001-08-24</td>\n",
       "      <td>Lieutenant Melanie Ballard</td>\n",
       "      <td>1974-08-15</td>\n",
       "      <td>F</td>\n",
       "      <td>1.780</td>\n",
       "      <td>/m/044038p</td>\n",
       "      <td>Natasha Henstridge</td>\n",
       "      <td>27.0</td>\n",
       "      <td>/m/0jys3m</td>\n",
       "      <td>/m/0bgchn4</td>\n",
       "      <td>/m/0346l4</td>\n",
       "    </tr>\n",
       "    <tr>\n",
       "      <th>2</th>\n",
       "      <td>975900</td>\n",
       "      <td>/m/03vyhn</td>\n",
       "      <td>2001-08-24</td>\n",
       "      <td>Desolation Williams</td>\n",
       "      <td>1969-06-15</td>\n",
       "      <td>M</td>\n",
       "      <td>1.727</td>\n",
       "      <td>/m/0x67</td>\n",
       "      <td>Ice Cube</td>\n",
       "      <td>32.0</td>\n",
       "      <td>/m/0jys3g</td>\n",
       "      <td>/m/0bgchn_</td>\n",
       "      <td>/m/01vw26l</td>\n",
       "    </tr>\n",
       "    <tr>\n",
       "      <th>3</th>\n",
       "      <td>975900</td>\n",
       "      <td>/m/03vyhn</td>\n",
       "      <td>2001-08-24</td>\n",
       "      <td>Sgt Jericho Butler</td>\n",
       "      <td>1967-09-12</td>\n",
       "      <td>M</td>\n",
       "      <td>1.750</td>\n",
       "      <td>NaN</td>\n",
       "      <td>Jason Statham</td>\n",
       "      <td>33.0</td>\n",
       "      <td>/m/02vchl6</td>\n",
       "      <td>/m/0bgchnq</td>\n",
       "      <td>/m/034hyc</td>\n",
       "    </tr>\n",
       "    <tr>\n",
       "      <th>4</th>\n",
       "      <td>975900</td>\n",
       "      <td>/m/03vyhn</td>\n",
       "      <td>2001-08-24</td>\n",
       "      <td>Bashira Kincaid</td>\n",
       "      <td>1977-09-25</td>\n",
       "      <td>F</td>\n",
       "      <td>1.650</td>\n",
       "      <td>NaN</td>\n",
       "      <td>Clea DuVall</td>\n",
       "      <td>23.0</td>\n",
       "      <td>/m/02vbb3r</td>\n",
       "      <td>/m/0bgchp9</td>\n",
       "      <td>/m/01y9xg</td>\n",
       "    </tr>\n",
       "  </tbody>\n",
       "</table>\n",
       "</div>"
      ],
      "text/plain": [
       "   id_wiki_movie id_freebase_movie movie_release_date  \\\n",
       "0         975900         /m/03vyhn         2001-08-24   \n",
       "1         975900         /m/03vyhn         2001-08-24   \n",
       "2         975900         /m/03vyhn         2001-08-24   \n",
       "3         975900         /m/03vyhn         2001-08-24   \n",
       "4         975900         /m/03vyhn         2001-08-24   \n",
       "\n",
       "               character_name actor_birth_date actor_gender  actor_height  \\\n",
       "0                    Akooshay       1958-08-26            F         1.620   \n",
       "1  Lieutenant Melanie Ballard       1974-08-15            F         1.780   \n",
       "2         Desolation Williams       1969-06-15            M         1.727   \n",
       "3          Sgt Jericho Butler       1967-09-12            M         1.750   \n",
       "4             Bashira Kincaid       1977-09-25            F         1.650   \n",
       "\n",
       "  actor_ethnicity_freebase_id          actor_name  actor_age_movie_release  \\\n",
       "0                         NaN      Wanda De Jesus                     42.0   \n",
       "1                  /m/044038p  Natasha Henstridge                     27.0   \n",
       "2                     /m/0x67            Ice Cube                     32.0   \n",
       "3                         NaN       Jason Statham                     33.0   \n",
       "4                         NaN         Clea DuVall                     23.0   \n",
       "\n",
       "  character_actor_freebase_map_id character_id_freebase actor_id_freebase  \n",
       "0                      /m/0bgchxw            /m/0bgcj3x        /m/03wcfv7  \n",
       "1                       /m/0jys3m            /m/0bgchn4         /m/0346l4  \n",
       "2                       /m/0jys3g            /m/0bgchn_        /m/01vw26l  \n",
       "3                      /m/02vchl6            /m/0bgchnq         /m/034hyc  \n",
       "4                      /m/02vbb3r            /m/0bgchp9         /m/01y9xg  "
      ]
     },
     "execution_count": 4,
     "metadata": {},
     "output_type": "execute_result"
    }
   ],
   "source": [
    "# Load characters metadata\n",
    "\n",
    "characters = pd.read_csv(CHARACTERS_DATASET, sep='\\t', names=['id_wiki_movie', 'id_freebase_movie', 'movie_release_date', 'character_name',\n",
    "                                                      'actor_birth_date','actor_gender', 'actor_height', 'actor_ethnicity_freebase_id', 'actor_name',\n",
    "                                                      'actor_age_movie_release', 'character_actor_freebase_map_id', 'character_id_freebase',\n",
    "                                                      'actor_id_freebase'])\n",
    "characters.head()"
   ]
  },
  {
   "cell_type": "code",
   "execution_count": 5,
   "metadata": {
    "tags": []
   },
   "outputs": [
    {
     "data": {
      "text/html": [
       "<div>\n",
       "<style scoped>\n",
       "    .dataframe tbody tr th:only-of-type {\n",
       "        vertical-align: middle;\n",
       "    }\n",
       "\n",
       "    .dataframe tbody tr th {\n",
       "        vertical-align: top;\n",
       "    }\n",
       "\n",
       "    .dataframe thead th {\n",
       "        text-align: right;\n",
       "    }\n",
       "</style>\n",
       "<table border=\"1\" class=\"dataframe\">\n",
       "  <thead>\n",
       "    <tr style=\"text-align: right;\">\n",
       "      <th></th>\n",
       "      <th>character_name</th>\n",
       "      <th>character_actor_freebase_map_id</th>\n",
       "    </tr>\n",
       "  </thead>\n",
       "  <tbody>\n",
       "    <tr>\n",
       "      <th>0</th>\n",
       "      <td>Stuart Little</td>\n",
       "      <td>/m/0k3w9c</td>\n",
       "    </tr>\n",
       "    <tr>\n",
       "      <th>1</th>\n",
       "      <td>Stuart Little</td>\n",
       "      <td>/m/0k3wcx</td>\n",
       "    </tr>\n",
       "    <tr>\n",
       "      <th>2</th>\n",
       "      <td>Stuart Little</td>\n",
       "      <td>/m/0k3wbn</td>\n",
       "    </tr>\n",
       "    <tr>\n",
       "      <th>3</th>\n",
       "      <td>John Doe</td>\n",
       "      <td>/m/0jyg35</td>\n",
       "    </tr>\n",
       "    <tr>\n",
       "      <th>4</th>\n",
       "      <td>John Doe</td>\n",
       "      <td>/m/0k2_zn</td>\n",
       "    </tr>\n",
       "  </tbody>\n",
       "</table>\n",
       "</div>"
      ],
      "text/plain": [
       "  character_name character_actor_freebase_map_id\n",
       "0  Stuart Little                       /m/0k3w9c\n",
       "1  Stuart Little                       /m/0k3wcx\n",
       "2  Stuart Little                       /m/0k3wbn\n",
       "3       John Doe                       /m/0jyg35\n",
       "4       John Doe                       /m/0k2_zn"
      ]
     },
     "execution_count": 5,
     "metadata": {},
     "output_type": "execute_result"
    }
   ],
   "source": [
    "# Load characters' names metadata\n",
    "\n",
    "characters_names = pd.read_csv(CHARACTERS_NAMES_DATASET, sep='\\t', names=['character_name', 'character_actor_freebase_map_id'])\n",
    "\n",
    "characters_names.head()"
   ]
  },
  {
   "cell_type": "code",
   "execution_count": 6,
   "metadata": {
    "tags": []
   },
   "outputs": [
    {
     "data": {
      "text/html": [
       "<div>\n",
       "<style scoped>\n",
       "    .dataframe tbody tr th:only-of-type {\n",
       "        vertical-align: middle;\n",
       "    }\n",
       "\n",
       "    .dataframe tbody tr th {\n",
       "        vertical-align: top;\n",
       "    }\n",
       "\n",
       "    .dataframe thead th {\n",
       "        text-align: right;\n",
       "    }\n",
       "</style>\n",
       "<table border=\"1\" class=\"dataframe\">\n",
       "  <thead>\n",
       "    <tr style=\"text-align: right;\">\n",
       "      <th></th>\n",
       "      <th>character_type</th>\n",
       "      <th>character_actor_freebase_map_id</th>\n",
       "    </tr>\n",
       "  </thead>\n",
       "  <tbody>\n",
       "    <tr>\n",
       "      <th>0</th>\n",
       "      <td>absent_minded_professor</td>\n",
       "      <td>{\"char\": \"Professor Philip Brainard\", \"movie\":...</td>\n",
       "    </tr>\n",
       "    <tr>\n",
       "      <th>1</th>\n",
       "      <td>absent_minded_professor</td>\n",
       "      <td>{\"char\": \"Professor Keenbean\", \"movie\": \"Richi...</td>\n",
       "    </tr>\n",
       "    <tr>\n",
       "      <th>2</th>\n",
       "      <td>absent_minded_professor</td>\n",
       "      <td>{\"char\": \"Dr. Reinhardt Lane\", \"movie\": \"The S...</td>\n",
       "    </tr>\n",
       "    <tr>\n",
       "      <th>3</th>\n",
       "      <td>absent_minded_professor</td>\n",
       "      <td>{\"char\": \"Dr. Harold Medford\", \"movie\": \"Them!...</td>\n",
       "    </tr>\n",
       "    <tr>\n",
       "      <th>4</th>\n",
       "      <td>absent_minded_professor</td>\n",
       "      <td>{\"char\": \"Daniel Jackson\", \"movie\": \"Stargate\"...</td>\n",
       "    </tr>\n",
       "  </tbody>\n",
       "</table>\n",
       "</div>"
      ],
      "text/plain": [
       "            character_type                    character_actor_freebase_map_id\n",
       "0  absent_minded_professor  {\"char\": \"Professor Philip Brainard\", \"movie\":...\n",
       "1  absent_minded_professor  {\"char\": \"Professor Keenbean\", \"movie\": \"Richi...\n",
       "2  absent_minded_professor  {\"char\": \"Dr. Reinhardt Lane\", \"movie\": \"The S...\n",
       "3  absent_minded_professor  {\"char\": \"Dr. Harold Medford\", \"movie\": \"Them!...\n",
       "4  absent_minded_professor  {\"char\": \"Daniel Jackson\", \"movie\": \"Stargate\"..."
      ]
     },
     "execution_count": 6,
     "metadata": {},
     "output_type": "execute_result"
    }
   ],
   "source": [
    "# Load characters' types metadata\n",
    "\n",
    "characters_types = pd.read_csv(CHARACTERS_TYPES_DATASET, sep='\\t', names=['character_type', 'character_actor_freebase_map_id'])\n",
    "\n",
    "characters_types.head()"
   ]
  },
  {
   "cell_type": "code",
   "execution_count": 7,
   "metadata": {
    "tags": []
   },
   "outputs": [
    {
     "data": {
      "text/html": [
       "<div>\n",
       "<style scoped>\n",
       "    .dataframe tbody tr th:only-of-type {\n",
       "        vertical-align: middle;\n",
       "    }\n",
       "\n",
       "    .dataframe tbody tr th {\n",
       "        vertical-align: top;\n",
       "    }\n",
       "\n",
       "    .dataframe thead th {\n",
       "        text-align: right;\n",
       "    }\n",
       "</style>\n",
       "<table border=\"1\" class=\"dataframe\">\n",
       "  <thead>\n",
       "    <tr style=\"text-align: right;\">\n",
       "      <th></th>\n",
       "      <th>id_wiki_movie</th>\n",
       "      <th>summary</th>\n",
       "    </tr>\n",
       "  </thead>\n",
       "  <tbody>\n",
       "    <tr>\n",
       "      <th>0</th>\n",
       "      <td>23890098</td>\n",
       "      <td>Shlykov, a hard-working taxi driver and Lyosha...</td>\n",
       "    </tr>\n",
       "    <tr>\n",
       "      <th>1</th>\n",
       "      <td>31186339</td>\n",
       "      <td>The nation of Panem consists of a wealthy Capi...</td>\n",
       "    </tr>\n",
       "    <tr>\n",
       "      <th>2</th>\n",
       "      <td>20663735</td>\n",
       "      <td>Poovalli Induchoodan  is sentenced for six yea...</td>\n",
       "    </tr>\n",
       "    <tr>\n",
       "      <th>3</th>\n",
       "      <td>2231378</td>\n",
       "      <td>The Lemon Drop Kid , a New York City swindler,...</td>\n",
       "    </tr>\n",
       "    <tr>\n",
       "      <th>4</th>\n",
       "      <td>595909</td>\n",
       "      <td>Seventh-day Adventist Church pastor Michael Ch...</td>\n",
       "    </tr>\n",
       "  </tbody>\n",
       "</table>\n",
       "</div>"
      ],
      "text/plain": [
       "   id_wiki_movie                                            summary\n",
       "0       23890098  Shlykov, a hard-working taxi driver and Lyosha...\n",
       "1       31186339  The nation of Panem consists of a wealthy Capi...\n",
       "2       20663735  Poovalli Induchoodan  is sentenced for six yea...\n",
       "3        2231378  The Lemon Drop Kid , a New York City swindler,...\n",
       "4         595909  Seventh-day Adventist Church pastor Michael Ch..."
      ]
     },
     "execution_count": 7,
     "metadata": {},
     "output_type": "execute_result"
    }
   ],
   "source": [
    "# Load plot summaries' metadata\n",
    "\n",
    "plot_summaries = pd.read_csv(PLOTS_DATASET, sep='\\t', names=['id_wiki_movie', 'summary'])\n",
    "\n",
    "plot_summaries.head()"
   ]
  },
  {
   "cell_type": "code",
   "execution_count": 8,
   "metadata": {
    "tags": []
   },
   "outputs": [
    {
     "data": {
      "text/html": [
       "<div>\n",
       "<style scoped>\n",
       "    .dataframe tbody tr th:only-of-type {\n",
       "        vertical-align: middle;\n",
       "    }\n",
       "\n",
       "    .dataframe tbody tr th {\n",
       "        vertical-align: top;\n",
       "    }\n",
       "\n",
       "    .dataframe thead th {\n",
       "        text-align: right;\n",
       "    }\n",
       "</style>\n",
       "<table border=\"1\" class=\"dataframe\">\n",
       "  <thead>\n",
       "    <tr style=\"text-align: right;\">\n",
       "      <th></th>\n",
       "      <th>actor_ethnicity</th>\n",
       "      <th>actor_ethnicity_freebase_id</th>\n",
       "    </tr>\n",
       "  </thead>\n",
       "  <tbody>\n",
       "    <tr>\n",
       "      <th>0</th>\n",
       "      <td>Hindu</td>\n",
       "      <td>/m/03kbr</td>\n",
       "    </tr>\n",
       "    <tr>\n",
       "      <th>1</th>\n",
       "      <td>European Americans</td>\n",
       "      <td>/m/02vsw1</td>\n",
       "    </tr>\n",
       "    <tr>\n",
       "      <th>2</th>\n",
       "      <td>Slavs</td>\n",
       "      <td>/m/0790v</td>\n",
       "    </tr>\n",
       "    <tr>\n",
       "      <th>3</th>\n",
       "      <td>Aymara</td>\n",
       "      <td>/m/01g3rx</td>\n",
       "    </tr>\n",
       "    <tr>\n",
       "      <th>4</th>\n",
       "      <td>Swiss</td>\n",
       "      <td>/m/025_0f0</td>\n",
       "    </tr>\n",
       "  </tbody>\n",
       "</table>\n",
       "</div>"
      ],
      "text/plain": [
       "      actor_ethnicity actor_ethnicity_freebase_id\n",
       "0               Hindu                    /m/03kbr\n",
       "1  European Americans                   /m/02vsw1\n",
       "2               Slavs                    /m/0790v\n",
       "3              Aymara                   /m/01g3rx\n",
       "4               Swiss                  /m/025_0f0"
      ]
     },
     "execution_count": 8,
     "metadata": {},
     "output_type": "execute_result"
    }
   ],
   "source": [
    "# Load ethnicities metadata (ethnicities corresponding to freebase IDs obtained from wikidata) \n",
    "\n",
    "ethnicities_original = pd.read_csv(ETHNICITIES_DATASET, names=['wikidata_url', 'actor_ethnicity', 'actor_ethnicity_freebase_id'])\n",
    "\n",
    "\n",
    "# Drop the wikidata_url as this will not be needed\n",
    "\n",
    "ethnicities = ethnicities_original.drop('wikidata_url', axis = 1)\n",
    "\n",
    "ethnicities.head()"
   ]
  },
  {
   "cell_type": "code",
   "execution_count": 9,
   "metadata": {
    "tags": []
   },
   "outputs": [
    {
     "data": {
      "text/html": [
       "<div>\n",
       "<style scoped>\n",
       "    .dataframe tbody tr th:only-of-type {\n",
       "        vertical-align: middle;\n",
       "    }\n",
       "\n",
       "    .dataframe tbody tr th {\n",
       "        vertical-align: top;\n",
       "    }\n",
       "\n",
       "    .dataframe thead th {\n",
       "        text-align: right;\n",
       "    }\n",
       "</style>\n",
       "<table border=\"1\" class=\"dataframe\">\n",
       "  <thead>\n",
       "    <tr style=\"text-align: right;\">\n",
       "      <th></th>\n",
       "      <th>id_wiki_movie</th>\n",
       "      <th>id_freebase_movie</th>\n",
       "      <th>movie_release_date</th>\n",
       "      <th>character_name</th>\n",
       "      <th>actor_birth_date</th>\n",
       "      <th>actor_gender</th>\n",
       "      <th>actor_height</th>\n",
       "      <th>actor_ethnicity_freebase_id</th>\n",
       "      <th>actor_name</th>\n",
       "      <th>actor_age_movie_release</th>\n",
       "      <th>character_actor_freebase_map_id</th>\n",
       "      <th>character_id_freebase</th>\n",
       "      <th>actor_id_freebase</th>\n",
       "      <th>actor_ethnicity</th>\n",
       "    </tr>\n",
       "  </thead>\n",
       "  <tbody>\n",
       "    <tr>\n",
       "      <th>0</th>\n",
       "      <td>975900</td>\n",
       "      <td>/m/03vyhn</td>\n",
       "      <td>2001-08-24</td>\n",
       "      <td>Akooshay</td>\n",
       "      <td>1958-08-26</td>\n",
       "      <td>F</td>\n",
       "      <td>1.620</td>\n",
       "      <td>NaN</td>\n",
       "      <td>Wanda De Jesus</td>\n",
       "      <td>42.0</td>\n",
       "      <td>/m/0bgchxw</td>\n",
       "      <td>/m/0bgcj3x</td>\n",
       "      <td>/m/03wcfv7</td>\n",
       "      <td>NaN</td>\n",
       "    </tr>\n",
       "    <tr>\n",
       "      <th>1</th>\n",
       "      <td>975900</td>\n",
       "      <td>/m/03vyhn</td>\n",
       "      <td>2001-08-24</td>\n",
       "      <td>Lieutenant Melanie Ballard</td>\n",
       "      <td>1974-08-15</td>\n",
       "      <td>F</td>\n",
       "      <td>1.780</td>\n",
       "      <td>/m/044038p</td>\n",
       "      <td>Natasha Henstridge</td>\n",
       "      <td>27.0</td>\n",
       "      <td>/m/0jys3m</td>\n",
       "      <td>/m/0bgchn4</td>\n",
       "      <td>/m/0346l4</td>\n",
       "      <td>NaN</td>\n",
       "    </tr>\n",
       "    <tr>\n",
       "      <th>2</th>\n",
       "      <td>975900</td>\n",
       "      <td>/m/03vyhn</td>\n",
       "      <td>2001-08-24</td>\n",
       "      <td>Desolation Williams</td>\n",
       "      <td>1969-06-15</td>\n",
       "      <td>M</td>\n",
       "      <td>1.727</td>\n",
       "      <td>/m/0x67</td>\n",
       "      <td>Ice Cube</td>\n",
       "      <td>32.0</td>\n",
       "      <td>/m/0jys3g</td>\n",
       "      <td>/m/0bgchn_</td>\n",
       "      <td>/m/01vw26l</td>\n",
       "      <td>African Americans</td>\n",
       "    </tr>\n",
       "    <tr>\n",
       "      <th>3</th>\n",
       "      <td>975900</td>\n",
       "      <td>/m/03vyhn</td>\n",
       "      <td>2001-08-24</td>\n",
       "      <td>Sgt Jericho Butler</td>\n",
       "      <td>1967-09-12</td>\n",
       "      <td>M</td>\n",
       "      <td>1.750</td>\n",
       "      <td>NaN</td>\n",
       "      <td>Jason Statham</td>\n",
       "      <td>33.0</td>\n",
       "      <td>/m/02vchl6</td>\n",
       "      <td>/m/0bgchnq</td>\n",
       "      <td>/m/034hyc</td>\n",
       "      <td>NaN</td>\n",
       "    </tr>\n",
       "    <tr>\n",
       "      <th>4</th>\n",
       "      <td>975900</td>\n",
       "      <td>/m/03vyhn</td>\n",
       "      <td>2001-08-24</td>\n",
       "      <td>Bashira Kincaid</td>\n",
       "      <td>1977-09-25</td>\n",
       "      <td>F</td>\n",
       "      <td>1.650</td>\n",
       "      <td>NaN</td>\n",
       "      <td>Clea DuVall</td>\n",
       "      <td>23.0</td>\n",
       "      <td>/m/02vbb3r</td>\n",
       "      <td>/m/0bgchp9</td>\n",
       "      <td>/m/01y9xg</td>\n",
       "      <td>NaN</td>\n",
       "    </tr>\n",
       "  </tbody>\n",
       "</table>\n",
       "</div>"
      ],
      "text/plain": [
       "   id_wiki_movie id_freebase_movie movie_release_date  \\\n",
       "0         975900         /m/03vyhn         2001-08-24   \n",
       "1         975900         /m/03vyhn         2001-08-24   \n",
       "2         975900         /m/03vyhn         2001-08-24   \n",
       "3         975900         /m/03vyhn         2001-08-24   \n",
       "4         975900         /m/03vyhn         2001-08-24   \n",
       "\n",
       "               character_name actor_birth_date actor_gender  actor_height  \\\n",
       "0                    Akooshay       1958-08-26            F         1.620   \n",
       "1  Lieutenant Melanie Ballard       1974-08-15            F         1.780   \n",
       "2         Desolation Williams       1969-06-15            M         1.727   \n",
       "3          Sgt Jericho Butler       1967-09-12            M         1.750   \n",
       "4             Bashira Kincaid       1977-09-25            F         1.650   \n",
       "\n",
       "  actor_ethnicity_freebase_id          actor_name  actor_age_movie_release  \\\n",
       "0                         NaN      Wanda De Jesus                     42.0   \n",
       "1                  /m/044038p  Natasha Henstridge                     27.0   \n",
       "2                     /m/0x67            Ice Cube                     32.0   \n",
       "3                         NaN       Jason Statham                     33.0   \n",
       "4                         NaN         Clea DuVall                     23.0   \n",
       "\n",
       "  character_actor_freebase_map_id character_id_freebase actor_id_freebase  \\\n",
       "0                      /m/0bgchxw            /m/0bgcj3x        /m/03wcfv7   \n",
       "1                       /m/0jys3m            /m/0bgchn4         /m/0346l4   \n",
       "2                       /m/0jys3g            /m/0bgchn_        /m/01vw26l   \n",
       "3                      /m/02vchl6            /m/0bgchnq         /m/034hyc   \n",
       "4                      /m/02vbb3r            /m/0bgchp9         /m/01y9xg   \n",
       "\n",
       "     actor_ethnicity  \n",
       "0                NaN  \n",
       "1                NaN  \n",
       "2  African Americans  \n",
       "3                NaN  \n",
       "4                NaN  "
      ]
     },
     "execution_count": 9,
     "metadata": {},
     "output_type": "execute_result"
    }
   ],
   "source": [
    "# Merging of the ethnicities dataset into the characters dataset\n",
    "\n",
    "characters_ethnicities = characters.merge(ethnicities, how = 'left', on = ['actor_ethnicity_freebase_id'])\n",
    "\n",
    "characters_ethnicities.head()"
   ]
  },
  {
   "cell_type": "markdown",
   "metadata": {
    "tags": []
   },
   "source": [
    "## 2. General statistics about the dataset"
   ]
  },
  {
   "cell_type": "markdown",
   "metadata": {},
   "source": [
    "The aim of this first section is to explore the size of the movies dataset and get a feeling for it. "
   ]
  },
  {
   "cell_type": "code",
   "execution_count": 10,
   "metadata": {
    "tags": []
   },
   "outputs": [],
   "source": [
    "movies_df = movies.copy()"
   ]
  },
  {
   "cell_type": "markdown",
   "metadata": {},
   "source": [
    "**2.1) Initial data processing**\n",
    "\n",
    "In order to explore the dataset, some of the data in the movies dataset has to be preprocessed, because it is not in a format we can use. This is the case for the movie release date, the movie genre, the country of production and the movie languages."
   ]
  },
  {
   "cell_type": "code",
   "execution_count": 11,
   "metadata": {
    "tags": []
   },
   "outputs": [],
   "source": [
    "# TO DO : MAYBE REMOVE NaNs HERE (because otherwise there are countries and genres 'N' and 'a'\n",
    "\n",
    "# movie release date transformed to datetime format (we decided to only keep the years as we don't need the month and day information)\n",
    "# one weird value at index 62836, date is 1010-12-02 --> could not be converted to datetime so replaced by NaT\n",
    "# TO DO : DON'T FORGET TO REMOVE NaT VALUES LATER!!!!\n",
    "\n",
    "movies_df['date'] = pd.to_datetime(movies_df['date'], errors = 'coerce', format = 'mixed').dt.year\n",
    "\n",
    "\n",
    "# genres, countries and languages are given as dictionaries in the form of strings --> dictionary has to be extracted from the string\n",
    "# we decided to convert the dictionary to a list, keeping only the names (not the id), to make data handling easier\n",
    "\n",
    "movies_df['genre'] = movies_df['genre'].apply(lambda x: list(json.loads(x).values()) if len(json.loads(x).values()) > 0 else 'NaN')\n",
    "movies_df['country'] = movies_df['country'].copy().apply(lambda x: list(json.loads(x).values()) if len(json.loads(x).values()) > 0 else 'NaN')\n",
    "movies_df['lang'] = movies_df['lang'].apply(lambda x: list(json.loads(x).values()) if len(json.loads(x).values()) > 0 else 'NaN')"
   ]
  },
  {
   "cell_type": "markdown",
   "metadata": {},
   "source": [
    "**2.2) Exploring the total number of movies in the dataset.**"
   ]
  },
  {
   "cell_type": "code",
   "execution_count": 12,
   "metadata": {
    "tags": []
   },
   "outputs": [
    {
     "name": "stdout",
     "output_type": "stream",
     "text": [
      "The total number of movies is : 81741\n"
     ]
    }
   ],
   "source": [
    "print(\"The total number of movies is :\", movies_df.shape[0])"
   ]
  },
  {
   "cell_type": "markdown",
   "metadata": {},
   "source": [
    "**2.3) Exploring the number of years covered by the dataset and the number of movies produced per year.**"
   ]
  },
  {
   "cell_type": "code",
   "execution_count": 13,
   "metadata": {
    "tags": []
   },
   "outputs": [
    {
     "name": "stdout",
     "output_type": "stream",
     "text": [
      "Movie release years range:  1888.0 - 2016.0\n"
     ]
    }
   ],
   "source": [
    "print(\"Movie release years range: \", movies_df['date'].min(), \"-\", movies_df['date'].max())"
   ]
  },
  {
   "cell_type": "code",
   "execution_count": 14,
   "metadata": {
    "tags": []
   },
   "outputs": [
    {
     "data": {
      "image/png": "[encoded data removed]",
      "text/plain": [
       "<Figure size 800x400 with 1 Axes>"
      ]
     },
     "metadata": {},
     "output_type": "display_data"
    }
   ],
   "source": [
    "# calculating the number of movies per year\n",
    "\n",
    "movies_per_year = movies_df['date'].value_counts()\n",
    "\n",
    "\n",
    "# plotting the number of movies per year\n",
    "\n",
    "plt.figure(figsize = (8, 4))\n",
    "plt.bar(movies_per_year.index, movies_per_year.values)\n",
    "plt.xlabel('Year')\n",
    "plt.ylabel('Number of movies released')\n",
    "plt.title('Number of movies released every year')\n",
    "plt.grid(True)\n",
    "plt.show()"
   ]
  },
  {
   "cell_type": "markdown",
   "metadata": {},
   "source": [
    "**2.4) Exploring the different movie genres.** \n",
    "\n",
    "What are the 20 genres that are the most represented? And how many movies of each genre are there?\n",
    "\n",
    "Since in some cases there are multiple genres for one movie, the value in the genre column is a list. In order to be able to analyze the genres separately (and not as a part of a list of genres for one given movie), we concatenated all these lists to make a big list containing all the instances of all genres.\n",
    "Then we converted the list back to a pandas series, in order to drectly obtain the number of movies for each genre (using value_counts())."
   ]
  },
  {
   "cell_type": "code",
   "execution_count": 15,
   "metadata": {
    "tags": []
   },
   "outputs": [
    {
     "name": "stdout",
     "output_type": "stream",
     "text": [
      "Top 20 most common genres, with number of movies\n"
     ]
    },
    {
     "data": {
      "text/plain": [
       "Drama               34007\n",
       "Comedy              16349\n",
       "Romance Film        10234\n",
       "Black-and-white      9094\n",
       "Action               8798\n",
       "Thriller             8744\n",
       "Short Film           8141\n",
       "World cinema         7155\n",
       "Crime Fiction        6948\n",
       "Indie                6897\n",
       "Documentary          5630\n",
       "Horror               5280\n",
       "Silent film          5250\n",
       "Adventure            4963\n",
       "Family Film          4598\n",
       "N                    4588\n",
       "Action/Adventure     4561\n",
       "Comedy film          4362\n",
       "Musical              4160\n",
       "Animation            3534\n",
       "Name: count, dtype: int64"
      ]
     },
     "execution_count": 15,
     "metadata": {},
     "output_type": "execute_result"
    }
   ],
   "source": [
    "# making one big list with all instances of all genres\n",
    "\n",
    "genres_list = []\n",
    "for genres in movies_df['genre'] : genres_list += genres\n",
    "\n",
    "\n",
    "# transforming the list into a series\n",
    "\n",
    "genres_df = pd.Series(genres_list)\n",
    "\n",
    "# number of movies for each genre\n",
    "\n",
    "movies_per_genre = genres_df.value_counts()\n",
    "\n",
    "\n",
    "# top 20 genres with number of instances\n",
    "\n",
    "top_20_genres = movies_per_genre[:20]\n",
    "\n",
    "print('Top 20 most common genres, with number of movies')\n",
    "top_20_genres"
   ]
  },
  {
   "cell_type": "markdown",
   "metadata": {},
   "source": [
    "**2.5) Exploring the production countries of the movies in the dataset.**\n",
    "\n",
    "What are the top 20 countries producing most movies? And how many movies were produced in each country?\n",
    "\n",
    "We proceded the same ways as in 2.4), first making a list, then tranforming it into a dataframe to use value_counts()."
   ]
  },
  {
   "cell_type": "code",
   "execution_count": 18,
   "metadata": {
    "tags": []
   },
   "outputs": [
    {
     "name": "stdout",
     "output_type": "stream",
     "text": [
      "Top 20 most common countries, with number of movies\n"
     ]
    },
    {
     "data": {
      "text/plain": [
       "United States of America    34408\n",
       "N                           16308\n",
       "India                        8411\n",
       "a                            8154\n",
       "United Kingdom               7868\n",
       "France                       4395\n",
       "Italy                        3163\n",
       "Japan                        2647\n",
       "Canada                       2534\n",
       "Germany                      2393\n",
       "Argentina                    1468\n",
       "Hong Kong                    1240\n",
       "Spain                        1136\n",
       "Australia                    1114\n",
       "South Korea                   887\n",
       "Mexico                        870\n",
       "Netherlands                   840\n",
       "Sweden                        657\n",
       "West Germany                  647\n",
       "China                         645\n",
       "Name: count, dtype: int64"
      ]
     },
     "execution_count": 18,
     "metadata": {},
     "output_type": "execute_result"
    }
   ],
   "source": [
    "# making one big list with all instances of all countries\n",
    "\n",
    "countries_list = []\n",
    "for countries in movies_df['country'] : countries_list += countries\n",
    "\n",
    "\n",
    "# transforming the list into a dataframe\n",
    "\n",
    "countries_df = pd.Series(countries_list)\n",
    "\n",
    "# number of movies for each country\n",
    "\n",
    "movies_per_country = countries_df.value_counts()\n",
    "\n",
    "\n",
    "# top 20 countries with number of movies\n",
    "\n",
    "top_20_countries = movies_per_country[:20]\n",
    "\n",
    "print('Top 20 most common countries, with number of movies')\n",
    "top_20_countries"
   ]
  },
  {
   "cell_type": "markdown",
   "metadata": {},
   "source": [
    "**2.6) Exploring the number of different languages of the movies in the dataset.**\n",
    "\n",
    "Since there might in some cases be multiple languages for one movie, we proceded similarly to 2.4) and 2.5) by first making a list containing all instances of all languages. As we only wanted to find the total number of different languages and not the number of movies for a specific language, we then converted the list to a set."
   ]
  },
  {
   "cell_type": "code",
   "execution_count": 19,
   "metadata": {
    "tags": []
   },
   "outputs": [
    {
     "name": "stdout",
     "output_type": "stream",
     "text": [
      "The total number of languages represented in the dataset is : 209\n"
     ]
    }
   ],
   "source": [
    "# making one big list with all instances of all languages\n",
    "\n",
    "languages_list = []\n",
    "for lang in movies_df['lang'] : languages_list += lang\n",
    "\n",
    "\n",
    "# number of different languages (tranforming the list into a set)\n",
    "\n",
    "tot_languages = len(set(languages_list))\n",
    "\n",
    "print('The total number of languages represented in the dataset is :', tot_languages)"
   ]
  },
  {
   "cell_type": "markdown",
   "metadata": {},
   "source": [
    "**2.7) Exploring the different ethicities of the movie characters.** \n",
    "\n",
    "What are the different ethnicities represented in the dataset?"
   ]
  },
  {
   "cell_type": "code",
   "execution_count": 20,
   "metadata": {
    "tags": []
   },
   "outputs": [
    {
     "name": "stdout",
     "output_type": "stream",
     "text": [
      "Top 20 most common countries, with number of movies\n"
     ]
    },
    {
     "data": {
      "text/plain": [
       "Indian person        16351\n",
       "African Americans    10159\n",
       "Jewish people        10121\n",
       "English people        6165\n",
       "Irish Americans       3857\n",
       "Italian Americans     2956\n",
       "white people          2307\n",
       "White Americans       2250\n",
       "Scottish American     2223\n",
       "Irish people          1637\n",
       "British people        1433\n",
       "French                1350\n",
       "Italians              1305\n",
       "Tamil                 1215\n",
       "Punjabis              1155\n",
       "Malayali              1146\n",
       "Scottish people       1028\n",
       "Swedish Americans      977\n",
       "German Americans       949\n",
       "Swedes                 905\n",
       "Name: count, dtype: int64"
      ]
     },
     "execution_count": 20,
     "metadata": {},
     "output_type": "execute_result"
    }
   ],
   "source": [
    "characters_ethnicities_df = characters_ethnicities.copy()\n",
    "\n",
    "# making one big list with all instances of all countries\n",
    "\n",
    "ethnicities_list = characters_ethnicities_df['actor_ethnicity'].to_list()\n",
    "\n",
    "# transforming the list into a dataframe\n",
    "\n",
    "ethnicities_df = pd.Series(ethnicities_list)\n",
    "\n",
    "# number of character for each ethncity\n",
    "\n",
    "characters_per_ethnicity = ethnicities_df.value_counts()\n",
    "\n",
    "\n",
    "# top 20 ethnicities with number of characters\n",
    "\n",
    "top_20_ethnicities = characters_per_ethnicity[:20]\n",
    "\n",
    "print('Top 20 most common countries, with number of movies')\n",
    "top_20_ethnicities"
   ]
  },
  {
   "cell_type": "markdown",
   "metadata": {
    "tags": []
   },
   "source": [
    "## 3. Test for feasability of our idea"
   ]
  },
  {
   "cell_type": "markdown",
   "metadata": {},
   "source": [
    "**3.1) Defining world regions & plotting their movies over time**\n",
    "\n",
    "We may want to define different regions of the world, grouping different countries together. We could define the following regions: \n",
    "- Europe \n",
    "- USA + Canada + Australia\n",
    "- Middle East\n",
    "- Asia\n",
    "- Africa\n",
    "- South & Central America\n",
    "\n",
    "--> Check how many movies are contained for each subdivision over time? Do we have enough movies for each division at each timepoint to be able to draw relevant conclusions?\n",
    "(Here we don't only check if our partitioning is adequate but also the general timespan we can perform our analysis on: WWI may be too early)"
   ]
  },
  {
   "cell_type": "code",
   "execution_count": 16,
   "metadata": {
    "tags": []
   },
   "outputs": [
    {
     "name": "stdout",
     "output_type": "stream",
     "text": [
      "147\n",
      "147\n"
     ]
    }
   ],
   "source": [
    "# Creating subdivisions of movies\n",
    "\n",
    "countries_df_2 = movies.copy()\n",
    "countries_df_2['date'] = pd.to_datetime(countries_df_2['date'], errors = 'coerce', format = 'mixed').dt.year\n",
    "\n",
    "\n",
    "# Obtain a list of countries contained in the dataset\n",
    "\n",
    "only_countries = countries_df_2['country'].apply(lambda x: list(json.loads(x).values()) if len(json.loads(x).values()) > 0 else 'NaN').copy()\n",
    "only_countries = only_countries.to_list()\n",
    "\n",
    "\n",
    "# Removing all Nan's and making a onedimensional list of all countries contained in the dataset\n",
    "\n",
    "only_countries = [x for x in only_countries if x != \"NaN\"]\n",
    "only_countries = [item for sublist in only_countries for item in sublist]\n",
    "\n",
    "\n",
    "# Creating a list with all unique countries contained in the dataset\n",
    "\n",
    "only_countries_unique = []\n",
    "for item in only_countries:\n",
    "    if item not in only_countries_unique:\n",
    "        only_countries_unique.append(item)\n",
    "\n",
    "        \n",
    "# Create the corresponding regions for later analysis containing all countries from the dataset\n",
    "\n",
    "europe_countries =  ['United Kingdom', 'Croatia', 'Ukraine', 'Luxembourg', 'Belgium', 'Sweden', 'Switzerland', 'Greece', 'Ireland',  'Iceland', 'Poland', 'Italy', 'Denmark',  'Scotland', 'Finland', 'Albania', 'Portugal', 'Northern Ireland', 'Austria',  'Netherlands', 'Monaco', 'Spain',  'England',  'German Democratic Republic', 'France', 'Nazi Germany', 'West Germany',  'Germany', 'Weimar Republic', 'Kingdom of Italy', 'Kingdom of Great Britain', 'Isle of Man', 'Lithuania', 'Malta', 'Czech Republic',  'Czechoslovakia', 'Slovakia', 'Romania', 'Norway', 'Serbia', 'Slovenia', 'Bulgaria', 'Slovak Republic', 'Ukrainian SSR',  'Ukranian SSR',  'Estonia',  'Soviet occupation zone', 'Bosnia and Herzegovina', 'Socialist Federal Republic of Yugoslavia', 'Yugoslavia', 'Wales', 'Hungary', 'Federal Republic of Yugoslavia',  'Serbia and Montenegro', 'Republic of Macedonia', 'Montenegro', 'Cyprus', 'Crime']\n",
    "middle_east_countries = ['Lebanon', 'Iran', 'United Arab Emirates', 'Iraq', 'Turkey', 'Iraqi Kurdistan', 'Jordan', 'Mandatory Palestine', 'Palestinian territories', 'Palestinian Territories', 'Armenia', 'Georgia', 'Kuwait', 'Georgian SSR', 'Israel', 'Turkmenistan', 'Qatar', 'Bahrain', 'Azerbaijan']\n",
    "asia_countries = ['Hong Kong', 'Nepal', 'Indonesia', 'China',  'Taiwan', 'Cambodia', 'Vietnam', 'Sri Lanka', 'Singapore', 'Thailand', 'Mongolia', 'Korea', 'India', 'Malaysia', 'South Korea', 'Philippines', 'Republic of China', 'Japan',  'Soviet Union', 'Bangladesh', 'Russia', 'Pakistan', 'Uzbekistan', 'Afghanistan', 'Macau', 'Uzbek SSR', 'Bhutan', 'Burma']\n",
    "africa_countries = ['Guinea', 'Cameroon', 'Democratic Republic of the Congo', 'Tunisia', 'Congo', 'Ethiopia', 'Nigeria', 'Libya', 'Zimbabwe', 'Morocco',  'Mali', 'Egypt', 'Burkina Faso', 'Senegal', 'Kenya', 'South Africa', 'Algeria', 'Zambia', 'Guinea-Bissau']\n",
    "south_central_america_countries =  ['Mexico', 'Colombia', 'Uruguay', 'Puerto Rico',  'Costa Rica', 'Chile', 'Venezuela', 'Peru', 'Bolivia', 'Brazil', 'Cuba', 'Panama', 'Argentina', 'Haiti', 'Bahamas', 'Jamaica', 'Aruba']\n",
    "other_countries = ['United States of America', 'Canada', 'Australia', 'New Zealand']\n",
    "outlier_countries = [ 'German Language', 'Malayalam Language'] \n",
    "\n",
    "\n",
    "# Check that all countries in the dataset are contained in a certain region\n",
    "\n",
    "all_countries = europe_countries + middle_east_countries + asia_countries + africa_countries + south_central_america_countries + other_countries + outlier_countries\n",
    "print(len(only_countries_unique))\n",
    "print(len(all_countries))"
   ]
  },
  {
   "cell_type": "markdown",
   "metadata": {},
   "source": [
    "**Important Observations:**\n",
    "- A movie can be produced by multiple countries at the same time\n",
    "- In the entries of some countries, there are typos or different syntax which is why these countries are not considered identical. To avoid any effects this can have, all manners of which the country was written was included in the grouping. Examples of this are:\n",
    "    - “Ukrainian SSR” vs “Ukranian SSR”\n",
    "    - “Socialist Federal Republic of Yugoslavia” vs “Yugoslavia” vs “Federal Republic of Yugoslavia”\n",
    "    - “Palestinian territories” vs “Palestinian Territories”\n",
    "- There are a few entries which do not correspond to countries. These were grouped into the list \"outlier_countries\" and will not be used for country analysis, as we cannot be completely sure what countries produced them. Examples of this are:\n",
    "    - “German Language”\n",
    "    - “Malayalam Language”"
   ]
  },
  {
   "cell_type": "code",
   "execution_count": 17,
   "metadata": {
    "tags": []
   },
   "outputs": [
    {
     "data": {
      "image/png": "[encoded data removed]",
      "text/plain": [
       "<Figure size 800x400 with 1 Axes>"
      ]
     },
     "metadata": {},
     "output_type": "display_data"
    },
    {
     "data": {
      "image/png": "[encoded data removed]",
      "text/plain": [
       "<Figure size 800x400 with 1 Axes>"
      ]
     },
     "metadata": {},
     "output_type": "display_data"
    },
    {
     "data": {
      "image/png": "[encoded data removed]",
      "text/plain": [
       "<Figure size 800x400 with 1 Axes>"
      ]
     },
     "metadata": {},
     "output_type": "display_data"
    },
    {
     "data": {
      "image/png": "[encoded data removed]",
      "text/plain": [
       "<Figure size 800x400 with 1 Axes>"
      ]
     },
     "metadata": {},
     "output_type": "display_data"
    },
    {
     "data": {
      "image/png": "[encoded data removed]",
      "text/plain": [
       "<Figure size 800x400 with 1 Axes>"
      ]
     },
     "metadata": {},
     "output_type": "display_data"
    },
    {
     "data": {
      "image/png": "[encoded data removed]",
      "text/plain": [
       "<Figure size 800x400 with 1 Axes>"
      ]
     },
     "metadata": {},
     "output_type": "display_data"
    }
   ],
   "source": [
    "# Check how many movies are contained for each subdivision over time\n",
    "\n",
    "\n",
    "# Check for Region Europe\n",
    "\n",
    "filtered_europe_movies = countries_df_2[countries_df_2['country'].apply(lambda x: any(item in x for item in europe_countries))]\n",
    "movies_per_year_europe = filtered_europe_movies['date'].value_counts()\n",
    "\n",
    "plt.figure(figsize = (8, 4))\n",
    "plt.bar(movies_per_year_europe.index, movies_per_year_europe.values)\n",
    "plt.xlabel('Year')\n",
    "plt.ylabel('Number of movies released')\n",
    "plt.title('Number of movies released every year in the Europe Region')\n",
    "plt.grid(True)\n",
    "plt.show()\n",
    "\n",
    "\n",
    "# Check for Region Middle East\n",
    "\n",
    "filtered_middle_east_movies = countries_df_2[countries_df_2['country'].apply(lambda x: any(item in x for item in middle_east_countries))]\n",
    "movies_per_year_middle_east = filtered_middle_east_movies['date'].value_counts()\n",
    "\n",
    "plt.figure(figsize = (8, 4))\n",
    "plt.bar(movies_per_year_middle_east.index, movies_per_year_middle_east.values)\n",
    "plt.xlabel('Year')\n",
    "plt.ylabel('Number of movies released')\n",
    "plt.title('Number of movies released every year in the Middle East Region')\n",
    "plt.grid(True)\n",
    "plt.show()\n",
    "\n",
    "\n",
    "# Check for Region Asia\n",
    "\n",
    "filtered_asia_movies = countries_df_2[countries_df_2['country'].apply(lambda x: any(item in x for item in asia_countries))]\n",
    "movies_per_year_asia = filtered_asia_movies['date'].value_counts()\n",
    "\n",
    "plt.figure(figsize = (8, 4))\n",
    "plt.bar(movies_per_year_asia.index, movies_per_year_asia.values)\n",
    "plt.xlabel('Year')\n",
    "plt.ylabel('Number of movies released')\n",
    "plt.title('Number of movies released every year in the Asia Region')\n",
    "plt.grid(True)\n",
    "plt.show()\n",
    "\n",
    "\n",
    "# Check for Region Africa\n",
    "\n",
    "filtered_africa_movies = countries_df_2[countries_df_2['country'].apply(lambda x: any(item in x for item in africa_countries))]\n",
    "movies_per_year_africa = filtered_africa_movies['date'].value_counts()\n",
    "\n",
    "plt.figure(figsize = (8, 4))\n",
    "plt.bar(movies_per_year_africa.index, movies_per_year_africa.values)\n",
    "plt.xlabel('Year')\n",
    "plt.ylabel('Number of movies released')\n",
    "plt.title('Number of movies released every year in the Africa Region')\n",
    "plt.grid(True)\n",
    "plt.show()\n",
    "\n",
    "\n",
    "# Check for region South Central America\n",
    "\n",
    "filtered_south_central_america_movies = countries_df_2[countries_df_2['country'].apply(lambda x: any(item in x for item in south_central_america_countries))]\n",
    "movies_per_year_south_central_america = filtered_south_central_america_movies['date'].value_counts()\n",
    "\n",
    "plt.figure(figsize = (8, 4))\n",
    "plt.bar(movies_per_year_south_central_america.index, movies_per_year_south_central_america.values)\n",
    "plt.xlabel('Year')\n",
    "plt.ylabel('Number of movies released')\n",
    "plt.title('Number of movies released every year in the South Central America Region')\n",
    "plt.grid(True)\n",
    "plt.show()\n",
    "\n",
    "\n",
    "# Check for region Other (includes USA, Australia, New Zealand, Canada)\n",
    "\n",
    "filtered_other_movies = countries_df_2[countries_df_2['country'].apply(lambda x: any(item in x for item in other_countries))]\n",
    "movies_per_year_other = filtered_other_movies['date'].value_counts()\n",
    "\n",
    "plt.figure(figsize = (8, 4))\n",
    "plt.bar(movies_per_year_other.index, movies_per_year_other.values)\n",
    "plt.xlabel('Year')\n",
    "plt.ylabel('Number of movies released')\n",
    "plt.title('Number of movies released every year in other Regions (USA, CANADA, NZ, AUSTRALIA)')\n",
    "plt.grid(True)\n",
    "plt.show()"
   ]
  },
  {
   "cell_type": "code",
   "execution_count": 18,
   "metadata": {
    "tags": []
   },
   "outputs": [
    {
     "data": {
      "image/png": "[encoded data removed]",
      "text/plain": [
       "<Figure size 1500x1000 with 6 Axes>"
      ]
     },
     "metadata": {},
     "output_type": "display_data"
    }
   ],
   "source": [
    "# Check how many movies are contained for each subdivision over time, constructing subplots with the same y-axis\n",
    "\n",
    "fig, axs = plt.subplots(2, 3, figsize=(15, 10), sharex=True, sharey=True)\n",
    "\n",
    "# Check for Region Europe\n",
    "axs[0, 0].bar(movies_per_year_europe.index, movies_per_year_europe.values)\n",
    "axs[0, 0].set_title('Europe')\n",
    "\n",
    "# Check for Region Middle East\n",
    "axs[0, 1].bar(movies_per_year_middle_east.index, movies_per_year_middle_east.values)\n",
    "axs[0, 1].set_title('Middle East')\n",
    "\n",
    "# Check for Region Asia\n",
    "axs[0, 2].bar(movies_per_year_asia.index, movies_per_year_asia.values)\n",
    "axs[0, 2].set_title('Asia')\n",
    "\n",
    "# Check for Region Africa\n",
    "axs[1, 0].bar(movies_per_year_africa.index, movies_per_year_africa.values)\n",
    "axs[1, 0].set_title('Africa')\n",
    "\n",
    "# Check for region South Central America\n",
    "axs[1, 1].bar(movies_per_year_south_central_america.index, movies_per_year_south_central_america.values)\n",
    "axs[1, 1].set_title('South Central America')\n",
    "\n",
    "# Check for region Other (includes USA, Australia, New Zealand, Canada)\n",
    "axs[1, 2].bar(movies_per_year_other.index, movies_per_year_other.values)\n",
    "axs[1, 2].set_title('Other (USA, CANADA, NZ, AUSTRALIA)')\n",
    "\n",
    "for ax in axs.flat:\n",
    "    ax.set(xlabel='Year', ylabel='Number of movies released')\n",
    "    ax.grid(True)\n",
    "\n",
    "# Hide x labels and tick labels for top plots and y ticks for right plots.\n",
    "for ax in axs.flat:\n",
    "    ax.label_outer()\n",
    "\n",
    "plt.show()"
   ]
  },
  {
   "cell_type": "code",
   "execution_count": 19,
   "metadata": {
    "tags": []
   },
   "outputs": [
    {
     "data": {
      "image/png": "[encoded data removed]",
      "text/plain": [
       "<Figure size 1500x1000 with 6 Axes>"
      ]
     },
     "metadata": {},
     "output_type": "display_data"
    }
   ],
   "source": [
    "# Check how many movies are contained for each subdivision over time, constructing subplots with individual y-axes\n",
    "\n",
    "fig, axs = plt.subplots(2, 3, figsize=(15, 10))\n",
    "\n",
    "# Check for Region Europe\n",
    "axs[0, 0].bar(movies_per_year_europe.index, movies_per_year_europe.values)\n",
    "axs[0, 0].set_title('Europe')\n",
    "axs[0, 0].set_xlabel('Year')\n",
    "axs[0, 0].set_ylabel('Number of movies released')\n",
    "axs[0, 0].set_ylim([0, movies_per_year_europe.values.max() * 1.2])  # Adjust the multiplier as needed\n",
    "axs[0, 0].grid(True)\n",
    "\n",
    "# Check for Region Middle East\n",
    "axs[0, 1].bar(movies_per_year_middle_east.index, movies_per_year_middle_east.values)\n",
    "axs[0, 1].set_title('Middle East')\n",
    "axs[0, 1].set_xlabel('Year')\n",
    "axs[0, 1].set_ylabel('Number of movies released')\n",
    "axs[0, 1].set_ylim([0, movies_per_year_middle_east.values.max() * 1.2])  # Adjust the multiplier as needed\n",
    "axs[0, 1].grid(True)\n",
    "\n",
    "# Check for Region Asia\n",
    "axs[0, 2].bar(movies_per_year_asia.index, movies_per_year_asia.values)\n",
    "axs[0, 2].set_title('Asia')\n",
    "axs[0, 2].set_xlabel('Year')\n",
    "axs[0, 2].set_ylabel('Number of movies released')\n",
    "axs[0, 2].set_ylim([0, movies_per_year_asia.values.max() * 1.2])  # Adjust the multiplier as needed\n",
    "axs[0, 2].grid(True)\n",
    "\n",
    "# Check for Region Africa\n",
    "axs[1, 0].bar(movies_per_year_africa.index, movies_per_year_africa.values)\n",
    "axs[1, 0].set_title('Africa')\n",
    "axs[1, 0].set_xlabel('Year')\n",
    "axs[1, 0].set_ylabel('Number of movies released')\n",
    "axs[1, 0].set_ylim([0, movies_per_year_africa.values.max() * 1.2])  # Adjust the multiplier as needed\n",
    "axs[1, 0].grid(True)\n",
    "\n",
    "# Check for region South Central America\n",
    "axs[1, 1].bar(movies_per_year_south_central_america.index, movies_per_year_south_central_america.values)\n",
    "axs[1, 1].set_title('South Central America')\n",
    "axs[1, 1].set_xlabel('Year')\n",
    "axs[1, 1].set_ylabel('Number of movies released')\n",
    "axs[1, 1].set_ylim([0, movies_per_year_south_central_america.values.max() * 1.2])  # Adjust the multiplier as needed\n",
    "axs[1, 1].grid(True)\n",
    "\n",
    "# Check for region Other (includes USA, Australia, New Zealand, Canada)\n",
    "axs[1, 2].bar(movies_per_year_other.index, movies_per_year_other.values)\n",
    "axs[1, 2].set_title('Other (USA, CANADA, NZ, AUSTRALIA)')\n",
    "axs[1, 2].set_xlabel('Year')\n",
    "axs[1, 2].set_ylabel('Number of movies released')\n",
    "axs[1, 2].set_ylim([0, movies_per_year_other.values.max() * 1.2])  # Adjust the multiplier as needed\n",
    "axs[1, 2].grid(True)\n",
    "\n",
    "plt.tight_layout()\n",
    "plt.show()"
   ]
  },
  {
   "cell_type": "markdown",
   "metadata": {},
   "source": [
    "**3.2) Number and percentage of NAN values contained in our datasets, specifically for some characteristics that are important for us**"
   ]
  },
  {
   "cell_type": "markdown",
   "metadata": {},
   "source": [
    "As important data for further analysis, we consider:\n",
    "- Actor DOB \n",
    "- Actor Gender\n",
    "- Actor Height \n",
    "- Actor Ethnicity\n",
    "- Actor Age at movie release\n",
    "- Movie Release Date\n",
    "- Movie Box Office Revenue\n",
    "- Movie Languages\n",
    "- Movie Countries\n",
    "- Movie Genres\n",
    "- Do all movies have a plot summary? --> to answer to this we must merge some data and the see if NAN values emerge for some movies\n",
    "\n",
    "Interesting questions to answer:\n",
    "\n",
    "* Analysis of NANs and evaluation if we still have enough movie sets to analyse, should we have to cross those containing important NANs out. \n",
    "\n",
    "Charlotte: we have anough movie sets to analyse I believe, however for certain features since we have a lot of NANs, we should be attentive to our conclusions and their statistically significance. It could be a good idea to merge some columns of dataframes to perform some analysis but crossing those containing a lot of NANs values does not appear to ma as a good idea. We could still use them for a few analysis for the data they contain.\n",
    "\n",
    "* Evaluate if we should eliminate movie from whole analysis, as soon as it does not contain one of the important characteristics or if we should only remove it for the specific analysis this characteristic is used for.\n",
    "\n",
    "Charlotte: for me, we should not eliminate a movie from whole analysis if it does not contain one of the important characteristics because as one can observe below, for some features we have a lot of NANs values. ==> we should maybe indeed remove it for the specific analysis of a particular feature."
   ]
  },
  {
   "cell_type": "code",
   "execution_count": 20,
   "metadata": {
    "tags": []
   },
   "outputs": [
    {
     "name": "stdout",
     "output_type": "stream",
     "text": [
      "There are 106145 NAN values in the actors' birth date column of the characters dataset.\n",
      "This corresponds of 23.55 % of the actors' birth dates total data. \n",
      "\n",
      "There are 45609 NAN values in the actors' gender column of the characters dataset.\n",
      "This corresponds to a percentage of 10.12 % of the actors' genders total data. \n",
      "\n",
      "There are 295845 NAN values in the actors' height column of the characters dataset.\n",
      "This corresponds to a percentage of 65.65 % of the actors' heights total data. \n",
      "\n",
      "There are 344611 NAN values in the actors' ethnicity column of the characters dataset.\n",
      "This corresponds to a percentage of 76.47 % of the actors' ethinicities total data. \n",
      "\n",
      "There are 158113 NAN values in the actors' age at movie release column of the characters dataset.\n",
      "This corresponds to a percentage of 35.08 % of the actors' age at movie release total data. \n",
      "\n",
      "There are 9995 NAN values in the movies' release date column of the characters dataset.\n",
      "This corresponds to a percentage of 2.22 % of the movies' release date total data. \n",
      "\n",
      "There are 73340 NAN values in the movies' box office column of the characters dataset.\n",
      "This corresponds to a percentage of 89.72 % of the movies' box office total data. \n",
      "\n",
      "There are 0 NAN values in the movies' language column of the characters dataset.\n",
      "This corresponds to a percentage of 0.00 % of the movies' languages total data. \n",
      "\n",
      "There are 0 NAN values in the movies' country column of the characters dataset.\n",
      "This corresponds to a percentage of 0.00 % of the movies' countries total data. \n",
      "\n",
      "There are 0 NAN values in the movies' genre column of the characters dataset.\n",
      "This corresponds to a percentage of 0.00 % of the movies' genres total data. \n",
      "\n"
     ]
    }
   ],
   "source": [
    "characters_df = characters.copy()\n",
    "\n",
    "\n",
    "# Computing number of NAN and percentage of NAN in the actors' date of birth column of the characters dataset\n",
    "\n",
    "actors_DOB_NAN_count = (characters_df['actor_birth_date'].isna() == True).sum()\n",
    "missing_actors_DOB_percentage = characters['actor_birth_date'].isna().mean() * 100\n",
    "print(f\"There are {actors_DOB_NAN_count} NAN values in the actors' birth date column of the characters dataset.\")\n",
    "print(f\"This corresponds of {missing_actors_DOB_percentage:.2f} % of the actors' birth dates total data. \\n\")\n",
    "\n",
    "\n",
    "# Computing number of NAN and percentage of NAN in the actors' gender column of the characters dataframe\n",
    "\n",
    "actors_genders_NAN_count = (characters_df['actor_gender'].isna() == True).sum()\n",
    "missing_actors_genders_percentage = characters_df['actor_gender'].isna().mean() * 100\n",
    "print(f\"There are {actors_genders_NAN_count} NAN values in the actors' gender column of the characters dataset.\")\n",
    "print(f\"This corresponds to a percentage of {missing_actors_genders_percentage:.2f} % of the actors' genders total data. \\n\")\n",
    "\n",
    "\n",
    "# Computing number of NAN and percentage of NAN in the actors' gender column of the characters dataframe\n",
    "\n",
    "actors_heights_NAN_count = (characters_df['actor_height'].isna() == True).sum()\n",
    "missing_actors_heights_percentage = characters_df['actor_height'].isna().mean() * 100\n",
    "print(f\"There are {actors_heights_NAN_count} NAN values in the actors' height column of the characters dataset.\")\n",
    "print(f\"This corresponds to a percentage of {missing_actors_heights_percentage:.2f} % of the actors' heights total data. \\n\")\n",
    "\n",
    "\n",
    "# Computing number of NAN and percentage of NAN in the actors' ethnicity column of the characters dataframe\n",
    "\n",
    "actors_ethnicities_NAN_count = (characters_df['actor_ethnicity'].isna() == True).sum()\n",
    "missing_actors_ethnicities_percentage = characters_df['actor_ethnicity'].isna().mean() * 100\n",
    "print(f\"There are {actors_ethnicities_NAN_count} NAN values in the actors' ethnicity column of the characters dataset.\")\n",
    "print(f\"This corresponds to a percentage of {missing_actors_ethnicities_percentage:.2f} % of the actors' ethinicities total data. \\n\")\n",
    "\n",
    "\n",
    "# Computing number of NAN and percentage of NAN in the actors' age at movie release column of the characters dataframe\n",
    "\n",
    "actors_age_movie_release_NAN_count = (characters_df['actor_age_movie_release'].isna() == True).sum()\n",
    "missing_actors_age_movie_release_percentage = characters_df['actor_age_movie_release'].isna().mean() * 100\n",
    "print(f\"There are {actors_age_movie_release_NAN_count} NAN values in the actors' age at movie release column of the characters dataset.\")\n",
    "print(f\"This corresponds to a percentage of {missing_actors_age_movie_release_percentage:.2f} % of the actors' age at movie release total data. \\n\")\n",
    "\n",
    "\n",
    "# Computing number of NAN and percentage of NAN in the movies' release date column of the characters dataframe\n",
    "\n",
    "movie_release_date_NAN_count = (characters_df['movie_release_date'].isna() == True).sum()\n",
    "missing_movie_release_date_percentage = characters_df['movie_release_date'].isna().mean() * 100\n",
    "print(f\"There are {movie_release_date_NAN_count} NAN values in the movies' release date column of the characters dataset.\")\n",
    "print(f\"This corresponds to a percentage of {missing_movie_release_date_percentage:.2f} % of the movies' release date total data. \\n\")\n",
    "\n",
    "\n",
    "# Computing number of NAN and percentage of NAN in the movies' box office column of the characters dataframe\n",
    "\n",
    "movie_box_office_NAN_count = (movies_df['box_office'].isna() == True).sum()\n",
    "missing_movie_box_office_percentage = movies_df['box_office'].isna().mean() * 100\n",
    "print(f\"There are {movie_box_office_NAN_count} NAN values in the movies' box office column of the characters dataset.\")\n",
    "print(f\"This corresponds to a percentage of {missing_movie_box_office_percentage:.2f} % of the movies' box office total data. \\n\")\n",
    "\n",
    "\n",
    "# Computing number of NAN and percentage of NAN in the movies' language column of the characters dataframe\n",
    "\n",
    "movie_lang_NAN_count = (movies_df['lang'].isna() == True).sum()\n",
    "missing_movie_lang_percentage = movies_df['lang'].isna().mean() * 100\n",
    "print(f\"There are {movie_lang_NAN_count} NAN values in the movies' language column of the characters dataset.\")\n",
    "print(f\"This corresponds to a percentage of {missing_movie_lang_percentage:.2f} % of the movies' languages total data. \\n\")\n",
    "\n",
    "\n",
    "# Computing number of NAN and percentage of NAN in the movies' country column of the characters dataframe\n",
    "\n",
    "movie_countries_NAN_count = (movies_df['country'].isna() == True).sum()\n",
    "missing_movie_countries_percentage = movies_df['country'].isna().mean() * 100\n",
    "print(f\"There are {movie_countries_NAN_count} NAN values in the movies' country column of the characters dataset.\")\n",
    "print(f\"This corresponds to a percentage of {missing_movie_countries_percentage:.2f} % of the movies' countries total data. \\n\")\n",
    "\n",
    "\n",
    "# Computing number of NAN and percentage of NAN in the movies' genre column of the characters dataframe\n",
    "\n",
    "movie_genres_NAN_count = (movies_df['genre'].isna() == True).sum()\n",
    "missing_movie_genres_percentage = movies_df['genre'].isna().mean() * 100\n",
    "print(f\"There are {movie_genres_NAN_count} NAN values in the movies' genre column of the characters dataset.\")\n",
    "print(f\"This corresponds to a percentage of {missing_movie_genres_percentage:.2f} % of the movies' genres total data. \\n\")"
   ]
  },
  {
   "cell_type": "markdown",
   "metadata": {},
   "source": [
    "**3.3) Word cloud algorithm**"
   ]
  },
  {
   "cell_type": "markdown",
   "metadata": {},
   "source": [
    "The algorithm below creates a words' list of all words present in movies' summaries with their associated frequencies of appearence in all summaries. Here, for now, we only print the top 50 most used words in summaries."
   ]
  },
  {
   "cell_type": "markdown",
   "metadata": {},
   "source": [
    "**ATTENTION:**\n",
    "Pour run le code pour cette partie, vous devez d'abord run les deux commandes commentées dans la cellule juste en-dessous une fois et ensuite vous pouvez les commenter de nouveau."
   ]
  },
  {
   "cell_type": "code",
   "execution_count": 21,
   "metadata": {},
   "outputs": [],
   "source": [
    "#nltk.download('punkt')\n",
    "#nltk.download('stopwords')"
   ]
  },
  {
   "cell_type": "code",
   "execution_count": 22,
   "metadata": {
    "tags": []
   },
   "outputs": [],
   "source": [
    "from collections import Counter\n",
    "import nltk\n",
    "from nltk import punkt\n",
    "from nltk.corpus import stopwords"
   ]
  },
  {
   "cell_type": "code",
   "execution_count": 23,
   "metadata": {
    "tags": []
   },
   "outputs": [
    {
     "name": "stdout",
     "output_type": "stream",
     "text": [
      "['one', 'back', 'two', 'film', 'father', 'man', 'tells', 'time', 'life', 'love', 'new', 'get', 'home', 'family', 'also', 'find', 'house', 'however', 'finds', 'later', 'mother', 'goes', 'go', 'takes', 'police', 'day', 'away', 'young', 'take', 'wife', 'first', 'gets', 'tries', 'help', 'son', 'night', 'friend', 'story', 'begins', 'way', 'death', 'becomes', 'woman', 'money', 'killed', 'next', 'friends', 'make', 'men']\n"
     ]
    }
   ],
   "source": [
    "plot_summaries_df = plot_summaries.copy()\n",
    "\n",
    "# Pre-processing summaries' text data\n",
    "\n",
    "summaries_text = ' '.join(plot_summaries_df['summary']) # Combine all text data into a single string\n",
    "summaries_words = nltk.word_tokenize(summaries_text.lower()) # Convert to lowercase and tokenize\n",
    "words_freq = Counter(summaries_words) # Count word frequencies\n",
    "\n",
    "\n",
    "# Remove common stop words and punctuations\n",
    "\n",
    "stop_words = set(stopwords.words('english'))\n",
    "word_freq = {word: freq for word, freq in words_freq.items() if word not in stop_words and word.isalpha()}\n",
    "\n",
    "\n",
    "# Sort words by frequency in descending order\n",
    "\n",
    "sorted_word_freq = sorted(word_freq.items(), key=lambda x: x[1], reverse=True)\n",
    "\n",
    "\n",
    "# Extract the 50 most frequently appearing words in plots' summaries\n",
    "\n",
    "top_50_word = sorted_word_freq[:49]\n",
    "top_50_word_list = [word for word, _ in top_50_word]\n",
    "\n",
    "print(top_50_word_list)"
   ]
  },
  {
   "cell_type": "markdown",
   "metadata": {},
   "source": [
    "**3.4) Characters Features Analysis**"
   ]
  },
  {
   "cell_type": "markdown",
   "metadata": {},
   "source": [
    "Interesting questions:\n",
    "* How are we able to extract the \"villain\" and the \"main character\" from a movie plot? \n",
    "* How can we get their typical characteristics? \n",
    "* Can we test the principle of this for a specific movie?"
   ]
  },
  {
   "cell_type": "markdown",
   "metadata": {},
   "source": [
    "The code below allows to detect from a movie summary the movies' characters, the adjectives that characterize them and the verbs associated to them in the text. Here, a random movie summary has been chosen just to show that the code works."
   ]
  },
  {
   "cell_type": "markdown",
   "metadata": {},
   "source": [
    "**ATTENTION:** \n",
    "\n",
    "Pour run le code suivant, vous devez d'abord installer un environnement virtuel qui vous permettra d'intégrer le module SpaCy et de load la langue anglaise, ce qui permet de faire des analyses de textes non-biaisées et rapides.\n",
    "\n",
    "Pour cela, vous devez effectuer les commandes suivantes dans votre terminal sur Jupyter Notebook:\n",
    "```\n",
    "my_venvs_create spacy_env\n",
    "my_venvs_activate spacy_env\n",
    "pip install spacy\n",
    "python -m spacy download en_core_web_sm\n",
    "my_kernels_create py3_spacy \"Py3 Spacy\"\n",
    "my_venvs_deactivate\n",
    "```\n",
    "Et après, pour run votre notebook, choisissez comme kernel celui que vous venez de créer \"Py3 Spacy\"."
   ]
  },
  {
   "cell_type": "code",
   "execution_count": 24,
   "metadata": {},
   "outputs": [],
   "source": [
    "import spacy"
   ]
  },
  {
   "cell_type": "code",
   "execution_count": 25,
   "metadata": {},
   "outputs": [],
   "source": [
    "# Load the English language model\n",
    "\n",
    "nlp = spacy.load(\"en_core_web_sm\")\n",
    "\n",
    "\n",
    "# Sample a movie summary\n",
    "\n",
    "movie_summary_example = plot_summaries['summary'][1]\n",
    "\n",
    "\n",
    "# Process the movie summary\n",
    "\n",
    "doc = nlp(movie_summary_example)\n",
    "\n",
    "\n",
    "# Create two dictionaries to store characters, their related adjectives and verbs\n",
    "\n",
    "characters_adjectives = {}\n",
    "characters_verbs = {}\n",
    "\n",
    "\n",
    "# Extract character's names (assuming it's mentioned as a proper noun)\n",
    "\n",
    "characters_names = []\n",
    "for entity in doc.ents:\n",
    "    if entity.label_ == \"PERSON\":\n",
    "        characters_names.append(entity.text)\n",
    "\n",
    "\n",
    "# Dropping characters' duplicates\n",
    "\n",
    "characters_names_unique = []\n",
    "for item in characters_names:\n",
    "    if item not in characters_names_unique:\n",
    "        characters_names_unique.append(item)"
   ]
  },
  {
   "cell_type": "code",
   "execution_count": 26,
   "metadata": {},
   "outputs": [
    {
     "name": "stdout",
     "output_type": "stream",
     "text": [
      "THE CHARACTERS AND THEIR RELATED ADJECTIVES: \n",
      "\n",
      "Katniss: tormenting \n",
      "\n",
      "Peeta Mellark: No related adjectives. \n",
      "\n",
      "baker: No related adjectives. \n",
      "\n",
      "Peeta: No related adjectives. \n",
      "\n",
      "Haymitch Abernathy: No related adjectives. \n",
      "\n",
      "Haymitch: No related adjectives. \n",
      "\n",
      "Rue: No related adjectives. \n",
      "\n",
      "Snow: No related adjectives. \n",
      "\n",
      "Seneca Crane: No related adjectives. \n",
      "\n",
      "Thresh: No related adjectives. \n",
      "\n",
      "Cato: No related adjectives. \n",
      "\n",
      "Crane: No related adjectives. \n",
      "\n"
     ]
    }
   ],
   "source": [
    "# Extract adjectives related to each character in the movie's summary\n",
    "\n",
    "adjectives = []\n",
    "for character in characters_names_unique:\n",
    "    for token in doc: \n",
    "        if token.pos_ == \"ADJ\" and token.head.text == character:\n",
    "            adjectives.append(token.text)\n",
    "   \n",
    "        if len(adjectives) == 0 :\n",
    "            characters_adjectives[character] = ['No related adjectives.']\n",
    "        else:\n",
    "            characters_adjectives[character] = adjectives\n",
    "    \n",
    "    adjectives = []\n",
    "\n",
    "    \n",
    "# Print the results\n",
    "\n",
    "print(\"THE CHARACTERS AND THEIR RELATED ADJECTIVES: \\n\")\n",
    "for character_name, adjectives in characters_adjectives.items():\n",
    "    print(f\"{character_name}: {', '.join(adjectives)} \\n\")"
   ]
  },
  {
   "cell_type": "code",
   "execution_count": 27,
   "metadata": {},
   "outputs": [
    {
     "name": "stdout",
     "output_type": "stream",
     "text": [
      "THE CHARACTERS AND THEIR RELATED VERBS: \n",
      "\n",
      "Katniss: take, gave, starving, taken, accompanied, reveals, televised, begin, killed, survives, ignoring, run, tempting, strewn, called, find, corner, drops, warned, run, cares, recovers, has, draw, destroys, setting, planted, runs, hears, calling, throws, dodges, causing, stab, shoots, presented, crossed, convince, make, avoid, inciting, hearing, finds, promises, go, falls, heads, kills, overhearing, killing, spares, kill, force, flee, encounter, wounds, hurls, shoots, spare, prolonged, allowing, revoked, tells, shoot, warns, made \n",
      "\n",
      "Peeta Mellark: No related verbs. \n",
      "\n",
      "baker: gave, starving \n",
      "\n",
      "Peeta: gave, starving, taken, accompanied, reveals, discovers, meant, said, forms, warned, run, presented, crossed, convince, make, avoid, inciting, hearing, finds, begs, risk, getting, works, keeping, dies, eating, stole, knew, kill, force, flee, encounter, wounds, hurls, allowing, revoked, tells, shoot, locked, considers \n",
      "\n",
      "Haymitch Abernathy: No related verbs. \n",
      "\n",
      "Haymitch: taken, accompanied, televised, begin, killed, survives, ignoring, run, tempting, strewn, called, presented, crossed, convince, make, avoid, inciting, warns, made \n",
      "\n",
      "Rue: Rue, hiding, draws, hanging, cares, recovers, has, draw, destroys, setting, planted, runs, hears, calling, finds, trapped, releases, throws, dodges, causing, stab, comforts, dying, gathers, arranges, televised, sparks, kills, overhearing, killing, spares \n",
      "\n",
      "Snow: express, turning, locked, considers \n",
      "\n",
      "Seneca Crane: No related verbs. \n",
      "\n",
      "Thresh: kills, overhearing, killing, kill, force, flee, encounter \n",
      "\n",
      "Cato: kills, assigned, guard, kill, force, flee, encounter, wounds, hurls, shoots, spare, prolonged \n",
      "\n",
      "Crane: express, turning, presented, crossed, convince, make, avoid, inciting, changes, unleashes, speed, locked, considers \n",
      "\n"
     ]
    }
   ],
   "source": [
    "# Extract verbs related to each character in the movie's summary\n",
    "\n",
    "verbs = []\n",
    "for character in characters_names_unique:\n",
    "    for sentence in doc.sents:\n",
    "        for token in sentence: \n",
    "            if token.pos_ == \"VERB\" and character in [word.text for word in sentence]:\n",
    "                verbs.append(token.text)\n",
    "            if len(verbs) == 0:\n",
    "                characters_verbs[character] = ['No related verbs.']\n",
    "            else:\n",
    "                characters_verbs[character] = verbs\n",
    "    verbs = []\n",
    "\n",
    "\n",
    "# Print the results\n",
    "\n",
    "print(\"THE CHARACTERS AND THEIR RELATED VERBS: \\n\")\n",
    "for character_name, verbs in characters_verbs.items():\n",
    "    print(f\"{character_name}: {', '.join(verbs)} \\n\")"
   ]
  },
  {
   "cell_type": "markdown",
   "metadata": {},
   "source": [
    "**3.5) Presence of outlier characteristics**\n",
    "\n",
    "We need to analyze each of the important characteristics for us to see if there are other values apart from NaN's that we cannot use for our data analysis. Ex: \"German Language\" in column \"Country\".\n",
    "The important characteristics are:\n",
    "- Actor DOB\n",
    "- Actor Gender\n",
    "- Actor Height\n",
    "- Actor Ethnicity\n",
    "- Actor Age at movie release\n",
    "- Movie Release Date\n",
    "- Movie Box Office Revenue\n",
    "- Movie Languages\n",
    "- Movie Countries\n",
    "- Movie Genres"
   ]
  },
  {
   "cell_type": "markdown",
   "metadata": {},
   "source": [
    "**3.5.1) Outlier Characteristics of Actor DOB**"
   ]
  },
  {
   "cell_type": "code",
   "execution_count": 28,
   "metadata": {},
   "outputs": [
    {
     "name": "stdout",
     "output_type": "stream",
     "text": [
      "['1972', '1955-12', '1931-12', '1920-03', '1960-06', '1945-04', '1882-08', '1961', '1955-01', '1940-10', '1962-05', '1951-04', '1979-04', '1979', '1906', '1994-06', '1894-10', '1958-12', '1914', '1889', '1874', '1929-12', '2002-02', '1901', '1964-10', '1922-09', '2000-08', '1903', '1858', '1935-05', '1936', '1952-10', '1974-01', '2000', '1866-06', '0183', '1918', '1954', '1997', '1985', '1888', '1926-08', '1978', '1854', '1951', '1959-04', '1968-04', '2004', '1881-06', '1976-12', '1943-06', '1890', '1951-02', '1999-05', '2005', '1965-09', '1936-10', '1966-09', '1956', '1849', '1989', '1940-01', '1930', '1982-03', '1968-08', '1913', '1947-10', '1891', '1968-12', '1943-10', '1968-10', '1965-08', '1949', '1895', '1971', '1974-07', '1862', '1884', '1998-12', '1939-02', '1947', '1986', '1965', '1968', '1922', '1961-10', '1998-09', '1924', '1897-06', '1860', '1980', '1892', '1963', '1959-03', '1979-10', '1938-01', '1964-11', '1853', '1939', '1882', '1990-06', '1916', '1986-10', '1966-06', '1952-08', '1907', '1889-02', '1974', '1958-06', '1982-06', '1980-12', '1931-02', '1982-05', '1852', '1945-09', '1951-08', '1977', '1966-05', '1855-05', '1909', '1928', '1888-12', '1995-02', '1998-01', '1869-05', '1876', '1990-08', '2002-09', '2006-11', '1987', '1953', '1846', '1899', '1969-04', '1900-07', '1967-11', '1887-10', '2002', '1887', '1932', '1968-05', '1977-06', '1961-09', '1988-01', '1804', '1980-09', '1936-09', '1845', '1893-11', '1946-12', '1971-11', '1962-08', '1981', '1952', '1935-09', '1915', '1862-06', '1881', '1865-04', '1974-04', '1873', '1919-12', '1977-02', '1993-07', '1876-09', '1902', '1957-12', '1978-01', '1977-05', '1857', '1934', '1925-05', '1921', '1927', '1999', '1919', '1982-12', '1943-03', '1985-08', '1924-06', '1953-10', '1869', '1959-06', '1943', '1876-02', '1966', '1886', '1866', '1961-01', '1965-11', '1865', '1941', '1959', '1953-04', '1969-08', '1919-01', '1995-04', '1885', '1961-08', '1980-10', '1851-10', '1904', '1966-10', '1893', '1864-10', '1908', '1967', '1957-04', '1982-11', '1986-06', '1959-12', '1967-07', '1995', '1997-07', '1880', '1981-05', '1933-08', '1972-08', '1990', '1995-12', '1946-10', '1877', '1929', '1973-07', '1996-10', '1973-09', '1979-11', '2006', '1923', '1993-01', nan, '1964', '1896-07', '1899-11', '1864', '1883', '1945-01', '1971-05', '1977-10', '1891-02', '1925-10', '1999-02', '1966-04', '1962-02', '1971-10', '1925', '1932-11', '1975-02', '1917-03', '1984-12', '1958-09', '1960-03', '1870', '1837', '1957', '1948', '1988-07', '1938-02', '1951-01', '1982', '1879', '1983', '1909-04', '1998', '2050', '1984-05', '1931-08', '1945-05', '1952-06', '1954-01', '2002-11', '1931', '1879-09', '1987-05', '1985-01', '1926', '1938', '1861', '1982-08', '2003-08', '1990-09', '1978-12', '1878', '1859-05', '1894', '1947-06', '1955-08', '1978-11', '1993', '1960-05', '1997-12', '1971-04', '1971-02', '1974-10', '1984', '1905', '1872', '1988', '1977-07', '1964-03', '1969-03', '1934-11', '1897', '1910', '1957-08', '2002-08', '1940', '1871', '1955', '1945-06', '1991', '1973-12', '1966-12', '1980-07', '1937', '1900', '1967-02', '1920', '1898', '1996', '1945', '1975', '1957-01', '1970-05', '1917', '1978-05', '1946', '2001-02', '1977-12', '1981-01', '1873-03', '1965-01', '1976-09', '1940-02', '1966-07', '1889-06', '1958', '1979-05', '1970-07', '1950-12', '1942', '1969', '1981-12', '1911', '1963-10', '1498', '1966-03', '1988-04', '1984-01', '1963-02', '1977-11', '2001-12', '1973', '1996-03', '1933', '1856', '1900-04', '1994-11', '1879-02', '1993-08', '1970', '1914-12', '1942-12', '1995-11', '1962', '1991-05', '2001', '1994', '1956-10', '1870-01', '1977-04', '1891-04', '1942-01', '1856-05', '1875', '1851', '1988-03', '1958-05', '1985-06', '1950', '1970-12', '1992', '1868', '1859', '1975-09', '1964-05', '1960', '2002-07', '1976', '1944', '1935', '1867', '1896', '1908-07', '1912', '1978-03']\n",
      "['1498', '0183', '1498', '2050']\n"
     ]
    }
   ],
   "source": [
    "# Testing for outliers contained in the \"actor_birth_date\" column\n",
    "\n",
    "from datetime import datetime\n",
    "import re\n",
    "\n",
    "outlier_dates = [date for date in characters['actor_birth_date'] if not re.match(r'\\d{4}-\\d{2}-\\d{2}', str(date))]\n",
    "outlier_dates_unique = list(set(outlier_dates))\n",
    "\n",
    "print(outlier_dates_unique)\n",
    "\n",
    "\n",
    "# Check for dates out of our timerange\n",
    "\n",
    "impossible_dates = []\n",
    "\n",
    "for date in outlier_dates:\n",
    "    if isinstance(date, str): # Don't take into consideration nan's\n",
    "        year_string = date.split('-')[0] # Extract the 'year' from the date\n",
    "        if (int(year_string) > 2016 or int(year_string) < 1800):  \n",
    "            impossible_dates.append(date)\n",
    "\n",
    "        \n",
    "print(impossible_dates)"
   ]
  },
  {
   "cell_type": "markdown",
   "metadata": {},
   "source": [
    "Important observations of the column 'actor_birth_date':\n",
    "- Contains NaN's\n",
    "- Contains dates of different detail:\n",
    "    - YYYY-MM-DD\n",
    "    - YYYY-MM\n",
    "    - YYYY\n",
    "- Contains invalid dates (ex: '2050', which would be an actor born after the year our dataset was collected in or '1498' where the actor would certainly already be dead when the movie is produced)"
   ]
  },
  {
   "cell_type": "markdown",
   "metadata": {},
   "source": [
    "**3.5.2) Outlier Characteristics of Actor Gender**"
   ]
  },
  {
   "cell_type": "code",
   "execution_count": 29,
   "metadata": {
    "tags": []
   },
   "outputs": [
    {
     "name": "stdout",
     "output_type": "stream",
     "text": [
      "[nan]\n"
     ]
    }
   ],
   "source": [
    "# Testing for outliers contained in the \"actor_gender\" column\n",
    "\n",
    "outlier_gender = [gender for gender in characters['actor_gender'] if gender not in ('F', 'M')]\n",
    "outlier_gender_unique = list(set(outlier_gender))\n",
    "\n",
    "print(outlier_gender_unique)\n"
   ]
  },
  {
   "cell_type": "markdown",
   "metadata": {},
   "source": [
    "Important observations of the column 'actor_gender':\n",
    "- Contains NaN's\n",
    "- Contains no invalid genders (ex: 'J' or '3')"
   ]
  },
  {
   "cell_type": "markdown",
   "metadata": {},
   "source": [
    "**3.5.3) Outlier Characteristics of Actor Height**"
   ]
  },
  {
   "cell_type": "code",
   "execution_count": 30,
   "metadata": {
    "tags": []
   },
   "outputs": [
    {
     "name": "stdout",
     "output_type": "stream",
     "text": [
      "[]\n",
      "[0.813, 0.88, 180.0, 0.88, 0.83, 510.0, 180.0, 0.813, 0.813, 0.88, 0.88, 1.0, 510.0, 0.813, 0.94, 0.813, 0.813, 0.88, 0.88, 0.813, 1.0, 510.0, 0.813, 180.0, 1.0, 0.813, 1.0, 1.0, 0.83, 510.0, 510.0, 1.0, 1.0, 510.0, 0.813, 0.813, 180.0, 1.0, 510.0, 0.88, 510.0, 1.0, 510.0, 0.813, 510.0, 510.0, 0.813, 0.88, 0.61, 0.61, 0.88]\n"
     ]
    }
   ],
   "source": [
    "# Testing for outliers contained in the \"actor_height\" column\n",
    "\n",
    "outliers_height = [height for height in characters['actor_height'] if type(height) != float]\n",
    "outliers_height_unique = list(set(outliers_height))\n",
    "print(outliers_height_unique)\n",
    "\n",
    "\n",
    "# Testing for actor_heights that are out of range (smaller than 1m or bigger than 3m)\n",
    "\n",
    "impossible_height = [height for height in characters['actor_height'] if (height >= 3 or height <= 1)]\n",
    "print(impossible_height)"
   ]
  },
  {
   "cell_type": "markdown",
   "metadata": {},
   "source": [
    "Important observations of the column 'actor_height':\n",
    "- Contains NaN's (NaN's are recognized as floats here, are present)\n",
    "- Apart from Nan's there are no non-float values\n",
    "- Column does contain some improbable heights of actors that are either too big or too small to be possible (<1m or >3m)"
   ]
  },
  {
   "cell_type": "markdown",
   "metadata": {},
   "source": [
    "**3.5.4) Outlier Characteristics of Actor Ethnicity**"
   ]
  },
  {
   "cell_type": "code",
   "execution_count": 31,
   "metadata": {
    "tags": []
   },
   "outputs": [],
   "source": [
    "# Testing for outliers contained in the 'actor_ethnicity_freebase_id' column\n",
    "\n",
    "# --> To be able to do this we will have to merge datasets??"
   ]
  },
  {
   "cell_type": "markdown",
   "metadata": {},
   "source": [
    "**3.5.5) Outlier Characteristics of Actor Age at Movie Release**"
   ]
  },
  {
   "cell_type": "code",
   "execution_count": 32,
   "metadata": {
    "tags": []
   },
   "outputs": [
    {
     "name": "stdout",
     "output_type": "stream",
     "text": [
      "[]\n",
      "[-29.0, -12.0, -18.0, -48.0, -17.0, -12.0, -26.0, -12.0, -10.0, -12.0, -5.0, -25.0, -14.0, -5.0, -29.0, -7.0, -21.0, -13.0, -1.0, -2.0, -18.0, -2.0, -4.0, -4.0, -12.0, -9.0, -3.0, -1.0, -15.0, -65.0, -28.0, -6.0, -14.0, -12.0, -3.0, -28.0, -38.0, -26.0, -50.0, -16.0, -32.0, -31.0, -3.0, -24.0, -28.0, -27.0, -9.0, -25.0, -7.0, -8.0, -2.0, -43.0, -31.0, -28.0, -8.0, -10.0, -42.0, -22.0, -18.0, -10.0, -29.0, -14.0, -9.0, -16.0, -14.0, -27.0, -1.0, -18.0, -3.0, -15.0, -23.0, -8.0, -2.0, -11.0, -63.0, -3.0, -1.0, -8.0, -2.0, -53.0, -25.0, -7.0, -3.0, -5.0, -17.0, -5.0, -7.0, -5.0, -7.0, -4.0, -8.0, -25.0, -6.0, -13.0, -1.0, -3.0, -20.0, -2.0, -3.0, -17.0, -35.0, -16.0, -1.0, -39.0, -42.0, -3.0, -35.0, -2.0, -29.0, -34.0, -13.0, -34.0, -13.0, -18.0, -10.0, -2.0, -7.0, -2.0, -10.0, -13.0, -44.0, -12.0, -10.0, -14.0, -44.0, -13.0, -36.0, -3.0, -19.0, -7.0, -17.0, -10.0, -12.0, -10.0, -24.0, -16.0, -2.0, -4.0, -11.0, -15.0, -17.0, -24.0, -10.0, -1.0, -3.0, -4.0, -14.0, -11.0, -37.0, -27.0, -18.0, -4.0, -25.0, -35.0, -1.0, -4.0, -13.0, -25.0, -31.0, -20.0, -33.0, -15.0, -2.0, -31.0, -14.0, -6.0, -7.0, -25.0, -1.0, -6.0, -4.0, -7.0, -2.0, -39.0, -48.0, -1.0, -21.0, -9.0, -9.0, -9.0, -3.0, -14.0, -5.0, -1.0, -1.0, -4.0, -4.0, -20.0, -9.0, -6.0, -47.0, -4.0, -16.0, -12.0, -4.0, -2.0, -8.0, -6.0, -20.0, -26.0, -2.0, -14.0, -11.0, -9.0, -5.0, -17.0, -30.0, -51.0, -2.0, -2.0, -5.0, -18.0, -5.0, -27.0, -18.0, -2.0, -1.0, -30.0, -10.0, -7.0, -4.0, -12.0, -9.0, -5.0, -5.0, -11.0, -23.0, -11.0, -13.0, -20.0, -16.0, -33.0, -76.0, -10.0, -5.0, -969.0, -17.0, -9.0, -33.0, -10.0, -5.0, -4.0, -25.0, -10.0, -3.0, -16.0, -35.0, -1.0, -5.0, -34.0, -7896.0, -18.0, -4.0, -15.0, -16.0, -17.0, -24.0, -8.0, -3.0, -20.0, -8.0, -25.0, -2.0, -26.0, -5.0, -10.0, -11.0, -29.0, -5.0, -27.0, -37.0, -4.0, -12.0, -17.0, -16.0, -12.0, -20.0, -2.0, -8.0, -10.0, -6.0, -25.0, -3.0, -38.0, -5.0, -4.0, -14.0, -7.0, -11.0, -15.0, -16.0, -4.0, -33.0, -22.0, -22.0, -25.0, -12.0, -5.0, -11.0, -13.0, -13.0, -9.0, -18.0, -26.0, -26.0, -27.0, -28.0, -2.0, -36.0, -13.0, -23.0, -16.0, -18.0, -2.0, -12.0, -5.0, -81.0, -11.0, -14.0, -19.0, -19.0, -5.0, -5.0, -13.0, -10.0, -23.0, -24.0, -12.0, -9.0, -31.0, -16.0, -7.0, -7.0, -17.0, -9.0, -12.0, -11.0, -57.0, -8.0, -20.0, -15.0, -9.0, -2.0, -4.0, -6.0, -9.0, -10.0, -33.0, -11.0, -1.0, -32.0, -7.0, -11.0, -3.0, -4.0, -21.0, -26.0, -2.0, -3.0, -4.0, -15.0, -8.0, -24.0, -17.0, -31.0, -2.0, -10.0, -15.0, -2.0, -12.0, -25.0, -38.0, -9.0, -1.0, -4.0, -17.0, -937.0, -12.0, -3.0, -15.0, -9.0]\n"
     ]
    }
   ],
   "source": [
    "# Testing for outliers contained in the 'actor_age_movie_release' column\n",
    "\n",
    "outliers_age_release = [age_release for age_release in characters['actor_age_movie_release'] if type(age_release) != float]\n",
    "outliers_age_release_unique = list(set(outliers_age_release))\n",
    "print(outliers_age_release_unique)\n",
    "\n",
    "\n",
    "# Testing for actor_age_movie_release that are out of range (<0)\n",
    "\n",
    "impossible_age_release = [age_release for age_release in characters['actor_age_movie_release'] if (age_release < 0)]\n",
    "print(impossible_age_release)"
   ]
  },
  {
   "cell_type": "markdown",
   "metadata": {},
   "source": [
    "Important observations for the column 'actor_age_movie_release':\n",
    "- Contains NaN's (NaN's are recognized as floats here, are present)\n",
    "- Apart from Nan's there are no non-float values\n",
    "- Column does contain some impossible ages of actors at movie release (such as <0)"
   ]
  },
  {
   "cell_type": "markdown",
   "metadata": {},
   "source": [
    "**3.3.6) Outlier Characteristics of Movie Release Dates**"
   ]
  },
  {
   "cell_type": "code",
   "execution_count": 33,
   "metadata": {
    "tags": []
   },
   "outputs": [
    {
     "name": "stdout",
     "output_type": "stream",
     "text": [
      "['1972', '1989-01', '2001-05', '1955-12', '1989-03', '1949-11', '2007-07', '2000-04', '1924-09', '1960-04', '1932-07', '1931-12', '1960-06', '1920-03', '1956-08', '1945-04', '1923-02', '2007', '1914-05', '1954-11', '1961', '1987-03', '2000-06', '1940-10', '1962-05', '1955-01', '1983-07', '1937-08', '1941-06', '1922-12', '1984-02', '1946-04', '1948-03', '1994-02', '1951-04', '1918-11', '1940-05', '1988-06', '2013', '1979-04', '1948-08', '1979', '2007-05', '1900-11', '1985-03', '1984-09', '2007-10', '1920-10', '2002-05', '1973-06', '1982-04', '2015', '1962-04', '2010-03', '2009-07', '1915-08', '1994-09', '1999-11', '1953-03', '1987-09', '1987-12', '1958-12', '1973-04', '2011-05', '1962-09', '1995-08', '1999-03', '1920-02', '1942-08', '1914', '1950-03', '2010-05', '1932-05', '1903-05', '1917-06', '1972-06', '1986-09', '1994-06', '1979-01', '1951-03', '2010-01', '1976-05', '1936-07', '2009-01', '2002-02', '1976-02', '1953-07', '1934-06', '1901', '2003-04', '1989-05', '1956-01', '1922-09', '2000-08', '1958-08', '1964-09', '1903', '1935-05', '1996-09', '1982-02', '1936', '1962-06', '2009-06', '1952-10', '1977-08', '1998-10', '2000', '2002-01', '1998-06', '1918', '1959-11', '1974-01', '1954', '1996-08', '1997', '1985', '1959-08', '1955-06', '1950-05', '1888', '1967-01', '1955-09', '1912-04', '1917-10', '2005-12', '1948-06', '1978', '1996-02', '1944-12', '1951', '1915-02', '1981-10', '1991-02', '1934-12', '1992-02', '1959-04', '2009-03', '1958-11', '1968-04', '1947-09', '2004', '1948-04', '1980-06', '2008-10', '1918-06', '1976-12', '1964-08', '1979-12', '1949-09', '1980-03', '1939-04', '1963-11', '2005-07', '1951-02', '1995-10', '1973-10', '1949-12', '1999-05', '2005', '1933-12', '1927-07', '1991-04', '2000-09', '1965-09', '2006-02', '1985-04', '1987-07', '1983-02', '1922-11', '1936-10', '1966-09', '1956', '1933-11', '2011-08', '1966-01', '1989', '2003-03', '2005-02', '2005-10', '1985-05', '1940-01', '1934-10', '1963-06', '1930', '1919-05', '1982-03', '1913', '1957-02', '1978-06', '1978-10', '1921-02', '1891', '1968-12', '1943-10', '2012-12', '1922-10', '1967-04', '1968-10', '1921-06', '1995-05', '1997-05', '1927-03', '1965-08', '1898-07', '1922-04', '1949', '2003-10', '2014-07', '1962-03', '1974-09', '1990-02', '1925-09', '1971', '1952-11', '1939-12', '1974-07', '2012', '1991-06', '1998-05', '1976-01', '1993-09', '1991-01', '1955-03', '1951-07', '1963-09', '1997-01', '1994-03', '1996-05', '2005-06', '1962-11', '1947', '1986', '1996-06', '1956-07', '1965', '1960-02', '2004-01', '1968', '1959-01', '1998-04', '1993-11', '1923-07', '1922', '1961-10', '1953-12', '1942-05', '1980-02', '1998-09', '1950-08', '1980-11', '2007-12', '1971-03', '1924', '1915-11', '1989-02', '1980', '1922-02', '1919-08', '1911-04', '1924-03', '1963', '1959-03', '2012-08', '1979-10', '1961-07', '1979-08', '1938-01', '1999-10', '2009-08', '1939', '1930-02', '1960-01', '1937-01', '1923-11', '1976-11', '2007-09', '1916', '2011-06', '1938-12', '2012-01', '1986-10', '2004-06', '1986-01', '1916-07', '1966-06', '1988-12', '1970-01', '1942-06', '1907', '1985-10', '1918-12', '1968-06', '1974', '2008-03', '1967-08', '1958-06', '1917-09', '1963-12', '1996-12', '2012-07', '1986-07', '1961-03', '1982-06', '1980-12', '1931-02', '1918-08', '1963-05', '1973-01', '2002-04', '2001-04', '1982-05', '1999-01', '2008-05', '1938-03', '1951-08', '1952-05', '1977', '1966-05', '1945-09', '2006-05', '1972-01', '1949-05', '1913-12', '1949-04', '1999-06', '2010-02', '1936-03', '1928-07', '1983-06', '1928-03', '2006-08', '2011-02', '2004-10', '1935-02', '1975-05', '1941-10', '1990-03', '1909', '1928', '1951-11', '1978-08', '1944-10', '2010-12', '1991-08', '1952-09', '1993-12', '1995-02', '1981-08', '1998-01', '1921-05', '1957-10', '1943-12', '1990-11', '1916-10', '2008-07', '1923-10', '1936-04', '2009-09', '1986-08', '1922-05', '1995-01', '2001-09', '1957-09', '1990-08', '1964-02', '2006-11', '1984-08', '1937-11', '1987', '1955-05', '1953', '1899', '1969-04', '1937-02', '2010-04', '1900-07', '1967-11', '2007-01', '1998-08', '1950-07', '1995-06', '2006-03', '2002', '1968-05', '1932', '1977-06', '1961-09', '1923-08', '2004-07', '1927-08', '1985-02', '2010-07', '1988-01', '1931-04', '1928-10', '1980-09', '1961-11', '2009', '1983-03', '1936-09', '1950-01', '1936-06', '1921-08', '1962-07', '1923-06', '1949-03', '2012-10', '1936-12', '1984-06', '2009-05', '1935-03', '2005-08', '1901-08', '1959-07', '1930-03', '1921-10', '1967-10', '1946-12', '1967-03', '1970-03', '1962-08', '1971-11', '2012-05', '2002-03', '1972-09', '1981', '1952', '1944-11', '2011-03', '1935-09', '2003-12', '1997-03', '1915', '1990-04', '1991-10', '1988-02', '2004-12', '1975-03', '1998-11', '1993-10', '1943-04', '1937-04', '1954-06', '1989-04', '1924-02', '1996-11', '1920-11', '1974-04', '1955-02', '1921-04', '1952-07', '1919-12', '2005-11', '1975-04', '2003-11', '1977-02', '1975-12', '1983-12', '2007-03', '1933-06', '1931-10', '1957-12', '1977-05', '1926-04', '2009-10', '1949-07', '2012-06', '1987-02', '1981-09', '1934', '1960-09', '1992-03', '2001-10', '1921', '2001-07', '1937-07', '1927', '1999', '1919', '1947-05', '1920-09', '1943-03', '1985-08', '1924-06', '1918-05', '1915-09', '2008-12', '1953-10', '1938-08', '1903-01', '1918-04', '1929-04', '1996-01', '1932-08', '1959-06', '1943', '1966', '2010-11', '1993-02', '1976-10', '1939-01', '2013-01', '1970-06', '1961-01', '1919-10', '1965-11', '1983-10', '1933-04', '1918-02', '1941', '1935-12', '1959', '2000-02', '1960-11', '1953-04', '1969-08', '1910-01', '1983-05', '1995-04', '1919-01', '2004-05', '1961-08', '2009-11', '1990-10', '1980-10', '1975-10', '1970-10', '2008-11', '1984-07', '1944-08', '1965-04', '1924-10', '1934-08', '1966-10', '2011-12', '1934-07', '1981-07', '1893', '1967-09', '2001-01', '1926-10', '1994-05', '1908', '1953-11', '1972-05', '1967', '1962-01', '1973-05', '2008-02', '1919-02', '1985-11', '1957-04', '2001-08', '1982-11', '1986-06', '1982-10', '1953-06', '1922-03', '1959-12', '1951-09', '2000-05', '1969-02', '1967-07', '2011-04', '1957-11', '1971-06', '1977-09', '1953-08', '1995', '2007-08', '1944-06', '1997-07', '1952-04', '1998-03', '1916-04', '1969-07', '1927-10', '1981-05', '1961-02', '1943-08', '1925-08', '2012-04', '2011', '1972-08', '1950-10', '1921-12', '1986-12', '2004-11', '1990', '1954-10', '1988-09', '1917-08', '1968-09', '1944-04', '1995-12', '1994-01', '1992-09', '1914-03', '1922-06', '1990-01', '1929', '2007-02', '1986-03', '1913-09', '1918-03', '1970-02', '1978-04', '1937-10', '1915-03', '1976-04', '1987-10', '1966-02', '1970-08', '1938-10', '1973-07', '2014', '1949-02', '1973-09', '2006-12', '1997-09', '1921-07', '1989-10', '1967-05', '1992-06', '1996-10', '1969-05', '1979-11', '2006', '1997-04', '1929-05', '1996-07', '1957-05', '1923', '1915-06', '1999-12', '1987-08', '1957-03', '1939-07', '1993-01', '2010', '2010-08', '1913-11', nan, '1997-11', '1935-04', '1963-08', '1998-07', '1972-04', '2000-10', '1964', '2009-02', '1956-02', '2006-10', '2008-09', '1946-09', '1971-05', '1972-12', '1945-01', '1992-05', '1977-10', '1937-12', '1969-10', '2002-10', '1988-05', '1929-09', '1917-12', '1959-05', '1999-02', '1962-02', '1966-04', '1958-07', '1919-06', '1933-07', '1919-09', '1925', '1995-07', '1975-02', '2003-06', '1917-03', '1984-12', '1969-06', '1960-08', '1928-12', '2008', '1934-09', '1958-09', '1955-04', '2008-08', '1953-01', '1981-03', '1960-03', '1942-09', '1976-08', '1980-08', '1968-01', '1948-12', '1957', '1977-01', '1970-09', '1948-01', '1983-09', '1942-07', '1948', '1951-12', '1988-07', '1952-02', '1938-02', '1986-05', '1948-11', '1980-05', '1951-01', '1982', '1920-05', '2003-01', '1999-07', '1963-03', '1974-03', '2009-04', '1987-04', '1935-11', '1918-01', '2009-12', '1983', '2001-11', '1998', '1919-07', '1984-05', '1934-05', '1948-05', '1953-02', '1941-12', '2010-06', '1957-07', '2004-08', '1896-09', '1987-11', '1954-01', '1997-10', '1974-08', '1932-02', '1931', '2002-11', '1929-02', '1970-11', '1987-05', '1976-03', '1991-03', '1985-01', '1951-10', '1958-02', '1935-01', '1929-06', '1926', '1956-09', '1938', '1965-03', '1923-01', '1945-12', '1918-10', '1994-10', '1947-03', '1917-07', '1960-07', '1946-01', '2003-08', '1938-06', '1971-07', '1938-07', '1956-05', '1950-04', '1968-11', '1969-09', '1937-06', '1939-03', '1990-09', '1995-09', '1930-11', '1942-03', '1978-12', '1974-11', '1932-03', '1942-02', '1993-06', '1975-07', '1964-06', '1921-09', '1981-04', '2006-01', '1975-01', '1894', '1984-04', '1933-03', '1941-11', '1955-08', '2005-09', '1978-11', '1950-02', '1978-09', '1999-09', '1993', '1958-04', '1960-05', '1971-04', '1978-02', '1997-12', '1971-02', '1974-10', '1984', '1999-04', '1905', '1916-01', '1915-04', '1916-03', '1963-01', '1997-02', '1917-01', '1929-03', '1961-06', '1914-07', '1988', '1977-07', '2000-07', '1935-07', '1969-03', '1919-03', '1934-11', '1988-10', '1897', '1954-07', '1910', '1944-02', '2002-08', '1957-08', '1940', '1979-07', '1954-12', '2004-02', '1984-10', '1955-11', '1974-06', '1926-09', '2006-09', '1955', '1934-04', '1956-11', '1991', '2007-11', '1973-12', '1932-09', '1979-09', '1962-10', '1971-09', '1966-12', '2007-04', '1973-03', '1980-07', '1979-06', '1929-01', '1956-04', '2006-04', '2007-06', '1937', '1930-08', '1900', '1927-04', '1923-03', '1991-12', '1915-01', '1991-11', '1955-07', '1920', '2011-09', '1921-01', '1917-05', '1898', '1991-09', '1996', '1966-08', '1945', '2005-03', '1975', '1957-01', '2008-06', '1917', '1978-05', '1970-05', '1936-05', '1946', '1977-12', '2001-02', '1958-10', '1970-04', '1989-12', '2010-09', '1917-02', '1981-01', '1987-01', '1994-08', '1984-11', '1971-12', '1961-05', '1992-11', '1997-08', '1974-05', '2006-07', '1954-02', '1976-07', '1954-09', '1961-12', '2006-06', '1976-09', '1916-02', '1935-06', '1966-07', '1984-03', '1958-03', '2012-02', '1930-12', '1952-12', '1936-11', '1965-06', '1992-01', '1958', '1986-02', '1971-01', '1965-12', '1979-05', '1972-10', '1970-07', '2012-09', '1942', '1969', '1911', '1925-11', '1975-08', '1985-12', '1934-01', '1963-10', '2011-01', '1975-06', '1920-01', '1966-03', '2013-05', '1990-05', '1956-03', '1984-01', '1937-05', '1923-05', '1945-10', '2001-12', '1977-11', '1963-02', '1920-07', '1973', '1996-03', '1933', '1992-04', '1936-02', '1952-01', '1917-04', '1948-09', '1944-07', '1922-07', '1932-12', '1982-09', '2005-05', '1929-10', '1977-03', '1981-02', '1921-11', '1985-09', '2008-04', '1993-08', '1949-10', '1970', '1923-12', '1956-12', '2005-04', '1914-12', '1942-12', '1959-10', '1960-12', '1962', '2003', '1991-05', '1993-05', '2001', '1972-03', '2004-04', '1994', '2012-11', '1956-10', '1964-12', '1980-04', '1956-06', '1979-02', '1964-04', '1932-06', '1947-07', '1934-03', '1942-04', '1957-06', '1936-01', '1974-02', '1965-05', '1954-05', '1937-03', '1916-08', '1932-04', '1959-02', '1983-01', '2008-01', '1958-01', '1969-12', '1937-09', '1986-11', '1988-03', '1958-05', '1950', '2010-10', '2011-10', '1933-01', '1989-09', '1964-01', '1967-06', '1931-01', '1976-06', '1970-12', '1997-06', '2003-07', '2011-07', '1992', '1980-01', '1947-12', '1938-09', '2000-12', '1975-09', '1944-09', '1964-05', '1960', '2002-07', '1972-11', '1928-09', '1976', '1914-04', '1944', '2003-09', '1935', '1963-07', '1995-03', '1972-07', '1896', '2004-03', '2005-01', '1912', '1973-11']\n",
      "[]\n"
     ]
    }
   ],
   "source": [
    "# Testing for outliers contained in the \"movie_release_date\" column\n",
    "\n",
    "outlier_release_dates = [date for date in characters['movie_release_date'] if not re.match(r'\\d{4}-\\d{2}-\\d{2}', str(date))]\n",
    "outlier_release_dates_unique = list(set(outlier_release_dates))\n",
    "\n",
    "print(outlier_release_dates_unique)\n",
    "\n",
    "\n",
    "# Check for dates out of our timerange\n",
    "\n",
    "impossible_release_dates = []\n",
    "\n",
    "for date in outlier_release_dates:\n",
    "    if isinstance(date, str): # Don't take into consideration nan's\n",
    "        year_string = date.split('-')[0] # Extract the 'year' from the date\n",
    "        if (int(year_string) < 1800 or int(year_string) > 2023):  \n",
    "            impossible_dates.append(date)\n",
    "\n",
    "        \n",
    "print(impossible_release_dates)"
   ]
  },
  {
   "cell_type": "markdown",
   "metadata": {},
   "source": [
    "Important observations of the column 'movie_release_date':\n",
    "- Contains NaN's\n",
    "- Contains dates of different detail:\n",
    "    - YYYY-MM-DD\n",
    "    - YYYY-MM\n",
    "    - YYYY"
   ]
  },
  {
   "cell_type": "markdown",
   "metadata": {},
   "source": [
    "**3.3.7) Outlier Characteristics of Movie Box Office Revenue**"
   ]
  },
  {
   "cell_type": "code",
   "execution_count": 34,
   "metadata": {
    "tags": []
   },
   "outputs": [
    {
     "name": "stdout",
     "output_type": "stream",
     "text": [
      "[]\n",
      "[]\n"
     ]
    }
   ],
   "source": [
    "# Testing for outliers contained in the \"box_office\" column\n",
    "\n",
    "movies.head()\n",
    "\n",
    "outliers_box_office = [box for box in movies['box_office'] if type(box) != float]\n",
    "outliers_box_office_unique = list(set(outliers_box_office))\n",
    "print(outliers_box_office_unique)\n",
    "\n",
    "\n",
    "# Testing for box office revenues that are out of range (<0)\n",
    "\n",
    "impossible_box_office = [box for box in movies['box_office'] if (box < 0)]\n",
    "print(impossible_box_office)"
   ]
  },
  {
   "cell_type": "markdown",
   "metadata": {},
   "source": [
    "Important observations of the column 'box_office':\n",
    "\n",
    "- Contains NaN's (NaN's are recognized as floats here, are present)\n",
    "- Apart from Nan's there are no non-float values\n",
    "- Column does not contain impossible (<0) box office revenues"
   ]
  },
  {
   "cell_type": "markdown",
   "metadata": {},
   "source": [
    "**3.3.8) Outlier Characteristics of Movie Languages**"
   ]
  },
  {
   "cell_type": "code",
   "execution_count": 35,
   "metadata": {
    "tags": []
   },
   "outputs": [
    {
     "name": "stdout",
     "output_type": "stream",
     "text": [
      "['Hazaragi Language', 'Burmese Language', 'Swiss German Language', 'Judeo-Georgian Language', 'Egyptian Arabic', 'Persian Language', 'Standard Mandarin', 'Maasai Language', 'Farsi, Western Language', 'Luxembourgish language', 'Cree language', 'Gaelic', 'Russian Language', 'France', 'Taiwanese', 'Dzongkha Language', 'Tibetan languages', 'Assamese Language', 'Tamang language', 'Fula language', 'Osetin Language', 'Sumerian', 'Hmong language', 'Telugu language', 'Finnish Language', 'Kriolu', 'Haryanvi Language', 'Sinhala Language', 'Guanzhong Hua', 'American English', 'Hiligaynon language', 'Nepali Language', 'Hariyani', 'Aboriginal Malay languages', 'Sami languages', 'Thai, Northeastern Language', 'Bhojpuri Language', 'Awadhi Language', 'Ukrainian Language', 'Brazilian Portuguese', 'Kinyarwanda language', 'Standard Cantonese', 'Chinese, Jinyu Language', 'South African English', 'Plautdietsch Language', 'Uzbek language', 'Shanghainese', 'Polish Language', 'Galician Language', 'Pawnee Language', 'a', 'Serbian language', 'Mandarin Chinese', 'N', 'Italian Language', 'Saami, North Language', 'Slovenian language', 'Khmer language', 'Armenian Language', 'Crow Language', 'Kannada Language', 'Aramaic language', 'Hainanese', 'Greek Language', 'Japanese Language', 'Malayalam Language', 'Sotho language', 'Teochew', 'Tulu Language', 'Indian English', 'Afrikaans Language', 'Thai Language', 'Australian English', 'Xhosa Language', 'Navajo Language', 'Cebuano language', 'Mohawk Language', 'Punjabi language', 'Indonesian Language', 'Malay Language', 'Korean Sign Language', 'Hindustani language', 'Ancient Greek', 'Gumatj Language', 'Slovak Language', 'Urdu Language', 'Vietnamese Language', 'Marathi Language', 'Napoletano-Calabrese Language', 'Dari', 'Dutch Language', 'Portuguese Language', 'Amharic Language', 'Romanian Language', 'Tagalog language', 'Flemish language', 'Hungarian language', 'Kuna language', 'Egyptian, Ancient', 'Klingon language', 'Lithuanian language', 'Filipino language', 'Bulgarian Language', 'Chewa language', 'Swedish Language', 'Māori language', 'Latin Language', 'Wolof Language', 'Sioux language', 'Icelandic Language', 'Nahuatl languages', 'Azerbaijani language', 'Min Nan', 'Scanian Language', 'English Language', 'Krio Language', 'Chhattisgarhi Language', 'Hokkien', 'Kurdish language', 'Cantonese', 'Chadian Arabic', 'Venetian Language', 'Korean Language', 'Swahili Language', 'Chechen Language', 'Maninka language', 'Deutsch', 'Turkish Language', 'Gujarati Language', 'Sunda Language', 'Inuktitut', 'Hebrew Language', 'Scottish Gaelic language', 'Albanian language', 'Croatian language', 'American Sign Language', 'Spanish Language', 'Tok Pisin Language', 'Yiddish Language', 'Rajasthani language', '𐐖𐐲𐑉𐑋𐑌𐐲', 'Hawaiian language', 'Silent film', 'Danish Language', 'Frisian, Western Language', 'Arabic Language', 'Georgian Language', 'Akan Language', 'Banyumasan language', 'Tzotzil language', 'Assyrian language', 'Catalan language', 'Papiamento language', 'Hinglish', 'Belarusian language', 'Estonian Language', 'Khmer, Central Language', 'Romani language', 'Macedonian Language', 'Hopi Language', 'Sicilian Language', 'Southwestern Mandarin', 'Czech Language', 'Fulfulde, Adamawa Language', 'German', 'Esperanto Language', 'Cheyenne Language', 'Hausa Language', 'Palawa kani', 'Mongolian language', 'Aceh Language', 'Mende Language', 'Hungary', 'Welsh Language', 'Italian', 'Shanxi', 'Friulian Language', 'French Sign Language', 'German Language', 'Jamaican Creole English Language', 'Apache, Western Language', 'Old English language', 'Bambara language', 'Tamil Language', 'Maya, Yucatán Language', 'Chinese, Hakka Language', 'Classical Arabic', 'Pashto language', 'Somali Language', 'Chinese language', 'Zulu Language', 'Hindi Language', 'Algonquin Language', 'Bosnian language', 'Irish', 'Standard Tibetan', 'Corsican Language', 'Bengali Language', 'Yolngu Matha', 'Serbo-Croatian', 'Japan', 'Oriya Language', 'Sanskrit Language', 'Assyrian Neo-Aramaic Language', 'Quechua', 'French Language', 'Australian Aboriginal Pidgin English', 'Norwegian Language', 'Picard Language']\n"
     ]
    }
   ],
   "source": [
    "# Testing for outliers contained in the \"lang\" column\n",
    "\n",
    "languages_list_unique = list(set(languages_list))\n",
    "print(languages_list_unique)"
   ]
  },
  {
   "cell_type": "markdown",
   "metadata": {},
   "source": [
    "Important observations of the column 'lang':\n",
    "- Some entries are not languages in the traditional sense but rather countries such as 'France', 'Hungary' and 'Japan'\n",
    "- Important to notice is that some languages may be the same but described differently for different movies (e.g. 'german' vs 'deutsch')\n",
    "- Some languages when described in their own language use a different alphabet, e.g. '𐐖𐐲𐑉𐑋𐑌𐐲'\n",
    "- When a film is a silent film this is marked by the entry 'silent film'\n",
    "- Contains invalid values such as 'a'  "
   ]
  },
  {
   "cell_type": "markdown",
   "metadata": {},
   "source": [
    "**3.3.9) Outlier Characteristics of Movie Countries**"
   ]
  },
  {
   "cell_type": "markdown",
   "metadata": {},
   "source": [
    "--> See part 3.1)"
   ]
  },
  {
   "cell_type": "markdown",
   "metadata": {},
   "source": [
    "**3.3.10) Outlier Characteristics of Movie Genres**"
   ]
  },
  {
   "cell_type": "code",
   "execution_count": 36,
   "metadata": {
    "tags": []
   },
   "outputs": [
    {
     "name": "stdout",
     "output_type": "stream",
     "text": [
      "['Dystopia', 'Psychological horror', 'Monster movie', 'Courtroom Comedy', 'Christian film', 'Historical fiction', 'Psychological thriller', 'Remake', 'Neorealism', 'Sports', 'Giallo', 'Comedy-drama', 'Sexploitation', 'Addiction Drama', \"Children's Fantasy\", 'Point of view shot', 'Archives and records', 'Fantasy Comedy', 'Glamorized Spy Film', 'Nuclear warfare', 'Werewolf fiction', 'Finance & Investing', 'Comedy film', 'Sci Fi Pictures original films', 'Spy', 'a', 'N', 'Chick flick', 'Marriage Drama', 'Animation', 'Mystery', 'Biography', 'Musical comedy', 'Time travel', 'Baseball', 'Zombie Film', 'Film-Opera', 'Chinese Movies', 'Animated cartoon', 'Family & Personal Relationships', 'Roadshow/Carny', 'Action/Adventure', 'Sci-Fi Adventure', 'Feature film', 'Star vehicle', 'Tokusatsu', 'Romantic comedy', 'Pinku eiga', 'War effort', 'Vampire movies', 'Comedy Thriller', 'Black comedy', 'Natural horror films', 'LGBT', 'Musical Drama', 'Buddy Picture', 'Beach Film', 'Cyberpunk', 'Sword and Sandal', 'Filipino Movies', 'Biopic [feature]', 'Crime Drama', 'Race movie', 'Boxing', 'Family-Oriented Adventure', 'Clay animation', 'Conspiracy fiction', 'Filipino', 'Escape Film', 'Fictional film', 'Gross-out film', 'Inspirational Drama', 'Auto racing', 'Malayalam Cinema', 'Period piece', 'Psycho-biddy', 'Private military company', 'Science fiction Western', 'Camp', 'Exploitation', 'Political thriller', 'News', 'Movie serial', 'Social problem film', 'World cinema', 'Rockumentary', 'Romantic drama', 'Gay', 'Animal Picture', 'Crime', 'Slasher', 'Epic Western', 'Crime Fiction', 'Animals', 'Northern', 'Computer Animation', 'Biker Film', 'Revisionist Western', 'Adventure Comedy', 'Epic', 'Female buddy film', 'Gangster Film', 'Comedy', 'Romance Film', 'Costume drama', 'Kafkaesque', 'Horse racing', 'Experimental film', 'Science Fiction', 'Indie', 'Chase Movie', 'Essay Film', 'Television movie', 'Parody', 'Hardcore pornography', 'British Empire Film', 'Romantic fantasy', \"Children's/Family\", 'The Netherlands in World War II', 'Neo-noir', 'Satire', 'Movies About Gladiators', 'Superhero movie', 'Screwball comedy', 'Natural disaster', 'Sword and sorcery films', 'Illnesses & Disabilities', 'Tragicomedy', 'Alien invasion', 'Cold War', \"Children's\", 'Therimin music', 'Airplanes and airports', 'Parkour in popular culture', 'Supermarionation', 'Demonic child', 'Courtroom Drama', 'Goat gland', 'Softcore Porn', 'Swashbuckler films', 'Splatter film', 'Extreme Sports', 'Live action', 'Interpersonal Relationships', 'Romantic thriller', 'Fan film', 'War film', 'Indian Western', 'Wuxia', 'Film adaptation', 'Biographical film', 'Political Documetary', 'Libraries and librarians', 'Erotic Drama', 'Stoner film', 'British New Wave', 'Gay Interest', 'Childhood Drama', 'Drama', 'Juvenile Delinquency Film', 'Sword and sorcery', 'Gender Issues', 'Art film', 'Anime', 'Patriotic film', 'Social issues', 'Historical Documentaries', 'New Hollywood', 'Western', 'Filmed Play', 'Alien Film', 'Holiday Film', 'Jukebox musical', 'Apocalyptic and post-apocalyptic fiction', 'Action', 'Bengali Cinema', 'Bruceploitation', 'Spaghetti Western', 'Martial Arts Film', 'Monster', 'Revenge', 'Law & Crime', 'Space western', 'Film noir', 'Religious Film', 'Superhero', 'Fairy tale', 'Mondo film', 'Adult', 'Bloopers & Candid Camera', 'Animated Musical', 'Comdedy', 'Media Satire', 'Political drama', 'Sci-Fi Thriller', 'Coming of age', 'Crime Thriller', 'Erotica', 'Horror Comedy', 'Whodunit', 'Tamil cinema', 'Fantasy', 'Stand-up comedy', 'Cavalry Film', 'Documentary', 'Breakdance', 'Education', 'Prison', 'C-Movie', 'Heavenly Comedy', 'Erotic thriller', 'Ealing Comedies', 'Gay Themed', 'Sex comedy', 'Buddy cop', 'Anti-war', 'Educational', 'Blaxploitation', 'Historical drama', 'Comedy of Errors', 'Reboot', 'Creature Film', 'Family Drama', 'Detective fiction', 'Detective', 'Road-Horror', 'Archaeology', 'Absurdism', 'Graphic & Applied Arts', 'Teen', 'Dance', 'Expressionism', 'Hip hop movies', 'Journalism', 'Film à clef', 'Film', 'Albino bias', 'Backstage Musical', 'Road movie', 'Disaster', 'Cult', 'Linguistics', 'Singing cowboy', 'Concert film', 'Costume Horror', 'Travel', 'Fantasy Drama', 'Ensemble Film', 'Comedy horror', 'Feminist Film', 'Prison film', 'Prison escape', 'Tollywood', 'Coming-of-age film', 'Combat Films', 'Humour', 'Master Criminal Films', 'Period Horror', 'Comedy Western', 'Mockumentary', 'Hybrid Western', 'Business', 'Jungle Film', 'Pornography', 'Stop motion', 'Mythological Fantasy', 'Christmas movie', 'Anthology', 'Buddy film', 'Punk rock', 'World History', 'Americana', 'Black-and-white', 'Acid western', 'Culture & Society', 'Inventions & Innovations', 'Supernatural', 'Future noir', 'Gross out', 'Kitchen sink realism', 'Political satire', 'Melodrama', 'Thriller', 'Mumblecore', 'Czechoslovak New Wave', 'Action Thrillers', 'Doomsday film', 'Revisionist Fairy Tale', 'Dogme 95', 'Short Film', 'Anthropology', 'Crime Comedy', 'Action Comedy', 'Japanese Movies', 'Plague', 'Family Film', 'Workplace Comedy', 'Z movie', 'Costume Adventure', 'Sponsored film', 'Horror', 'Samurai cinema', 'Political cinema', 'Avant-garde', 'Gulf War', 'Heist', 'School story', 'Language & Literature', 'Roadshow theatrical release', 'Gay pornography', 'Docudrama', 'New Queer Cinema', 'Adventure', 'Domestic Comedy', 'Existentialism', 'Silhouette animation', 'Medical fiction', \"Children's Entertainment\", 'Musical', 'Health & Fitness', 'History', 'Surrealism', 'Bollywood', 'Historical Epic', 'Sci-Fi Horror', 'Heaven-Can-Wait Fantasies', 'Ninja movie', 'Latino', 'Silent film', 'Music', 'Haunted House Film', 'Suspense', 'Legal drama', 'Environmental Science', 'Early Black Cinema', 'Slice of life story', 'Steampunk', 'B-movie', 'Homoeroticism', 'Pre-Code', 'Instrumental Music', 'Foreign legion', 'Gothic Film', 'Tragedy', 'Hagiography', 'Space opera', 'B-Western', \"Children's Issues\", 'Slapstick', 'Beach Party film', 'Women in prison films', 'Fantasy Adventure', 'Nature', 'Statutory rape', 'Computers', 'Propaganda film', 'Outlaw biker film', 'Caper story', 'Comedy of manners', 'Operetta', 'Outlaw', 'Pornographic movie', 'Film & Television History', 'Media Studies', 'Anti-war film']\n"
     ]
    }
   ],
   "source": [
    "# Testing for outliers contained in the \"genre\" column\n",
    "\n",
    "genres_list_unique = list(set(genres_list))\n",
    "print(genres_list_unique)"
   ]
  },
  {
   "cell_type": "markdown",
   "metadata": {},
   "source": [
    "Important observations of the column 'genre':\n",
    "- There are no NaN's\n",
    "- The genres are very specific, to a point where it can even describe the topic a bit (e.g. 'Cold War', 'Alien Invasion')"
   ]
  },
  {
   "cell_type": "markdown",
   "metadata": {},
   "source": [
    "## 4. Data Pre-Processing"
   ]
  },
  {
   "cell_type": "markdown",
   "metadata": {},
   "source": [
    "--> Data Cleaning (remove Nans and invalid values), merging data if neccessary."
   ]
  },
  {
   "cell_type": "markdown",
   "metadata": {},
   "source": [
    "## 5. \"Films as a mirror of society\" general overview"
   ]
  },
  {
   "cell_type": "markdown",
   "metadata": {},
   "source": [
    "5.1) plot genre of movies against time and against country groups"
   ]
  },
  {
   "cell_type": "markdown",
   "metadata": {},
   "source": [
    "5.2) plot movie box revenues of regions against time. How do we want to take the effect of inflation into account?"
   ]
  },
  {
   "cell_type": "markdown",
   "metadata": {},
   "source": [
    "5.3) plot average number of languages spoken in movies against time for each region."
   ]
  },
  {
   "cell_type": "markdown",
   "metadata": {},
   "source": [
    "5.4) plot percentage of women in movies over time in different regions. How does this plot change when looking at percentage of female main characters?"
   ]
  },
  {
   "cell_type": "markdown",
   "metadata": {},
   "source": [
    "5.5) Plot average age actors over the years and in different regions at movie release date. How does this change if we separate age data based on gender?"
   ]
  },
  {
   "cell_type": "markdown",
   "metadata": {},
   "source": [
    "5.6) Plot average # of ethnicites of characters represented in movies over years in different regions. Does this change when looking at the main character?"
   ]
  },
  {
   "cell_type": "markdown",
   "metadata": {},
   "source": [
    "... Elaborate on further questions mentioned in the readme."
   ]
  },
  {
   "cell_type": "markdown",
   "metadata": {},
   "source": [
    "## 6. Diving into diverse societal events"
   ]
  },
  {
   "cell_type": "markdown",
   "metadata": {},
   "source": [
    "6.1) Creation of a \"word cloud\" for each historical event. What are the most common words used in a plot summary?"
   ]
  },
  {
   "cell_type": "markdown",
   "metadata": {},
   "source": [
    "6.2) Find the typical main character and the typical villain of each era. What adjectives describe them. Find the \"most representative main character/villain\" for each era. "
   ]
  },
  {
   "cell_type": "markdown",
   "metadata": {},
   "source": [
    "--> It might be a good idea to represent the specific interesting findings that we found in the \"general overview\" in the relative time period it was found in. (e.g. higher representation of LGBTQ+ characters may be mentioned in the corresponding era it was found in). Does not really make a lot of sense to mention in the WWII era that we *did not* find a high LGBTQ+ representation (unless of course we surprisingly find one). "
   ]
  },
  {
   "cell_type": "code",
   "execution_count": null,
   "metadata": {},
   "outputs": [],
   "source": []
  }
 ],
 "metadata": {
  "kernelspec": {
   "display_name": "Python3",
   "language": "python",
   "name": "python3"
  },
  "language_info": {
   "codemirror_mode": {
    "name": "ipython",
    "version": 3
   },
   "file_extension": ".py",
   "mimetype": "text/x-python",
   "name": "python",
   "nbconvert_exporter": "python",
   "pygments_lexer": "ipython3",
   "version": "3.11.5"
  }
 },
 "nbformat": 4,
 "nbformat_minor": 4
}
